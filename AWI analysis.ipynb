{
 "cells": [
  {
   "cell_type": "markdown",
   "metadata": {},
   "source": [
    "# Data prep\n"
   ]
  },
  {
   "cell_type": "code",
   "execution_count": 134,
   "metadata": {},
   "outputs": [],
   "source": [
    "import pandas as pd\n",
    "import plotly.express as px"
   ]
  },
  {
   "cell_type": "code",
   "execution_count": 135,
   "metadata": {},
   "outputs": [],
   "source": [
    "df = pd.read_excel('AWI_data_analysis_assessment.xlsm', sheet_name = 'AWI_data_RAW')"
   ]
  },
  {
   "cell_type": "code",
   "execution_count": 136,
   "metadata": {},
   "outputs": [],
   "source": [
    "# Defining functions\n",
    "\n",
    "def check_if_present(FIELD):\n",
    "    if FIELD == 1 or FIELD ==2 or FIELD ==6:\n",
    "        return 1\n",
    "    else:\n",
    "        return 0\n",
    "    \n",
    "def check_if_zero(FIELD):\n",
    "    if FIELD == 0:\n",
    "        return 1\n",
    "    else:\n",
    "        return 0\n",
    "    \n",
    "def check_if_name(FIELD):\n",
    "    if FIELD.strip() == '':\n",
    "        return 0\n",
    "    else:\n",
    "        return 1\n"
   ]
  },
  {
   "cell_type": "code",
   "execution_count": 137,
   "metadata": {},
   "outputs": [],
   "source": [
    "# Columns to check if if parcel has been marked as woodland\n",
    "columns_to_assess = ['TITHE','C19_EM', 'OSD', 'CM_1773', 'C18_EM', 'C17_EM', 'EM','OTHER', 'HE_REF' ]\n",
    "\n",
    "#Loop through each parcel and check if woodland present in source, and if there are any zeros (not woodland)\n",
    "for i in columns_to_assess:\n",
    "    df[f\"present_{i}\"] = df[i].apply(check_if_present)\n",
    "    df[f\"zero_{i}\"] = df[i].apply(check_if_zero)"
   ]
  },
  {
   "cell_type": "code",
   "execution_count": 138,
   "metadata": {},
   "outputs": [],
   "source": [
    "# Combined present to see how many sources show woodland present\n",
    "df['present_combined'] = df['present_TITHE']+df['present_C19_EM'] +df['present_OSD']+df['present_CM_1773'] +df['present_C18_EM']+df['present_C17_EM'] +df['present_EM']+df['present_OTHER'] +df['present_HE_REF']\n",
    "df['present_primary'] = df['present_TITHE'] + df['present_OSD'] + df['present_C17_EM']+df['present_HE_REF']\n",
    "df['present_secondary'] =df['present_C19_EM']+df['present_CM_1773'] +df['present_C18_EM'] +df['present_EM']+df['present_OTHER'] \n",
    "\n",
    "# Combine zero to show how many sources show no woodland present\n",
    "df['zero_combined'] = df['zero_TITHE']+df['zero_C19_EM'] +df['zero_OSD']+df['zero_CM_1773'] +df['zero_C18_EM']+df['zero_C17_EM'] +df['zero_EM']+df['zero_OTHER'] +df['zero_HE_REF']\n",
    "df['zero_primary'] = df['zero_TITHE']+df['zero_OSD']\n",
    "df['zero_secondary'] =  df['zero_C19_EM'] +df['zero_CM_1773'] +df['zero_C18_EM']+df['zero_C17_EM'] +df['zero_EM']+df['zero_OTHER'] +df['zero_HE_REF']\n"
   ]
  },
  {
   "cell_type": "code",
   "execution_count": 140,
   "metadata": {},
   "outputs": [],
   "source": [
    "# Check which parcels are named\n",
    "\n",
    "df['NAME_TITHE'] = df['NAME_TITHE'].astype(str)\n",
    "\n",
    "names_to_assess = ['NAME_TITHE','NAME_EP1', 'NAME_OSD', 'NAME_EM']\n",
    "\n",
    "for i in names_to_assess:\n",
    "    df[f\"present_{i}\"] = df[i].apply(check_if_name)\n",
    "\n",
    "# Combine to get total named sources for parcel    \n",
    "df['name_present'] = df['present_NAME_EM']+df['present_NAME_OSD']+df['present_NAME_EP1'] +df['present_NAME_TITHE']"
   ]
  },
  {
   "cell_type": "markdown",
   "metadata": {},
   "source": [
    "# Decision tree\n"
   ]
  },
  {
   "cell_type": "code",
   "execution_count": 142,
   "metadata": {},
   "outputs": [],
   "source": [
    "\n",
    "df_primary = df[df.present_primary >=1]\n",
    "## A - Ancient woodland\n",
    "df_primary_no_zero = df_primary[df_primary.zero_combined ==0]\n",
    "df_primary_one_zero = df_primary[df_primary.zero_combined ==1]\n",
    "## A - Not ancient woodland \n",
    "df_primary_plural_zero = df_primary[df_primary.zero_combined >1]\n",
    "## B - Ancient woodland\n",
    "df_primary_one_zero_named = df_primary_one_zero[df_primary_one_zero.name_present >=1]\n",
    "## A- Maybe ancient woodland\n",
    "df_primary_one_zero_not_named = df_primary_one_zero[df_primary_one_zero.name_present==0]\n",
    "\n"
   ]
  },
  {
   "cell_type": "code",
   "execution_count": 143,
   "metadata": {},
   "outputs": [],
   "source": [
    "df_secondary = df[(df.present_primary ==0)&(df.present_secondary >=1)]\n",
    "df_no_evidence = df[(df.present_primary ==0)&(df.present_secondary ==0)]\n",
    "\n",
    "## D - Maybe ancient woodland\n",
    "# Contains lots of 3/4's (no map coverage)\n",
    "df_no_evidence_no_zero = df_no_evidence[df_no_evidence.zero_combined ==0]\n",
    "\n",
    "## C - Not ancient woodland\n",
    "df_no_evidence_zero = df_no_evidence[df_no_evidence.zero_combined ==1]"
   ]
  },
  {
   "cell_type": "code",
   "execution_count": 144,
   "metadata": {},
   "outputs": [],
   "source": [
    "df_secondary_no_zero = df_secondary[df_secondary.zero_combined ==0]\n",
    "## C - Ancient woodland \n",
    "df_secondary_no_zero_named = df_secondary_no_zero[df_secondary_no_zero.name_present >=1]\n",
    "## B- Maybe ancient woodland\n",
    "df_secondary_no_zero_not_named  = df_secondary_no_zero[df_secondary_no_zero.name_present ==0]\n",
    "\n",
    "## C - Maybe ancient woodland\n",
    "df_secondary_one_zero = df_secondary[df_secondary.zero_combined ==1]\n",
    "## B - Not ancient woodland\n",
    "df_secondary_plural_zero = df_secondary[df_secondary.zero_combined >1]\n"
   ]
  },
  {
   "cell_type": "code",
   "execution_count": 149,
   "metadata": {},
   "outputs": [
    {
     "ename": "ValueError",
     "evalue": "Mime type rendering requires nbformat>=4.2.0 but it is not installed",
     "output_type": "error",
     "traceback": [
      "\u001b[1;31m---------------------------------------------------------------------------\u001b[0m",
      "\u001b[1;31mValueError\u001b[0m                                Traceback (most recent call last)",
      "Cell \u001b[1;32mIn[149], line 2\u001b[0m\n\u001b[0;32m      1\u001b[0m fig \u001b[38;5;241m=\u001b[39m px\u001b[38;5;241m.\u001b[39mbar(df, x \u001b[38;5;241m=\u001b[39m\u001b[38;5;124m'\u001b[39m\u001b[38;5;124mP3_Status\u001b[39m\u001b[38;5;124m'\u001b[39m, y \u001b[38;5;241m=\u001b[39m \u001b[38;5;124m'\u001b[39m\u001b[38;5;124mzero_combined\u001b[39m\u001b[38;5;124m'\u001b[39m )\n\u001b[1;32m----> 2\u001b[0m \u001b[43mfig\u001b[49m\u001b[38;5;241;43m.\u001b[39;49m\u001b[43mshow\u001b[49m\u001b[43m(\u001b[49m\u001b[43m)\u001b[49m\n",
      "File \u001b[1;32m~\\AppData\\Local\\Packages\\PythonSoftwareFoundation.Python.3.13_qbz5n2kfra8p0\\LocalCache\\local-packages\\Python313\\site-packages\\plotly\\basedatatypes.py:3414\u001b[0m, in \u001b[0;36mBaseFigure.show\u001b[1;34m(self, *args, **kwargs)\u001b[0m\n\u001b[0;32m   3381\u001b[0m \u001b[38;5;250m\u001b[39m\u001b[38;5;124;03m\"\"\"\u001b[39;00m\n\u001b[0;32m   3382\u001b[0m \u001b[38;5;124;03mShow a figure using either the default renderer(s) or the renderer(s)\u001b[39;00m\n\u001b[0;32m   3383\u001b[0m \u001b[38;5;124;03mspecified by the renderer argument\u001b[39;00m\n\u001b[1;32m   (...)\u001b[0m\n\u001b[0;32m   3410\u001b[0m \u001b[38;5;124;03mNone\u001b[39;00m\n\u001b[0;32m   3411\u001b[0m \u001b[38;5;124;03m\"\"\"\u001b[39;00m\n\u001b[0;32m   3412\u001b[0m \u001b[38;5;28;01mimport\u001b[39;00m\u001b[38;5;250m \u001b[39m\u001b[38;5;21;01mplotly\u001b[39;00m\u001b[38;5;21;01m.\u001b[39;00m\u001b[38;5;21;01mio\u001b[39;00m\u001b[38;5;250m \u001b[39m\u001b[38;5;28;01mas\u001b[39;00m\u001b[38;5;250m \u001b[39m\u001b[38;5;21;01mpio\u001b[39;00m\n\u001b[1;32m-> 3414\u001b[0m \u001b[38;5;28;01mreturn\u001b[39;00m \u001b[43mpio\u001b[49m\u001b[38;5;241;43m.\u001b[39;49m\u001b[43mshow\u001b[49m\u001b[43m(\u001b[49m\u001b[38;5;28;43mself\u001b[39;49m\u001b[43m,\u001b[49m\u001b[43m \u001b[49m\u001b[38;5;241;43m*\u001b[39;49m\u001b[43margs\u001b[49m\u001b[43m,\u001b[49m\u001b[43m \u001b[49m\u001b[38;5;241;43m*\u001b[39;49m\u001b[38;5;241;43m*\u001b[39;49m\u001b[43mkwargs\u001b[49m\u001b[43m)\u001b[49m\n",
      "File \u001b[1;32m~\\AppData\\Local\\Packages\\PythonSoftwareFoundation.Python.3.13_qbz5n2kfra8p0\\LocalCache\\local-packages\\Python313\\site-packages\\plotly\\io\\_renderers.py:425\u001b[0m, in \u001b[0;36mshow\u001b[1;34m(fig, renderer, validate, **kwargs)\u001b[0m\n\u001b[0;32m    420\u001b[0m     \u001b[38;5;28;01mraise\u001b[39;00m \u001b[38;5;167;01mValueError\u001b[39;00m(\n\u001b[0;32m    421\u001b[0m         \u001b[38;5;124m\"\u001b[39m\u001b[38;5;124mMime type rendering requires ipython but it is not installed\u001b[39m\u001b[38;5;124m\"\u001b[39m\n\u001b[0;32m    422\u001b[0m     )\n\u001b[0;32m    424\u001b[0m \u001b[38;5;28;01mif\u001b[39;00m \u001b[38;5;129;01mnot\u001b[39;00m nbformat \u001b[38;5;129;01mor\u001b[39;00m Version(nbformat\u001b[38;5;241m.\u001b[39m__version__) \u001b[38;5;241m<\u001b[39m Version(\u001b[38;5;124m\"\u001b[39m\u001b[38;5;124m4.2.0\u001b[39m\u001b[38;5;124m\"\u001b[39m):\n\u001b[1;32m--> 425\u001b[0m     \u001b[38;5;28;01mraise\u001b[39;00m \u001b[38;5;167;01mValueError\u001b[39;00m(\n\u001b[0;32m    426\u001b[0m         \u001b[38;5;124m\"\u001b[39m\u001b[38;5;124mMime type rendering requires nbformat>=4.2.0 but it is not installed\u001b[39m\u001b[38;5;124m\"\u001b[39m\n\u001b[0;32m    427\u001b[0m     )\n\u001b[0;32m    429\u001b[0m display_jupyter_version_warnings()\n\u001b[0;32m    431\u001b[0m ipython_display\u001b[38;5;241m.\u001b[39mdisplay(bundle, raw\u001b[38;5;241m=\u001b[39m\u001b[38;5;28;01mTrue\u001b[39;00m)\n",
      "\u001b[1;31mValueError\u001b[0m: Mime type rendering requires nbformat>=4.2.0 but it is not installed"
     ]
    }
   ],
   "source": [
    "fig = px.bar(df, x ='P3_Status', y = 'zero_combined' )\n",
    "fig.show()"
   ]
  },
  {
   "cell_type": "code",
   "execution_count": 146,
   "metadata": {},
   "outputs": [
    {
     "data": {
      "text/plain": [
       "Index(['NAME_OS', 'NAME_EP1', 'P3_UID', 'P3_IGNORE', 'C21_AP', 'EPOCH_2',\n",
       "       'EPOCH_1', 'C20_AP', 'C20_AP_REF', 'TITHE_REF', 'C19_EM', 'C19_EM_REF',\n",
       "       'OSD', 'OSD_REF', 'CM_1773', 'C18_EM', 'C18_EM_REF', 'C17_EM',\n",
       "       'C17_EM_REF', 'EM', 'EM_REF', 'OTHER', 'OTHER_REF', 'NAME_TITHE',\n",
       "       'NAME_OSD', 'NAME_EM', 'TITHE_REF_', 'TITHE_LAND', 'TITHE_PLOT',\n",
       "       'TITHE_PL_1', 'COMMENTS', 'url', 'OSNAMES_UR', 'CHECK_NAME',\n",
       "       'TO_CHECK_N', 'NOTES', 'LISTED_BUI', 'LISTED_PAR', 'P2_CLASS',\n",
       "       'P3_CLASS', 'P3_Status', 'TITHE', 'GlobalID_1', 'EARLIEST_E', 'RESERVE',\n",
       "       'FORESTRY', 'SURVEY_PRI', 'ACTION', 'SITE_ID', 'AreaHa', 'NAME',\n",
       "       'Shape_Leng', 'OBJECTID_1', 'HE_REF', 'Shape_Area_1', 'Shape_Length',\n",
       "       'Shape_Area', 'present_TITHE', 'zero_TITHE', 'present_C19_EM',\n",
       "       'zero_C19_EM', 'present_OSD', 'zero_OSD', 'present_CM_1773',\n",
       "       'zero_CM_1773', 'present_C18_EM', 'zero_C18_EM', 'present_C17_EM',\n",
       "       'zero_C17_EM', 'present_EM', 'zero_EM', 'present_OTHER', 'zero_OTHER',\n",
       "       'present_HE_REF', 'zero_HE_REF', 'present_combined', 'present_primary',\n",
       "       'present_secondary', 'zero_combined', 'zero_primary', 'zero_secondary',\n",
       "       'present_NAME_TITHE', 'present_NAME_EP1', 'present_NAME_OSD',\n",
       "       'present_NAME_EM', 'name_present'],\n",
       "      dtype='object')"
      ]
     },
     "execution_count": 146,
     "metadata": {},
     "output_type": "execute_result"
    }
   ],
   "source": [
    "df.columns"
   ]
  },
  {
   "cell_type": "code",
   "execution_count": null,
   "metadata": {},
   "outputs": [],
   "source": []
  }
 ],
 "metadata": {
  "kernelspec": {
   "display_name": "Python 3",
   "language": "python",
   "name": "python3"
  },
  "language_info": {
   "codemirror_mode": {
    "name": "ipython",
    "version": 3
   },
   "file_extension": ".py",
   "mimetype": "text/x-python",
   "name": "python",
   "nbconvert_exporter": "python",
   "pygments_lexer": "ipython3",
   "version": "3.13.2"
  }
 },
 "nbformat": 4,
 "nbformat_minor": 2
}
