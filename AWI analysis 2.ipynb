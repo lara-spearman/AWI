{
 "cells": [
  {
   "cell_type": "markdown",
   "metadata": {},
   "source": [
    "# Data prep\n"
   ]
  },
  {
   "cell_type": "code",
   "execution_count": 1,
   "metadata": {},
   "outputs": [],
   "source": [
    "import pandas as pd\n",
    "import plotly.express as px\n",
    "import plotly.graph_objects as go\n",
    "import geopandas as gpd\n",
    "pd.set_option('display.max_columns', None)"
   ]
  },
  {
   "cell_type": "code",
   "execution_count": null,
   "metadata": {},
   "outputs": [
    {
     "name": "stderr",
     "output_type": "stream",
     "text": [
      "C:\\Users\\WSBRCvol\\AppData\\Local\\Packages\\PythonSoftwareFoundation.Python.3.13_qbz5n2kfra8p0\\LocalCache\\local-packages\\Python313\\site-packages\\geopandas\\geodataframe.py:1819: SettingWithCopyWarning:\n",
      "\n",
      "\n",
      "A value is trying to be set on a copy of a slice from a DataFrame.\n",
      "Try using .loc[row_indexer,col_indexer] = value instead\n",
      "\n",
      "See the caveats in the documentation: https://pandas.pydata.org/pandas-docs/stable/user_guide/indexing.html#returning-a-view-versus-a-copy\n",
      "\n"
     ]
    }
   ],
   "source": [
    "#Read in old AWI\n",
    "gdf_old = gpd.read_file(\"../Old_AWI_Wilts/Old_AWI_Wilts.shp\")\n",
    "# Updated AWI\n",
    "gdf_new = gpd.read_file(\"../New_AWI_Wilts/AWI_sources_updated_5_resolved.shp\")\n",
    "gdf_new_reduced = gdf_new[['NAME_OS', 'NAME_EP1', 'P3_UID', 'P3_IGNORE', 'C21_AP', 'EPOCH_2',\n",
    "       'EPOCH_1', 'C20_AP', 'C20_AP_REF', 'TITHE_REF', 'C19_EM', 'C19_EM_REF',\n",
    "       'OSD', 'OSD_REF', 'CM_1773', 'C18_EM', 'C18_EM_REF', 'C17_EM',\n",
    "       'C17_EM_REF', 'EM', 'EM_REF', 'OTHER', 'OTHER_REF', 'NAME_TITHE',\n",
    "       'NAME_OSD', 'NAME_EM', 'TITHE_REF_', 'TITHE_LAND', 'TITHE_PLOT',\n",
    "       'TITHE_PL_1', 'COMMENTS', 'url', 'OSNAMES_UR', 'CHECK_NAME',\n",
    "       'TO_CHECK_N', 'NOTES', 'LISTED_BUI', 'LISTED_PAR', 'P2_CLASS',\n",
    "       'P3_CLASS', 'P3_Status', 'TITHE', 'GlobalID_1', 'EARLIEST_E', 'RESERVE',\n",
    "       'FORESTRY', 'SURVEY_PRI', 'ACTION', 'SITE_ID', 'AreaHa', 'NAME',\n",
    "       'Shape_Leng', 'OBJECTID_1', 'HE_REF', 'geometry']]\n",
    "#Find intersections where old AWI is in same place as new AWI\n",
    "gdf_new_reduced['intersects_old_AWI'] = gdf_new_reduced.geometry.apply(lambda x: gdf_old.geometry.intersects(x).any())\n"
   ]
  },
  {
   "cell_type": "code",
   "execution_count": 157,
   "metadata": {},
   "outputs": [],
   "source": [
    "#df = pd.read_excel('O:/NaturalEngland/Ancient Woodland Inventory Update/Analysis/AWI_data_analysis_assessment.xlsm', sheet_name = 'AWI_data_RAW')\n",
    "df = gdf_new_reduced.copy()"
   ]
  },
  {
   "cell_type": "code",
   "execution_count": 158,
   "metadata": {},
   "outputs": [],
   "source": [
    "# Defining functions\n",
    "def check_if_assessed(FIELD):\n",
    "    if FIELD == 3 or FIELD ==4 or FIELD ==5:\n",
    "        return 0\n",
    "    else:\n",
    "        return 1\n",
    "\n",
    "def check_if_present(FIELD):\n",
    "    if FIELD == 1 or FIELD ==2 or FIELD ==6:\n",
    "        return 1\n",
    "    else:\n",
    "        return 0\n",
    "    \n",
    "def check_if_zero(FIELD):\n",
    "    if FIELD == 0:\n",
    "        return 1\n",
    "    else:\n",
    "        return 0\n",
    "    \n",
    "def check_if_name(FIELD):\n",
    "    if FIELD.strip() == '' or FIELD == 'None':\n",
    "        return 0\n",
    "    else:\n",
    "        return 1\n"
   ]
  },
  {
   "cell_type": "code",
   "execution_count": 161,
   "metadata": {},
   "outputs": [],
   "source": [
    "# Columns to check if if parcel has been marked as woodland\n",
    "columns_to_assess = ['TITHE','C19_EM', 'OSD', 'CM_1773', 'C18_EM', 'C17_EM', 'EM','OTHER' ]\n",
    "\n",
    "#Loop through each parcel and create new column showing if woodland present in source, and if source is zero (not woodland)\n",
    "for i in columns_to_assess:\n",
    "    df[f\"present_{i}\"] = df[i].apply(check_if_present)\n",
    "    df[f\"zero_{i}\"] = df[i].apply(check_if_zero)\n",
    "    df[f\"assessed_{i}\"] = df[i].apply(check_if_assessed)\n",
    "\n",
    "df[\"assessed_HE_REF\"] = df['HE_REF'].apply(check_if_name)"
   ]
  },
  {
   "cell_type": "code",
   "execution_count": 162,
   "metadata": {},
   "outputs": [],
   "source": [
    "# Check which parcels are named\n",
    "\n",
    "df['NAME_TITHE'] = df['NAME_TITHE'].astype(str)\n",
    "\n",
    "names_to_assess = ['NAME_TITHE','NAME_EP1', 'NAME_OSD', 'NAME_EM', 'HE_REF']\n",
    "# Add column showing which parcels are named in source\n",
    "for i in names_to_assess:\n",
    "    df[i] = df[i].astype(str)\n",
    "    df[f\"present_{i}\"] = df[i].apply(check_if_name)\n",
    "\n",
    "# Combine to get total named sources for parcel    \n",
    "df['name_present'] = df['present_NAME_EM']+df['present_NAME_OSD']+df['present_NAME_EP1'] +df['present_NAME_TITHE']"
   ]
  },
  {
   "cell_type": "code",
   "execution_count": 164,
   "metadata": {},
   "outputs": [],
   "source": [
    "# Combine columns showing woodland present to see how many sources show woodland present\n",
    "df['present_combined'] = df['present_TITHE']+df['present_C19_EM'] +df['present_OSD']+df['present_CM_1773'] +df['present_C18_EM']+df['present_C17_EM'] +df['present_EM']+df['present_OTHER'] +df['present_HE_REF']\n",
    "df['present_primary'] = df['present_TITHE'] + df['present_OSD'] +df['present_HE_REF']+df['present_CM_1773']\n",
    "df['present_secondary'] =df['present_C19_EM'] +df['present_C18_EM'] +df['present_EM']+df['present_OTHER'] + df['present_C17_EM']\n",
    "\n",
    "# Combine columns showing if zero present to show how many sources show no woodland present\n",
    "df['zero_combined'] = df['zero_TITHE']+df['zero_C19_EM'] +df['zero_OSD']+df['zero_CM_1773'] +df['zero_C18_EM']+df['zero_C17_EM'] +df['zero_EM']+df['zero_OTHER'] \n",
    "df['zero_primary'] = df['zero_TITHE']+df['zero_OSD']+df['zero_CM_1773'] \n",
    "df['zero_secondary'] =  df['zero_C19_EM'] +df['zero_C18_EM']+df['zero_C17_EM'] +df['zero_EM']+df['zero_OTHER']\n",
    "\n",
    "df['assessed_primary'] = df['assessed_TITHE'] + df['assessed_OSD'] +df['assessed_HE_REF']+df['assessed_CM_1773']\n"
   ]
  },
  {
   "cell_type": "code",
   "execution_count": 170,
   "metadata": {},
   "outputs": [
    {
     "data": {
      "text/html": [
       "<div>\n",
       "<style scoped>\n",
       "    .dataframe tbody tr th:only-of-type {\n",
       "        vertical-align: middle;\n",
       "    }\n",
       "\n",
       "    .dataframe tbody tr th {\n",
       "        vertical-align: top;\n",
       "    }\n",
       "\n",
       "    .dataframe thead th {\n",
       "        text-align: right;\n",
       "    }\n",
       "</style>\n",
       "<table border=\"1\" class=\"dataframe\">\n",
       "  <thead>\n",
       "    <tr style=\"text-align: right;\">\n",
       "      <th></th>\n",
       "      <th>NAME_OS</th>\n",
       "      <th>NAME_EP1</th>\n",
       "      <th>P3_UID</th>\n",
       "      <th>P3_IGNORE</th>\n",
       "      <th>C21_AP</th>\n",
       "      <th>EPOCH_2</th>\n",
       "      <th>EPOCH_1</th>\n",
       "      <th>C20_AP</th>\n",
       "      <th>C20_AP_REF</th>\n",
       "      <th>TITHE_REF</th>\n",
       "      <th>C19_EM</th>\n",
       "      <th>C19_EM_REF</th>\n",
       "      <th>OSD</th>\n",
       "      <th>OSD_REF</th>\n",
       "      <th>CM_1773</th>\n",
       "      <th>C18_EM</th>\n",
       "      <th>C18_EM_REF</th>\n",
       "      <th>C17_EM</th>\n",
       "      <th>C17_EM_REF</th>\n",
       "      <th>EM</th>\n",
       "      <th>EM_REF</th>\n",
       "      <th>OTHER</th>\n",
       "      <th>OTHER_REF</th>\n",
       "      <th>NAME_TITHE</th>\n",
       "      <th>NAME_OSD</th>\n",
       "      <th>NAME_EM</th>\n",
       "      <th>TITHE_REF_</th>\n",
       "      <th>TITHE_LAND</th>\n",
       "      <th>TITHE_PLOT</th>\n",
       "      <th>TITHE_PL_1</th>\n",
       "      <th>COMMENTS</th>\n",
       "      <th>url</th>\n",
       "      <th>OSNAMES_UR</th>\n",
       "      <th>CHECK_NAME</th>\n",
       "      <th>TO_CHECK_N</th>\n",
       "      <th>NOTES</th>\n",
       "      <th>LISTED_BUI</th>\n",
       "      <th>LISTED_PAR</th>\n",
       "      <th>P2_CLASS</th>\n",
       "      <th>P3_CLASS</th>\n",
       "      <th>P3_Status</th>\n",
       "      <th>TITHE</th>\n",
       "      <th>GlobalID_1</th>\n",
       "      <th>EARLIEST_E</th>\n",
       "      <th>RESERVE</th>\n",
       "      <th>FORESTRY</th>\n",
       "      <th>SURVEY_PRI</th>\n",
       "      <th>ACTION</th>\n",
       "      <th>SITE_ID</th>\n",
       "      <th>AreaHa</th>\n",
       "      <th>NAME</th>\n",
       "      <th>Shape_Leng</th>\n",
       "      <th>OBJECTID_1</th>\n",
       "      <th>HE_REF</th>\n",
       "      <th>geometry</th>\n",
       "      <th>intersects_old_AWI</th>\n",
       "      <th>present_TITHE</th>\n",
       "      <th>zero_TITHE</th>\n",
       "      <th>assessed_TITHE</th>\n",
       "      <th>present_C19_EM</th>\n",
       "      <th>zero_C19_EM</th>\n",
       "      <th>assessed_C19_EM</th>\n",
       "      <th>present_OSD</th>\n",
       "      <th>zero_OSD</th>\n",
       "      <th>assessed_OSD</th>\n",
       "      <th>present_CM_1773</th>\n",
       "      <th>zero_CM_1773</th>\n",
       "      <th>assessed_CM_1773</th>\n",
       "      <th>present_C18_EM</th>\n",
       "      <th>zero_C18_EM</th>\n",
       "      <th>assessed_C18_EM</th>\n",
       "      <th>present_C17_EM</th>\n",
       "      <th>zero_C17_EM</th>\n",
       "      <th>assessed_C17_EM</th>\n",
       "      <th>present_EM</th>\n",
       "      <th>zero_EM</th>\n",
       "      <th>assessed_EM</th>\n",
       "      <th>present_OTHER</th>\n",
       "      <th>zero_OTHER</th>\n",
       "      <th>assessed_OTHER</th>\n",
       "      <th>present_NAME_TITHE</th>\n",
       "      <th>present_NAME_EP1</th>\n",
       "      <th>present_NAME_OSD</th>\n",
       "      <th>present_NAME_EM</th>\n",
       "      <th>present_HE_REF</th>\n",
       "      <th>name_present</th>\n",
       "      <th>assessed_HE_REF</th>\n",
       "      <th>present_combined</th>\n",
       "      <th>present_primary</th>\n",
       "      <th>present_secondary</th>\n",
       "      <th>zero_combined</th>\n",
       "      <th>zero_primary</th>\n",
       "      <th>zero_secondary</th>\n",
       "      <th>assessed_primary</th>\n",
       "    </tr>\n",
       "  </thead>\n",
       "  <tbody>\n",
       "    <tr>\n",
       "      <th>1</th>\n",
       "      <td>None</td>\n",
       "      <td>None</td>\n",
       "      <td>WiltsAWI_01964_01</td>\n",
       "      <td>1</td>\n",
       "      <td>1</td>\n",
       "      <td>5</td>\n",
       "      <td>6</td>\n",
       "      <td>5</td>\n",
       "      <td>None</td>\n",
       "      <td>Preshute</td>\n",
       "      <td>5</td>\n",
       "      <td>None</td>\n",
       "      <td>2</td>\n",
       "      <td>None</td>\n",
       "      <td>0</td>\n",
       "      <td>5</td>\n",
       "      <td>None</td>\n",
       "      <td>5</td>\n",
       "      <td>None</td>\n",
       "      <td>5</td>\n",
       "      <td>None</td>\n",
       "      <td>5</td>\n",
       "      <td>None</td>\n",
       "      <td>Granham Down</td>\n",
       "      <td>None</td>\n",
       "      <td>None</td>\n",
       "      <td>NO</td>\n",
       "      <td>-</td>\n",
       "      <td>274</td>\n",
       "      <td>3</td>\n",
       "      <td>Tithe: too narrow to be WP</td>\n",
       "      <td>None</td>\n",
       "      <td>None</td>\n",
       "      <td>1</td>\n",
       "      <td>1</td>\n",
       "      <td>None</td>\n",
       "      <td>0</td>\n",
       "      <td>0</td>\n",
       "      <td>POT</td>\n",
       "      <td>R</td>\n",
       "      <td>WOOD</td>\n",
       "      <td>0</td>\n",
       "      <td>{162AE381-650D-48DA-80FC-99EDAEFF8F60}</td>\n",
       "      <td>C19-Late</td>\n",
       "      <td>None</td>\n",
       "      <td>None</td>\n",
       "      <td>0</td>\n",
       "      <td>0</td>\n",
       "      <td>CWS_SU16.051</td>\n",
       "      <td>1.109747</td>\n",
       "      <td>Granham Down</td>\n",
       "      <td>994.517300</td>\n",
       "      <td>627</td>\n",
       "      <td>1300/46bH</td>\n",
       "      <td>POLYGON ((418107.02 167993.37, 418098.12 16799...</td>\n",
       "      <td>False</td>\n",
       "      <td>0</td>\n",
       "      <td>1</td>\n",
       "      <td>1</td>\n",
       "      <td>0</td>\n",
       "      <td>0</td>\n",
       "      <td>0</td>\n",
       "      <td>1</td>\n",
       "      <td>0</td>\n",
       "      <td>1</td>\n",
       "      <td>0</td>\n",
       "      <td>1</td>\n",
       "      <td>1</td>\n",
       "      <td>0</td>\n",
       "      <td>0</td>\n",
       "      <td>0</td>\n",
       "      <td>0</td>\n",
       "      <td>0</td>\n",
       "      <td>0</td>\n",
       "      <td>0</td>\n",
       "      <td>0</td>\n",
       "      <td>0</td>\n",
       "      <td>0</td>\n",
       "      <td>0</td>\n",
       "      <td>0</td>\n",
       "      <td>1</td>\n",
       "      <td>0</td>\n",
       "      <td>0</td>\n",
       "      <td>0</td>\n",
       "      <td>1</td>\n",
       "      <td>1</td>\n",
       "      <td>1</td>\n",
       "      <td>2</td>\n",
       "      <td>2</td>\n",
       "      <td>0</td>\n",
       "      <td>2</td>\n",
       "      <td>2</td>\n",
       "      <td>0</td>\n",
       "      <td>4</td>\n",
       "    </tr>\n",
       "    <tr>\n",
       "      <th>5</th>\n",
       "      <td>Savernake Forest</td>\n",
       "      <td>None</td>\n",
       "      <td>WiltsAWI_02622_01</td>\n",
       "      <td>1</td>\n",
       "      <td>1</td>\n",
       "      <td>5</td>\n",
       "      <td>1</td>\n",
       "      <td>5</td>\n",
       "      <td>None</td>\n",
       "      <td>NA</td>\n",
       "      <td>5</td>\n",
       "      <td>None</td>\n",
       "      <td>2</td>\n",
       "      <td>None</td>\n",
       "      <td>2</td>\n",
       "      <td>0</td>\n",
       "      <td>EstateMap_Savernake_1300-360H</td>\n",
       "      <td>5</td>\n",
       "      <td>None</td>\n",
       "      <td>5</td>\n",
       "      <td>EstateMap_Savernake_1300-360H</td>\n",
       "      <td>5</td>\n",
       "      <td>None</td>\n",
       "      <td>None</td>\n",
       "      <td>None</td>\n",
       "      <td>None</td>\n",
       "      <td>NA</td>\n",
       "      <td>None</td>\n",
       "      <td>None</td>\n",
       "      <td>None</td>\n",
       "      <td>None</td>\n",
       "      <td>None</td>\n",
       "      <td>http://data.ordnancesurvey.co.uk/id/4000000074...</td>\n",
       "      <td>1</td>\n",
       "      <td>1</td>\n",
       "      <td>None</td>\n",
       "      <td>0</td>\n",
       "      <td>0</td>\n",
       "      <td>POT</td>\n",
       "      <td>R</td>\n",
       "      <td>WOOD</td>\n",
       "      <td>1</td>\n",
       "      <td>{5DB83524-BD06-4E0E-A52F-731851B2F1CA}</td>\n",
       "      <td>C19-Late</td>\n",
       "      <td>None</td>\n",
       "      <td>None</td>\n",
       "      <td>0</td>\n",
       "      <td>0</td>\n",
       "      <td>SITE_0958</td>\n",
       "      <td>0.263408</td>\n",
       "      <td>Savernake Forest</td>\n",
       "      <td>336.195698</td>\n",
       "      <td>830</td>\n",
       "      <td>1300/360</td>\n",
       "      <td>POLYGON ((423350.056 164337.362, 423345.413 16...</td>\n",
       "      <td>False</td>\n",
       "      <td>1</td>\n",
       "      <td>0</td>\n",
       "      <td>1</td>\n",
       "      <td>0</td>\n",
       "      <td>0</td>\n",
       "      <td>0</td>\n",
       "      <td>1</td>\n",
       "      <td>0</td>\n",
       "      <td>1</td>\n",
       "      <td>1</td>\n",
       "      <td>0</td>\n",
       "      <td>1</td>\n",
       "      <td>0</td>\n",
       "      <td>1</td>\n",
       "      <td>1</td>\n",
       "      <td>0</td>\n",
       "      <td>0</td>\n",
       "      <td>0</td>\n",
       "      <td>0</td>\n",
       "      <td>0</td>\n",
       "      <td>0</td>\n",
       "      <td>0</td>\n",
       "      <td>0</td>\n",
       "      <td>0</td>\n",
       "      <td>0</td>\n",
       "      <td>0</td>\n",
       "      <td>0</td>\n",
       "      <td>0</td>\n",
       "      <td>1</td>\n",
       "      <td>0</td>\n",
       "      <td>1</td>\n",
       "      <td>4</td>\n",
       "      <td>4</td>\n",
       "      <td>0</td>\n",
       "      <td>1</td>\n",
       "      <td>0</td>\n",
       "      <td>1</td>\n",
       "      <td>4</td>\n",
       "    </tr>\n",
       "    <tr>\n",
       "      <th>14</th>\n",
       "      <td>None</td>\n",
       "      <td>None</td>\n",
       "      <td>WiltsAWI_02000_01</td>\n",
       "      <td>0</td>\n",
       "      <td>1</td>\n",
       "      <td>5</td>\n",
       "      <td>2</td>\n",
       "      <td>5</td>\n",
       "      <td>None</td>\n",
       "      <td>Savernake</td>\n",
       "      <td>5</td>\n",
       "      <td>None</td>\n",
       "      <td>0</td>\n",
       "      <td>None</td>\n",
       "      <td>6</td>\n",
       "      <td>5</td>\n",
       "      <td>None</td>\n",
       "      <td>5</td>\n",
       "      <td>None</td>\n",
       "      <td>5</td>\n",
       "      <td>None</td>\n",
       "      <td>5</td>\n",
       "      <td>None</td>\n",
       "      <td>Brick Kiln Mead</td>\n",
       "      <td>None</td>\n",
       "      <td>None</td>\n",
       "      <td>NO</td>\n",
       "      <td>Pasture</td>\n",
       "      <td>117</td>\n",
       "      <td>3</td>\n",
       "      <td>None</td>\n",
       "      <td>None</td>\n",
       "      <td>None</td>\n",
       "      <td>0</td>\n",
       "      <td>0</td>\n",
       "      <td>None</td>\n",
       "      <td>0</td>\n",
       "      <td>0</td>\n",
       "      <td>DQ</td>\n",
       "      <td>INF</td>\n",
       "      <td>INF</td>\n",
       "      <td>0</td>\n",
       "      <td>{04F37689-F77C-40FB-8211-B30E6408BDC1}</td>\n",
       "      <td>C19-Late</td>\n",
       "      <td>None</td>\n",
       "      <td>None</td>\n",
       "      <td>0</td>\n",
       "      <td>0</td>\n",
       "      <td>SITE_0843</td>\n",
       "      <td>0.121618</td>\n",
       "      <td>Brick Kiln Mead</td>\n",
       "      <td>154.845226</td>\n",
       "      <td>637</td>\n",
       "      <td>1300/375L</td>\n",
       "      <td>POLYGON ((419604.16 167846.71, 419603.02 16784...</td>\n",
       "      <td>True</td>\n",
       "      <td>0</td>\n",
       "      <td>1</td>\n",
       "      <td>1</td>\n",
       "      <td>0</td>\n",
       "      <td>0</td>\n",
       "      <td>0</td>\n",
       "      <td>0</td>\n",
       "      <td>1</td>\n",
       "      <td>1</td>\n",
       "      <td>1</td>\n",
       "      <td>0</td>\n",
       "      <td>1</td>\n",
       "      <td>0</td>\n",
       "      <td>0</td>\n",
       "      <td>0</td>\n",
       "      <td>0</td>\n",
       "      <td>0</td>\n",
       "      <td>0</td>\n",
       "      <td>0</td>\n",
       "      <td>0</td>\n",
       "      <td>0</td>\n",
       "      <td>0</td>\n",
       "      <td>0</td>\n",
       "      <td>0</td>\n",
       "      <td>1</td>\n",
       "      <td>0</td>\n",
       "      <td>0</td>\n",
       "      <td>0</td>\n",
       "      <td>1</td>\n",
       "      <td>1</td>\n",
       "      <td>1</td>\n",
       "      <td>2</td>\n",
       "      <td>2</td>\n",
       "      <td>0</td>\n",
       "      <td>2</td>\n",
       "      <td>2</td>\n",
       "      <td>0</td>\n",
       "      <td>4</td>\n",
       "    </tr>\n",
       "    <tr>\n",
       "      <th>20</th>\n",
       "      <td>None</td>\n",
       "      <td>None</td>\n",
       "      <td>WiltsAWI_04365_06</td>\n",
       "      <td>1</td>\n",
       "      <td>1</td>\n",
       "      <td>5</td>\n",
       "      <td>1</td>\n",
       "      <td>5</td>\n",
       "      <td>None</td>\n",
       "      <td>Warminster</td>\n",
       "      <td>5</td>\n",
       "      <td>None</td>\n",
       "      <td>0</td>\n",
       "      <td>None</td>\n",
       "      <td>0</td>\n",
       "      <td>5</td>\n",
       "      <td>None</td>\n",
       "      <td>5</td>\n",
       "      <td>None</td>\n",
       "      <td>5</td>\n",
       "      <td>None</td>\n",
       "      <td>5</td>\n",
       "      <td>None</td>\n",
       "      <td>Field &amp; Road</td>\n",
       "      <td>None</td>\n",
       "      <td>None</td>\n",
       "      <td>NO</td>\n",
       "      <td>Road &amp; Pasture</td>\n",
       "      <td>1738</td>\n",
       "      <td>3</td>\n",
       "      <td>None</td>\n",
       "      <td>None</td>\n",
       "      <td>None</td>\n",
       "      <td>0</td>\n",
       "      <td>1</td>\n",
       "      <td>None</td>\n",
       "      <td>0</td>\n",
       "      <td>0</td>\n",
       "      <td>POT</td>\n",
       "      <td>R</td>\n",
       "      <td>PAWS</td>\n",
       "      <td>0</td>\n",
       "      <td>{F91BDFFB-BCFB-4B92-84C2-4450D210091C}</td>\n",
       "      <td>C19-Late</td>\n",
       "      <td>None</td>\n",
       "      <td>None</td>\n",
       "      <td>0</td>\n",
       "      <td>0</td>\n",
       "      <td>SITE_1718</td>\n",
       "      <td>0.981584</td>\n",
       "      <td>Field &amp; Road</td>\n",
       "      <td>480.340928</td>\n",
       "      <td>976</td>\n",
       "      <td>1332/3/2/3/11H</td>\n",
       "      <td>POLYGON ((385682.03 143615.41, 385660.17 14359...</td>\n",
       "      <td>False</td>\n",
       "      <td>0</td>\n",
       "      <td>1</td>\n",
       "      <td>1</td>\n",
       "      <td>0</td>\n",
       "      <td>0</td>\n",
       "      <td>0</td>\n",
       "      <td>0</td>\n",
       "      <td>1</td>\n",
       "      <td>1</td>\n",
       "      <td>0</td>\n",
       "      <td>1</td>\n",
       "      <td>1</td>\n",
       "      <td>0</td>\n",
       "      <td>0</td>\n",
       "      <td>0</td>\n",
       "      <td>0</td>\n",
       "      <td>0</td>\n",
       "      <td>0</td>\n",
       "      <td>0</td>\n",
       "      <td>0</td>\n",
       "      <td>0</td>\n",
       "      <td>0</td>\n",
       "      <td>0</td>\n",
       "      <td>0</td>\n",
       "      <td>1</td>\n",
       "      <td>0</td>\n",
       "      <td>0</td>\n",
       "      <td>0</td>\n",
       "      <td>1</td>\n",
       "      <td>1</td>\n",
       "      <td>1</td>\n",
       "      <td>1</td>\n",
       "      <td>1</td>\n",
       "      <td>0</td>\n",
       "      <td>3</td>\n",
       "      <td>3</td>\n",
       "      <td>0</td>\n",
       "      <td>4</td>\n",
       "    </tr>\n",
       "    <tr>\n",
       "      <th>23</th>\n",
       "      <td>None</td>\n",
       "      <td>None</td>\n",
       "      <td>WiltsAWI_04709_01</td>\n",
       "      <td>0</td>\n",
       "      <td>1</td>\n",
       "      <td>5</td>\n",
       "      <td>6</td>\n",
       "      <td>5</td>\n",
       "      <td>None</td>\n",
       "      <td>Maiden Bradley</td>\n",
       "      <td>5</td>\n",
       "      <td>None</td>\n",
       "      <td>1</td>\n",
       "      <td>None</td>\n",
       "      <td>0</td>\n",
       "      <td>5</td>\n",
       "      <td>None</td>\n",
       "      <td>5</td>\n",
       "      <td>None</td>\n",
       "      <td>5</td>\n",
       "      <td>None</td>\n",
       "      <td>5</td>\n",
       "      <td>None</td>\n",
       "      <td>Little Common</td>\n",
       "      <td>None</td>\n",
       "      <td>None</td>\n",
       "      <td>NO</td>\n",
       "      <td>Pasture</td>\n",
       "      <td>216</td>\n",
       "      <td>3</td>\n",
       "      <td>None</td>\n",
       "      <td>None</td>\n",
       "      <td>None</td>\n",
       "      <td>0</td>\n",
       "      <td>1</td>\n",
       "      <td>None</td>\n",
       "      <td>0</td>\n",
       "      <td>0</td>\n",
       "      <td>POT</td>\n",
       "      <td>INF</td>\n",
       "      <td>INF</td>\n",
       "      <td>0</td>\n",
       "      <td>{5D99D6ED-9CF8-4D2D-A2F9-19F6ECC65060}</td>\n",
       "      <td>C19-Late</td>\n",
       "      <td>None</td>\n",
       "      <td>None</td>\n",
       "      <td>0</td>\n",
       "      <td>0</td>\n",
       "      <td>SITE_1829</td>\n",
       "      <td>0.197259</td>\n",
       "      <td>Little Common</td>\n",
       "      <td>232.032589</td>\n",
       "      <td>1067</td>\n",
       "      <td>2056/1/2H</td>\n",
       "      <td>POLYGON ((378564.769 139259.389, 378469.57 139...</td>\n",
       "      <td>False</td>\n",
       "      <td>0</td>\n",
       "      <td>1</td>\n",
       "      <td>1</td>\n",
       "      <td>0</td>\n",
       "      <td>0</td>\n",
       "      <td>0</td>\n",
       "      <td>1</td>\n",
       "      <td>0</td>\n",
       "      <td>1</td>\n",
       "      <td>0</td>\n",
       "      <td>1</td>\n",
       "      <td>1</td>\n",
       "      <td>0</td>\n",
       "      <td>0</td>\n",
       "      <td>0</td>\n",
       "      <td>0</td>\n",
       "      <td>0</td>\n",
       "      <td>0</td>\n",
       "      <td>0</td>\n",
       "      <td>0</td>\n",
       "      <td>0</td>\n",
       "      <td>0</td>\n",
       "      <td>0</td>\n",
       "      <td>0</td>\n",
       "      <td>1</td>\n",
       "      <td>0</td>\n",
       "      <td>0</td>\n",
       "      <td>0</td>\n",
       "      <td>1</td>\n",
       "      <td>1</td>\n",
       "      <td>1</td>\n",
       "      <td>2</td>\n",
       "      <td>2</td>\n",
       "      <td>0</td>\n",
       "      <td>2</td>\n",
       "      <td>2</td>\n",
       "      <td>0</td>\n",
       "      <td>4</td>\n",
       "    </tr>\n",
       "    <tr>\n",
       "      <th>...</th>\n",
       "      <td>...</td>\n",
       "      <td>...</td>\n",
       "      <td>...</td>\n",
       "      <td>...</td>\n",
       "      <td>...</td>\n",
       "      <td>...</td>\n",
       "      <td>...</td>\n",
       "      <td>...</td>\n",
       "      <td>...</td>\n",
       "      <td>...</td>\n",
       "      <td>...</td>\n",
       "      <td>...</td>\n",
       "      <td>...</td>\n",
       "      <td>...</td>\n",
       "      <td>...</td>\n",
       "      <td>...</td>\n",
       "      <td>...</td>\n",
       "      <td>...</td>\n",
       "      <td>...</td>\n",
       "      <td>...</td>\n",
       "      <td>...</td>\n",
       "      <td>...</td>\n",
       "      <td>...</td>\n",
       "      <td>...</td>\n",
       "      <td>...</td>\n",
       "      <td>...</td>\n",
       "      <td>...</td>\n",
       "      <td>...</td>\n",
       "      <td>...</td>\n",
       "      <td>...</td>\n",
       "      <td>...</td>\n",
       "      <td>...</td>\n",
       "      <td>...</td>\n",
       "      <td>...</td>\n",
       "      <td>...</td>\n",
       "      <td>...</td>\n",
       "      <td>...</td>\n",
       "      <td>...</td>\n",
       "      <td>...</td>\n",
       "      <td>...</td>\n",
       "      <td>...</td>\n",
       "      <td>...</td>\n",
       "      <td>...</td>\n",
       "      <td>...</td>\n",
       "      <td>...</td>\n",
       "      <td>...</td>\n",
       "      <td>...</td>\n",
       "      <td>...</td>\n",
       "      <td>...</td>\n",
       "      <td>...</td>\n",
       "      <td>...</td>\n",
       "      <td>...</td>\n",
       "      <td>...</td>\n",
       "      <td>...</td>\n",
       "      <td>...</td>\n",
       "      <td>...</td>\n",
       "      <td>...</td>\n",
       "      <td>...</td>\n",
       "      <td>...</td>\n",
       "      <td>...</td>\n",
       "      <td>...</td>\n",
       "      <td>...</td>\n",
       "      <td>...</td>\n",
       "      <td>...</td>\n",
       "      <td>...</td>\n",
       "      <td>...</td>\n",
       "      <td>...</td>\n",
       "      <td>...</td>\n",
       "      <td>...</td>\n",
       "      <td>...</td>\n",
       "      <td>...</td>\n",
       "      <td>...</td>\n",
       "      <td>...</td>\n",
       "      <td>...</td>\n",
       "      <td>...</td>\n",
       "      <td>...</td>\n",
       "      <td>...</td>\n",
       "      <td>...</td>\n",
       "      <td>...</td>\n",
       "      <td>...</td>\n",
       "      <td>...</td>\n",
       "      <td>...</td>\n",
       "      <td>...</td>\n",
       "      <td>...</td>\n",
       "      <td>...</td>\n",
       "      <td>...</td>\n",
       "      <td>...</td>\n",
       "      <td>...</td>\n",
       "      <td>...</td>\n",
       "      <td>...</td>\n",
       "      <td>...</td>\n",
       "      <td>...</td>\n",
       "      <td>...</td>\n",
       "      <td>...</td>\n",
       "    </tr>\n",
       "    <tr>\n",
       "      <th>6841</th>\n",
       "      <td>Horse Grove, Wraxall Park, Cullimer's Wood</td>\n",
       "      <td>Wraxall Park / Horse Gorse</td>\n",
       "      <td>WiltsAWI_01021_01</td>\n",
       "      <td>0</td>\n",
       "      <td>1</td>\n",
       "      <td>5</td>\n",
       "      <td>1</td>\n",
       "      <td>1</td>\n",
       "      <td>ge</td>\n",
       "      <td>North Wraxall</td>\n",
       "      <td>1</td>\n",
       "      <td>EstateMap_NorthWraxall_135-21</td>\n",
       "      <td>2</td>\n",
       "      <td>Malmesbury</td>\n",
       "      <td>2</td>\n",
       "      <td>2</td>\n",
       "      <td>EstateMap_NorthWraxall_2203-23</td>\n",
       "      <td>5</td>\n",
       "      <td>None</td>\n",
       "      <td>5</td>\n",
       "      <td>None</td>\n",
       "      <td>5</td>\n",
       "      <td>None</td>\n",
       "      <td>Horse Grove Wood||Wraxall Park</td>\n",
       "      <td>None</td>\n",
       "      <td>259: Horse Grove Wood||248: Wraxall Wood</td>\n",
       "      <td>NO</td>\n",
       "      <td>Wood||Wood</td>\n",
       "      <td>75||76</td>\n",
       "      <td>None</td>\n",
       "      <td>None</td>\n",
       "      <td>None</td>\n",
       "      <td>http://data.ordnancesurvey.co.uk/id/4000000074...</td>\n",
       "      <td>1</td>\n",
       "      <td>1</td>\n",
       "      <td>None</td>\n",
       "      <td>0</td>\n",
       "      <td>0</td>\n",
       "      <td>PRE</td>\n",
       "      <td>SPLIT</td>\n",
       "      <td>PAWS</td>\n",
       "      <td>1</td>\n",
       "      <td>{A16586B6-1158-4742-9459-2D1FBCF7A62D}</td>\n",
       "      <td>C18</td>\n",
       "      <td>None</td>\n",
       "      <td>None</td>\n",
       "      <td>0</td>\n",
       "      <td>0</td>\n",
       "      <td>CWS_ST87.064</td>\n",
       "      <td>6.224356</td>\n",
       "      <td>Horse Grove, Wraxall Park, Cullimer's Wood</td>\n",
       "      <td>1192.770350</td>\n",
       "      <td>427</td>\n",
       "      <td>2203/23H, 135/21L</td>\n",
       "      <td>POLYGON ((383089.213 175843.384, 383078.775 17...</td>\n",
       "      <td>True</td>\n",
       "      <td>1</td>\n",
       "      <td>0</td>\n",
       "      <td>1</td>\n",
       "      <td>1</td>\n",
       "      <td>0</td>\n",
       "      <td>1</td>\n",
       "      <td>1</td>\n",
       "      <td>0</td>\n",
       "      <td>1</td>\n",
       "      <td>1</td>\n",
       "      <td>0</td>\n",
       "      <td>1</td>\n",
       "      <td>1</td>\n",
       "      <td>0</td>\n",
       "      <td>1</td>\n",
       "      <td>0</td>\n",
       "      <td>0</td>\n",
       "      <td>0</td>\n",
       "      <td>0</td>\n",
       "      <td>0</td>\n",
       "      <td>0</td>\n",
       "      <td>0</td>\n",
       "      <td>0</td>\n",
       "      <td>0</td>\n",
       "      <td>1</td>\n",
       "      <td>1</td>\n",
       "      <td>0</td>\n",
       "      <td>1</td>\n",
       "      <td>1</td>\n",
       "      <td>3</td>\n",
       "      <td>1</td>\n",
       "      <td>6</td>\n",
       "      <td>4</td>\n",
       "      <td>2</td>\n",
       "      <td>0</td>\n",
       "      <td>0</td>\n",
       "      <td>0</td>\n",
       "      <td>4</td>\n",
       "    </tr>\n",
       "    <tr>\n",
       "      <th>6857</th>\n",
       "      <td>Balaam's Wood</td>\n",
       "      <td>None</td>\n",
       "      <td>WiltsAWI_01274_01</td>\n",
       "      <td>0</td>\n",
       "      <td>1</td>\n",
       "      <td>5</td>\n",
       "      <td>1</td>\n",
       "      <td>5</td>\n",
       "      <td>None</td>\n",
       "      <td>Ramsbury</td>\n",
       "      <td>5</td>\n",
       "      <td>None</td>\n",
       "      <td>1</td>\n",
       "      <td>Swindon</td>\n",
       "      <td>0</td>\n",
       "      <td>5</td>\n",
       "      <td>None</td>\n",
       "      <td>5</td>\n",
       "      <td>None</td>\n",
       "      <td>5</td>\n",
       "      <td>None</td>\n",
       "      <td>5</td>\n",
       "      <td>None</td>\n",
       "      <td>Wood</td>\n",
       "      <td>None</td>\n",
       "      <td>None</td>\n",
       "      <td>NO</td>\n",
       "      <td>Wood</td>\n",
       "      <td>126</td>\n",
       "      <td>3||1||0</td>\n",
       "      <td>None</td>\n",
       "      <td>None</td>\n",
       "      <td>http://data.ordnancesurvey.co.uk/id/4000000074...</td>\n",
       "      <td>1</td>\n",
       "      <td>1</td>\n",
       "      <td>None</td>\n",
       "      <td>0</td>\n",
       "      <td>0</td>\n",
       "      <td>PRE</td>\n",
       "      <td>WOOD</td>\n",
       "      <td>PAWS</td>\n",
       "      <td>1</td>\n",
       "      <td>{6AFBD669-B757-4683-B8B1-9F8EE78A7807}</td>\n",
       "      <td>C19-Early</td>\n",
       "      <td>None</td>\n",
       "      <td>None</td>\n",
       "      <td>0</td>\n",
       "      <td>0</td>\n",
       "      <td>CWS_SU37.004</td>\n",
       "      <td>0.858216</td>\n",
       "      <td>Balaam's Wood</td>\n",
       "      <td>440.827802</td>\n",
       "      <td>479</td>\n",
       "      <td>3202/11L, 2027/2/4/1/6, 3202/77L</td>\n",
       "      <td>POLYGON ((430068.64 172588.42, 430068.99 17258...</td>\n",
       "      <td>True</td>\n",
       "      <td>1</td>\n",
       "      <td>0</td>\n",
       "      <td>1</td>\n",
       "      <td>0</td>\n",
       "      <td>0</td>\n",
       "      <td>0</td>\n",
       "      <td>1</td>\n",
       "      <td>0</td>\n",
       "      <td>1</td>\n",
       "      <td>0</td>\n",
       "      <td>1</td>\n",
       "      <td>1</td>\n",
       "      <td>0</td>\n",
       "      <td>0</td>\n",
       "      <td>0</td>\n",
       "      <td>0</td>\n",
       "      <td>0</td>\n",
       "      <td>0</td>\n",
       "      <td>0</td>\n",
       "      <td>0</td>\n",
       "      <td>0</td>\n",
       "      <td>0</td>\n",
       "      <td>0</td>\n",
       "      <td>0</td>\n",
       "      <td>1</td>\n",
       "      <td>0</td>\n",
       "      <td>0</td>\n",
       "      <td>0</td>\n",
       "      <td>1</td>\n",
       "      <td>1</td>\n",
       "      <td>1</td>\n",
       "      <td>3</td>\n",
       "      <td>3</td>\n",
       "      <td>0</td>\n",
       "      <td>1</td>\n",
       "      <td>1</td>\n",
       "      <td>0</td>\n",
       "      <td>4</td>\n",
       "    </tr>\n",
       "    <tr>\n",
       "      <th>6872</th>\n",
       "      <td>Trindledown Copse</td>\n",
       "      <td>None</td>\n",
       "      <td>WiltsAWI_02129_01</td>\n",
       "      <td>0</td>\n",
       "      <td>1</td>\n",
       "      <td>5</td>\n",
       "      <td>1</td>\n",
       "      <td>1</td>\n",
       "      <td>GX10096_SK_Exposure36</td>\n",
       "      <td>Froxfield</td>\n",
       "      <td>5</td>\n",
       "      <td>None</td>\n",
       "      <td>2</td>\n",
       "      <td>Hungerford</td>\n",
       "      <td>0</td>\n",
       "      <td>5</td>\n",
       "      <td>None</td>\n",
       "      <td>5</td>\n",
       "      <td>None</td>\n",
       "      <td>5</td>\n",
       "      <td>None</td>\n",
       "      <td>5</td>\n",
       "      <td>None</td>\n",
       "      <td>Trindle Coppice</td>\n",
       "      <td>None</td>\n",
       "      <td>None</td>\n",
       "      <td>NO</td>\n",
       "      <td>-</td>\n",
       "      <td>224</td>\n",
       "      <td>1</td>\n",
       "      <td>None</td>\n",
       "      <td>None</td>\n",
       "      <td>http://data.ordnancesurvey.co.uk/id/4000000074...</td>\n",
       "      <td>1</td>\n",
       "      <td>1</td>\n",
       "      <td>None</td>\n",
       "      <td>0</td>\n",
       "      <td>0</td>\n",
       "      <td>PRE</td>\n",
       "      <td>SPLIT</td>\n",
       "      <td>PAWS</td>\n",
       "      <td>1</td>\n",
       "      <td>{75C9DC9A-FCBC-49CC-8E34-CDFC837305B6}</td>\n",
       "      <td>C19-Early</td>\n",
       "      <td>None</td>\n",
       "      <td>None</td>\n",
       "      <td>0</td>\n",
       "      <td>0</td>\n",
       "      <td>CWS_SU36.004</td>\n",
       "      <td>0.443325</td>\n",
       "      <td>Trindledown Copse</td>\n",
       "      <td>292.087259</td>\n",
       "      <td>676</td>\n",
       "      <td>3202/11L, 3202/77L</td>\n",
       "      <td>POLYGON ((430626.87 167052.3, 430621.152 16703...</td>\n",
       "      <td>True</td>\n",
       "      <td>1</td>\n",
       "      <td>0</td>\n",
       "      <td>1</td>\n",
       "      <td>0</td>\n",
       "      <td>0</td>\n",
       "      <td>0</td>\n",
       "      <td>1</td>\n",
       "      <td>0</td>\n",
       "      <td>1</td>\n",
       "      <td>0</td>\n",
       "      <td>1</td>\n",
       "      <td>1</td>\n",
       "      <td>0</td>\n",
       "      <td>0</td>\n",
       "      <td>0</td>\n",
       "      <td>0</td>\n",
       "      <td>0</td>\n",
       "      <td>0</td>\n",
       "      <td>0</td>\n",
       "      <td>0</td>\n",
       "      <td>0</td>\n",
       "      <td>0</td>\n",
       "      <td>0</td>\n",
       "      <td>0</td>\n",
       "      <td>1</td>\n",
       "      <td>0</td>\n",
       "      <td>0</td>\n",
       "      <td>0</td>\n",
       "      <td>1</td>\n",
       "      <td>1</td>\n",
       "      <td>1</td>\n",
       "      <td>3</td>\n",
       "      <td>3</td>\n",
       "      <td>0</td>\n",
       "      <td>1</td>\n",
       "      <td>1</td>\n",
       "      <td>0</td>\n",
       "      <td>4</td>\n",
       "    </tr>\n",
       "    <tr>\n",
       "      <th>6873</th>\n",
       "      <td>Coombs Wood</td>\n",
       "      <td>None</td>\n",
       "      <td>WiltsAWI_01176_01</td>\n",
       "      <td>0</td>\n",
       "      <td>1</td>\n",
       "      <td>5</td>\n",
       "      <td>1</td>\n",
       "      <td>5</td>\n",
       "      <td>None</td>\n",
       "      <td>Colerne</td>\n",
       "      <td>5</td>\n",
       "      <td>None</td>\n",
       "      <td>0</td>\n",
       "      <td>Malmesbury</td>\n",
       "      <td>0</td>\n",
       "      <td>5</td>\n",
       "      <td>None</td>\n",
       "      <td>5</td>\n",
       "      <td>None</td>\n",
       "      <td>5</td>\n",
       "      <td>None</td>\n",
       "      <td>5</td>\n",
       "      <td>None</td>\n",
       "      <td>Wood||Plantation||Brake||Rickettss Hill</td>\n",
       "      <td>None</td>\n",
       "      <td>None</td>\n",
       "      <td>NO</td>\n",
       "      <td>-||-||Wood||Arable</td>\n",
       "      <td>786||789||806||807</td>\n",
       "      <td>1||1||1||0</td>\n",
       "      <td>None</td>\n",
       "      <td>None</td>\n",
       "      <td>http://data.ordnancesurvey.co.uk/id/4000000074...</td>\n",
       "      <td>1</td>\n",
       "      <td>1</td>\n",
       "      <td>None</td>\n",
       "      <td>0</td>\n",
       "      <td>0</td>\n",
       "      <td>POT</td>\n",
       "      <td>SPLIT</td>\n",
       "      <td>WOOD</td>\n",
       "      <td>2</td>\n",
       "      <td>{9FDF7217-F242-47AF-A719-B825AF4CA224}</td>\n",
       "      <td>C19-Mid</td>\n",
       "      <td>None</td>\n",
       "      <td>None</td>\n",
       "      <td>0</td>\n",
       "      <td>0</td>\n",
       "      <td>CWS_ST87.093</td>\n",
       "      <td>0.861685</td>\n",
       "      <td>Coombs Wood</td>\n",
       "      <td>716.649067</td>\n",
       "      <td>462</td>\n",
       "      <td>137/126, 631/32H</td>\n",
       "      <td>POLYGON ((383918 173657.57, 383911.64 173660.6...</td>\n",
       "      <td>True</td>\n",
       "      <td>1</td>\n",
       "      <td>0</td>\n",
       "      <td>1</td>\n",
       "      <td>0</td>\n",
       "      <td>0</td>\n",
       "      <td>0</td>\n",
       "      <td>0</td>\n",
       "      <td>1</td>\n",
       "      <td>1</td>\n",
       "      <td>0</td>\n",
       "      <td>1</td>\n",
       "      <td>1</td>\n",
       "      <td>0</td>\n",
       "      <td>0</td>\n",
       "      <td>0</td>\n",
       "      <td>0</td>\n",
       "      <td>0</td>\n",
       "      <td>0</td>\n",
       "      <td>0</td>\n",
       "      <td>0</td>\n",
       "      <td>0</td>\n",
       "      <td>0</td>\n",
       "      <td>0</td>\n",
       "      <td>0</td>\n",
       "      <td>1</td>\n",
       "      <td>0</td>\n",
       "      <td>0</td>\n",
       "      <td>0</td>\n",
       "      <td>1</td>\n",
       "      <td>1</td>\n",
       "      <td>1</td>\n",
       "      <td>2</td>\n",
       "      <td>2</td>\n",
       "      <td>0</td>\n",
       "      <td>2</td>\n",
       "      <td>2</td>\n",
       "      <td>0</td>\n",
       "      <td>4</td>\n",
       "    </tr>\n",
       "    <tr>\n",
       "      <th>6877</th>\n",
       "      <td>None</td>\n",
       "      <td>Norton Farm</td>\n",
       "      <td>WiltsAWI_00405_01</td>\n",
       "      <td>1</td>\n",
       "      <td>1</td>\n",
       "      <td>5</td>\n",
       "      <td>1</td>\n",
       "      <td>1</td>\n",
       "      <td>ge</td>\n",
       "      <td>Norton Coleparte</td>\n",
       "      <td>5</td>\n",
       "      <td>None</td>\n",
       "      <td>0</td>\n",
       "      <td>Malmesbury</td>\n",
       "      <td>0</td>\n",
       "      <td>5</td>\n",
       "      <td>None</td>\n",
       "      <td>5</td>\n",
       "      <td>None</td>\n",
       "      <td>5</td>\n",
       "      <td>None</td>\n",
       "      <td>5</td>\n",
       "      <td>None</td>\n",
       "      <td>Crab Orchard||Skilling Close</td>\n",
       "      <td>None</td>\n",
       "      <td>None</td>\n",
       "      <td>NO</td>\n",
       "      <td>Pasture||Pasture</td>\n",
       "      <td>26||29</td>\n",
       "      <td>0||3</td>\n",
       "      <td>Tithe: too narrow for wood-pasture</td>\n",
       "      <td>None</td>\n",
       "      <td>None</td>\n",
       "      <td>1</td>\n",
       "      <td>1</td>\n",
       "      <td>None</td>\n",
       "      <td>0</td>\n",
       "      <td>0</td>\n",
       "      <td>POT</td>\n",
       "      <td>R</td>\n",
       "      <td>WOOD</td>\n",
       "      <td>0</td>\n",
       "      <td>{1C0B6434-9FB8-4D0C-9783-C0C9B483AF63}</td>\n",
       "      <td>C19-Late</td>\n",
       "      <td>None</td>\n",
       "      <td>None</td>\n",
       "      <td>0</td>\n",
       "      <td>0</td>\n",
       "      <td>SITE_0187</td>\n",
       "      <td>0.226516</td>\n",
       "      <td>Norton Farm</td>\n",
       "      <td>290.130950</td>\n",
       "      <td>292</td>\n",
       "      <td>212A/27/48</td>\n",
       "      <td>POLYGON ((388637.144 184486.618, 388646.5 1844...</td>\n",
       "      <td>False</td>\n",
       "      <td>0</td>\n",
       "      <td>1</td>\n",
       "      <td>1</td>\n",
       "      <td>0</td>\n",
       "      <td>0</td>\n",
       "      <td>0</td>\n",
       "      <td>0</td>\n",
       "      <td>1</td>\n",
       "      <td>1</td>\n",
       "      <td>0</td>\n",
       "      <td>1</td>\n",
       "      <td>1</td>\n",
       "      <td>0</td>\n",
       "      <td>0</td>\n",
       "      <td>0</td>\n",
       "      <td>0</td>\n",
       "      <td>0</td>\n",
       "      <td>0</td>\n",
       "      <td>0</td>\n",
       "      <td>0</td>\n",
       "      <td>0</td>\n",
       "      <td>0</td>\n",
       "      <td>0</td>\n",
       "      <td>0</td>\n",
       "      <td>1</td>\n",
       "      <td>1</td>\n",
       "      <td>0</td>\n",
       "      <td>0</td>\n",
       "      <td>1</td>\n",
       "      <td>2</td>\n",
       "      <td>1</td>\n",
       "      <td>1</td>\n",
       "      <td>1</td>\n",
       "      <td>0</td>\n",
       "      <td>3</td>\n",
       "      <td>3</td>\n",
       "      <td>0</td>\n",
       "      <td>4</td>\n",
       "    </tr>\n",
       "  </tbody>\n",
       "</table>\n",
       "<p>400 rows × 94 columns</p>\n",
       "</div>"
      ],
      "text/plain": [
       "                                         NAME_OS                    NAME_EP1  \\\n",
       "1                                           None                        None   \n",
       "5                               Savernake Forest                        None   \n",
       "14                                          None                        None   \n",
       "20                                          None                        None   \n",
       "23                                          None                        None   \n",
       "...                                          ...                         ...   \n",
       "6841  Horse Grove, Wraxall Park, Cullimer's Wood  Wraxall Park / Horse Gorse   \n",
       "6857                               Balaam's Wood                        None   \n",
       "6872                           Trindledown Copse                        None   \n",
       "6873                                 Coombs Wood                        None   \n",
       "6877                                        None                 Norton Farm   \n",
       "\n",
       "                 P3_UID  P3_IGNORE  C21_AP  EPOCH_2  EPOCH_1  C20_AP  \\\n",
       "1     WiltsAWI_01964_01          1       1        5        6       5   \n",
       "5     WiltsAWI_02622_01          1       1        5        1       5   \n",
       "14    WiltsAWI_02000_01          0       1        5        2       5   \n",
       "20    WiltsAWI_04365_06          1       1        5        1       5   \n",
       "23    WiltsAWI_04709_01          0       1        5        6       5   \n",
       "...                 ...        ...     ...      ...      ...     ...   \n",
       "6841  WiltsAWI_01021_01          0       1        5        1       1   \n",
       "6857  WiltsAWI_01274_01          0       1        5        1       5   \n",
       "6872  WiltsAWI_02129_01          0       1        5        1       1   \n",
       "6873  WiltsAWI_01176_01          0       1        5        1       5   \n",
       "6877  WiltsAWI_00405_01          1       1        5        1       1   \n",
       "\n",
       "                 C20_AP_REF         TITHE_REF  C19_EM  \\\n",
       "1                      None          Preshute       5   \n",
       "5                      None                NA       5   \n",
       "14                     None         Savernake       5   \n",
       "20                     None        Warminster       5   \n",
       "23                     None    Maiden Bradley       5   \n",
       "...                     ...               ...     ...   \n",
       "6841                     ge     North Wraxall       1   \n",
       "6857                   None          Ramsbury       5   \n",
       "6872  GX10096_SK_Exposure36         Froxfield       5   \n",
       "6873                   None           Colerne       5   \n",
       "6877                     ge  Norton Coleparte       5   \n",
       "\n",
       "                         C19_EM_REF  OSD     OSD_REF  CM_1773  C18_EM  \\\n",
       "1                              None    2        None        0       5   \n",
       "5                              None    2        None        2       0   \n",
       "14                             None    0        None        6       5   \n",
       "20                             None    0        None        0       5   \n",
       "23                             None    1        None        0       5   \n",
       "...                             ...  ...         ...      ...     ...   \n",
       "6841  EstateMap_NorthWraxall_135-21    2  Malmesbury        2       2   \n",
       "6857                           None    1     Swindon        0       5   \n",
       "6872                           None    2  Hungerford        0       5   \n",
       "6873                           None    0  Malmesbury        0       5   \n",
       "6877                           None    0  Malmesbury        0       5   \n",
       "\n",
       "                          C18_EM_REF  C17_EM C17_EM_REF  EM  \\\n",
       "1                               None       5       None   5   \n",
       "5      EstateMap_Savernake_1300-360H       5       None   5   \n",
       "14                              None       5       None   5   \n",
       "20                              None       5       None   5   \n",
       "23                              None       5       None   5   \n",
       "...                              ...     ...        ...  ..   \n",
       "6841  EstateMap_NorthWraxall_2203-23       5       None   5   \n",
       "6857                            None       5       None   5   \n",
       "6872                            None       5       None   5   \n",
       "6873                            None       5       None   5   \n",
       "6877                            None       5       None   5   \n",
       "\n",
       "                             EM_REF  OTHER OTHER_REF  \\\n",
       "1                              None      5      None   \n",
       "5     EstateMap_Savernake_1300-360H      5      None   \n",
       "14                             None      5      None   \n",
       "20                             None      5      None   \n",
       "23                             None      5      None   \n",
       "...                             ...    ...       ...   \n",
       "6841                           None      5      None   \n",
       "6857                           None      5      None   \n",
       "6872                           None      5      None   \n",
       "6873                           None      5      None   \n",
       "6877                           None      5      None   \n",
       "\n",
       "                                   NAME_TITHE NAME_OSD  \\\n",
       "1                                Granham Down     None   \n",
       "5                                        None     None   \n",
       "14                            Brick Kiln Mead     None   \n",
       "20                               Field & Road     None   \n",
       "23                              Little Common     None   \n",
       "...                                       ...      ...   \n",
       "6841           Horse Grove Wood||Wraxall Park     None   \n",
       "6857                                     Wood     None   \n",
       "6872                          Trindle Coppice     None   \n",
       "6873  Wood||Plantation||Brake||Rickettss Hill     None   \n",
       "6877             Crab Orchard||Skilling Close     None   \n",
       "\n",
       "                                       NAME_EM TITHE_REF_          TITHE_LAND  \\\n",
       "1                                         None         NO                   -   \n",
       "5                                         None         NA                None   \n",
       "14                                        None         NO             Pasture   \n",
       "20                                        None         NO      Road & Pasture   \n",
       "23                                        None         NO             Pasture   \n",
       "...                                        ...        ...                 ...   \n",
       "6841  259: Horse Grove Wood||248: Wraxall Wood         NO          Wood||Wood   \n",
       "6857                                      None         NO                Wood   \n",
       "6872                                      None         NO                   -   \n",
       "6873                                      None         NO  -||-||Wood||Arable   \n",
       "6877                                      None         NO    Pasture||Pasture   \n",
       "\n",
       "              TITHE_PLOT  TITHE_PL_1                            COMMENTS  \\\n",
       "1                    274           3          Tithe: too narrow to be WP   \n",
       "5                   None        None                                None   \n",
       "14                   117           3                                None   \n",
       "20                  1738           3                                None   \n",
       "23                   216           3                                None   \n",
       "...                  ...         ...                                 ...   \n",
       "6841              75||76        None                                None   \n",
       "6857                 126     3||1||0                                None   \n",
       "6872                 224           1                                None   \n",
       "6873  786||789||806||807  1||1||1||0                                None   \n",
       "6877              26||29        0||3  Tithe: too narrow for wood-pasture   \n",
       "\n",
       "       url                                         OSNAMES_UR  CHECK_NAME  \\\n",
       "1     None                                               None           1   \n",
       "5     None  http://data.ordnancesurvey.co.uk/id/4000000074...           1   \n",
       "14    None                                               None           0   \n",
       "20    None                                               None           0   \n",
       "23    None                                               None           0   \n",
       "...    ...                                                ...         ...   \n",
       "6841  None  http://data.ordnancesurvey.co.uk/id/4000000074...           1   \n",
       "6857  None  http://data.ordnancesurvey.co.uk/id/4000000074...           1   \n",
       "6872  None  http://data.ordnancesurvey.co.uk/id/4000000074...           1   \n",
       "6873  None  http://data.ordnancesurvey.co.uk/id/4000000074...           1   \n",
       "6877  None                                               None           1   \n",
       "\n",
       "      TO_CHECK_N NOTES  LISTED_BUI  LISTED_PAR P2_CLASS P3_CLASS P3_Status  \\\n",
       "1              1  None           0           0      POT        R      WOOD   \n",
       "5              1  None           0           0      POT        R      WOOD   \n",
       "14             0  None           0           0       DQ      INF       INF   \n",
       "20             1  None           0           0      POT        R      PAWS   \n",
       "23             1  None           0           0      POT      INF       INF   \n",
       "...          ...   ...         ...         ...      ...      ...       ...   \n",
       "6841           1  None           0           0      PRE    SPLIT      PAWS   \n",
       "6857           1  None           0           0      PRE     WOOD      PAWS   \n",
       "6872           1  None           0           0      PRE    SPLIT      PAWS   \n",
       "6873           1  None           0           0      POT    SPLIT      WOOD   \n",
       "6877           1  None           0           0      POT        R      WOOD   \n",
       "\n",
       "      TITHE                              GlobalID_1 EARLIEST_E RESERVE  \\\n",
       "1         0  {162AE381-650D-48DA-80FC-99EDAEFF8F60}   C19-Late    None   \n",
       "5         1  {5DB83524-BD06-4E0E-A52F-731851B2F1CA}   C19-Late    None   \n",
       "14        0  {04F37689-F77C-40FB-8211-B30E6408BDC1}   C19-Late    None   \n",
       "20        0  {F91BDFFB-BCFB-4B92-84C2-4450D210091C}   C19-Late    None   \n",
       "23        0  {5D99D6ED-9CF8-4D2D-A2F9-19F6ECC65060}   C19-Late    None   \n",
       "...     ...                                     ...        ...     ...   \n",
       "6841      1  {A16586B6-1158-4742-9459-2D1FBCF7A62D}        C18    None   \n",
       "6857      1  {6AFBD669-B757-4683-B8B1-9F8EE78A7807}  C19-Early    None   \n",
       "6872      1  {75C9DC9A-FCBC-49CC-8E34-CDFC837305B6}  C19-Early    None   \n",
       "6873      2  {9FDF7217-F242-47AF-A719-B825AF4CA224}    C19-Mid    None   \n",
       "6877      0  {1C0B6434-9FB8-4D0C-9783-C0C9B483AF63}   C19-Late    None   \n",
       "\n",
       "     FORESTRY  SURVEY_PRI  ACTION       SITE_ID    AreaHa  \\\n",
       "1        None           0       0  CWS_SU16.051  1.109747   \n",
       "5        None           0       0     SITE_0958  0.263408   \n",
       "14       None           0       0     SITE_0843  0.121618   \n",
       "20       None           0       0     SITE_1718  0.981584   \n",
       "23       None           0       0     SITE_1829  0.197259   \n",
       "...       ...         ...     ...           ...       ...   \n",
       "6841     None           0       0  CWS_ST87.064  6.224356   \n",
       "6857     None           0       0  CWS_SU37.004  0.858216   \n",
       "6872     None           0       0  CWS_SU36.004  0.443325   \n",
       "6873     None           0       0  CWS_ST87.093  0.861685   \n",
       "6877     None           0       0     SITE_0187  0.226516   \n",
       "\n",
       "                                            NAME   Shape_Leng  OBJECTID_1  \\\n",
       "1                                   Granham Down   994.517300         627   \n",
       "5                               Savernake Forest   336.195698         830   \n",
       "14                               Brick Kiln Mead   154.845226         637   \n",
       "20                                  Field & Road   480.340928         976   \n",
       "23                                 Little Common   232.032589        1067   \n",
       "...                                          ...          ...         ...   \n",
       "6841  Horse Grove, Wraxall Park, Cullimer's Wood  1192.770350         427   \n",
       "6857                               Balaam's Wood   440.827802         479   \n",
       "6872                           Trindledown Copse   292.087259         676   \n",
       "6873                                 Coombs Wood   716.649067         462   \n",
       "6877                                 Norton Farm   290.130950         292   \n",
       "\n",
       "                                HE_REF  \\\n",
       "1                            1300/46bH   \n",
       "5                             1300/360   \n",
       "14                           1300/375L   \n",
       "20                      1332/3/2/3/11H   \n",
       "23                           2056/1/2H   \n",
       "...                                ...   \n",
       "6841                 2203/23H, 135/21L   \n",
       "6857  3202/11L, 2027/2/4/1/6, 3202/77L   \n",
       "6872                3202/11L, 3202/77L   \n",
       "6873                  137/126, 631/32H   \n",
       "6877                        212A/27/48   \n",
       "\n",
       "                                               geometry  intersects_old_AWI  \\\n",
       "1     POLYGON ((418107.02 167993.37, 418098.12 16799...               False   \n",
       "5     POLYGON ((423350.056 164337.362, 423345.413 16...               False   \n",
       "14    POLYGON ((419604.16 167846.71, 419603.02 16784...                True   \n",
       "20    POLYGON ((385682.03 143615.41, 385660.17 14359...               False   \n",
       "23    POLYGON ((378564.769 139259.389, 378469.57 139...               False   \n",
       "...                                                 ...                 ...   \n",
       "6841  POLYGON ((383089.213 175843.384, 383078.775 17...                True   \n",
       "6857  POLYGON ((430068.64 172588.42, 430068.99 17258...                True   \n",
       "6872  POLYGON ((430626.87 167052.3, 430621.152 16703...                True   \n",
       "6873  POLYGON ((383918 173657.57, 383911.64 173660.6...                True   \n",
       "6877  POLYGON ((388637.144 184486.618, 388646.5 1844...               False   \n",
       "\n",
       "      present_TITHE  zero_TITHE  assessed_TITHE  present_C19_EM  zero_C19_EM  \\\n",
       "1                 0           1               1               0            0   \n",
       "5                 1           0               1               0            0   \n",
       "14                0           1               1               0            0   \n",
       "20                0           1               1               0            0   \n",
       "23                0           1               1               0            0   \n",
       "...             ...         ...             ...             ...          ...   \n",
       "6841              1           0               1               1            0   \n",
       "6857              1           0               1               0            0   \n",
       "6872              1           0               1               0            0   \n",
       "6873              1           0               1               0            0   \n",
       "6877              0           1               1               0            0   \n",
       "\n",
       "      assessed_C19_EM  present_OSD  zero_OSD  assessed_OSD  present_CM_1773  \\\n",
       "1                   0            1         0             1                0   \n",
       "5                   0            1         0             1                1   \n",
       "14                  0            0         1             1                1   \n",
       "20                  0            0         1             1                0   \n",
       "23                  0            1         0             1                0   \n",
       "...               ...          ...       ...           ...              ...   \n",
       "6841                1            1         0             1                1   \n",
       "6857                0            1         0             1                0   \n",
       "6872                0            1         0             1                0   \n",
       "6873                0            0         1             1                0   \n",
       "6877                0            0         1             1                0   \n",
       "\n",
       "      zero_CM_1773  assessed_CM_1773  present_C18_EM  zero_C18_EM  \\\n",
       "1                1                 1               0            0   \n",
       "5                0                 1               0            1   \n",
       "14               0                 1               0            0   \n",
       "20               1                 1               0            0   \n",
       "23               1                 1               0            0   \n",
       "...            ...               ...             ...          ...   \n",
       "6841             0                 1               1            0   \n",
       "6857             1                 1               0            0   \n",
       "6872             1                 1               0            0   \n",
       "6873             1                 1               0            0   \n",
       "6877             1                 1               0            0   \n",
       "\n",
       "      assessed_C18_EM  present_C17_EM  zero_C17_EM  assessed_C17_EM  \\\n",
       "1                   0               0            0                0   \n",
       "5                   1               0            0                0   \n",
       "14                  0               0            0                0   \n",
       "20                  0               0            0                0   \n",
       "23                  0               0            0                0   \n",
       "...               ...             ...          ...              ...   \n",
       "6841                1               0            0                0   \n",
       "6857                0               0            0                0   \n",
       "6872                0               0            0                0   \n",
       "6873                0               0            0                0   \n",
       "6877                0               0            0                0   \n",
       "\n",
       "      present_EM  zero_EM  assessed_EM  present_OTHER  zero_OTHER  \\\n",
       "1              0        0            0              0           0   \n",
       "5              0        0            0              0           0   \n",
       "14             0        0            0              0           0   \n",
       "20             0        0            0              0           0   \n",
       "23             0        0            0              0           0   \n",
       "...          ...      ...          ...            ...         ...   \n",
       "6841           0        0            0              0           0   \n",
       "6857           0        0            0              0           0   \n",
       "6872           0        0            0              0           0   \n",
       "6873           0        0            0              0           0   \n",
       "6877           0        0            0              0           0   \n",
       "\n",
       "      assessed_OTHER  present_NAME_TITHE  present_NAME_EP1  present_NAME_OSD  \\\n",
       "1                  0                   1                 0                 0   \n",
       "5                  0                   0                 0                 0   \n",
       "14                 0                   1                 0                 0   \n",
       "20                 0                   1                 0                 0   \n",
       "23                 0                   1                 0                 0   \n",
       "...              ...                 ...               ...               ...   \n",
       "6841               0                   1                 1                 0   \n",
       "6857               0                   1                 0                 0   \n",
       "6872               0                   1                 0                 0   \n",
       "6873               0                   1                 0                 0   \n",
       "6877               0                   1                 1                 0   \n",
       "\n",
       "      present_NAME_EM  present_HE_REF  name_present  assessed_HE_REF  \\\n",
       "1                   0               1             1                1   \n",
       "5                   0               1             0                1   \n",
       "14                  0               1             1                1   \n",
       "20                  0               1             1                1   \n",
       "23                  0               1             1                1   \n",
       "...               ...             ...           ...              ...   \n",
       "6841                1               1             3                1   \n",
       "6857                0               1             1                1   \n",
       "6872                0               1             1                1   \n",
       "6873                0               1             1                1   \n",
       "6877                0               1             2                1   \n",
       "\n",
       "      present_combined  present_primary  present_secondary  zero_combined  \\\n",
       "1                    2                2                  0              2   \n",
       "5                    4                4                  0              1   \n",
       "14                   2                2                  0              2   \n",
       "20                   1                1                  0              3   \n",
       "23                   2                2                  0              2   \n",
       "...                ...              ...                ...            ...   \n",
       "6841                 6                4                  2              0   \n",
       "6857                 3                3                  0              1   \n",
       "6872                 3                3                  0              1   \n",
       "6873                 2                2                  0              2   \n",
       "6877                 1                1                  0              3   \n",
       "\n",
       "      zero_primary  zero_secondary  assessed_primary  \n",
       "1                2               0                 4  \n",
       "5                0               1                 4  \n",
       "14               2               0                 4  \n",
       "20               3               0                 4  \n",
       "23               2               0                 4  \n",
       "...            ...             ...               ...  \n",
       "6841             0               0                 4  \n",
       "6857             1               0                 4  \n",
       "6872             1               0                 4  \n",
       "6873             2               0                 4  \n",
       "6877             3               0                 4  \n",
       "\n",
       "[400 rows x 94 columns]"
      ]
     },
     "execution_count": 170,
     "metadata": {},
     "output_type": "execute_result"
    }
   ],
   "source": [
    "df[df.assessed_primary==4]"
   ]
  },
  {
   "cell_type": "markdown",
   "metadata": {},
   "source": [
    "# Decision tree\n"
   ]
  },
  {
   "cell_type": "code",
   "execution_count": 145,
   "metadata": {},
   "outputs": [
    {
     "name": "stderr",
     "output_type": "stream",
     "text": [
      "C:\\Users\\WSBRCvol\\AppData\\Local\\Packages\\PythonSoftwareFoundation.Python.3.13_qbz5n2kfra8p0\\LocalCache\\local-packages\\Python313\\site-packages\\geopandas\\geodataframe.py:1819: SettingWithCopyWarning:\n",
      "\n",
      "\n",
      "A value is trying to be set on a copy of a slice from a DataFrame.\n",
      "Try using .loc[row_indexer,col_indexer] = value instead\n",
      "\n",
      "See the caveats in the documentation: https://pandas.pydata.org/pandas-docs/stable/user_guide/indexing.html#returning-a-view-versus-a-copy\n",
      "\n",
      "C:\\Users\\WSBRCvol\\AppData\\Local\\Packages\\PythonSoftwareFoundation.Python.3.13_qbz5n2kfra8p0\\LocalCache\\local-packages\\Python313\\site-packages\\geopandas\\geodataframe.py:1819: SettingWithCopyWarning:\n",
      "\n",
      "\n",
      "A value is trying to be set on a copy of a slice from a DataFrame.\n",
      "Try using .loc[row_indexer,col_indexer] = value instead\n",
      "\n",
      "See the caveats in the documentation: https://pandas.pydata.org/pandas-docs/stable/user_guide/indexing.html#returning-a-view-versus-a-copy\n",
      "\n",
      "C:\\Users\\WSBRCvol\\AppData\\Local\\Packages\\PythonSoftwareFoundation.Python.3.13_qbz5n2kfra8p0\\LocalCache\\local-packages\\Python313\\site-packages\\geopandas\\geodataframe.py:1819: SettingWithCopyWarning:\n",
      "\n",
      "\n",
      "A value is trying to be set on a copy of a slice from a DataFrame.\n",
      "Try using .loc[row_indexer,col_indexer] = value instead\n",
      "\n",
      "See the caveats in the documentation: https://pandas.pydata.org/pandas-docs/stable/user_guide/indexing.html#returning-a-view-versus-a-copy\n",
      "\n",
      "C:\\Users\\WSBRCvol\\AppData\\Local\\Packages\\PythonSoftwareFoundation.Python.3.13_qbz5n2kfra8p0\\LocalCache\\local-packages\\Python313\\site-packages\\geopandas\\geodataframe.py:1819: SettingWithCopyWarning:\n",
      "\n",
      "\n",
      "A value is trying to be set on a copy of a slice from a DataFrame.\n",
      "Try using .loc[row_indexer,col_indexer] = value instead\n",
      "\n",
      "See the caveats in the documentation: https://pandas.pydata.org/pandas-docs/stable/user_guide/indexing.html#returning-a-view-versus-a-copy\n",
      "\n",
      "C:\\Users\\WSBRCvol\\AppData\\Local\\Packages\\PythonSoftwareFoundation.Python.3.13_qbz5n2kfra8p0\\LocalCache\\local-packages\\Python313\\site-packages\\geopandas\\geodataframe.py:1819: SettingWithCopyWarning:\n",
      "\n",
      "\n",
      "A value is trying to be set on a copy of a slice from a DataFrame.\n",
      "Try using .loc[row_indexer,col_indexer] = value instead\n",
      "\n",
      "See the caveats in the documentation: https://pandas.pydata.org/pandas-docs/stable/user_guide/indexing.html#returning-a-view-versus-a-copy\n",
      "\n",
      "C:\\Users\\WSBRCvol\\AppData\\Local\\Packages\\PythonSoftwareFoundation.Python.3.13_qbz5n2kfra8p0\\LocalCache\\local-packages\\Python313\\site-packages\\geopandas\\geodataframe.py:1819: SettingWithCopyWarning:\n",
      "\n",
      "\n",
      "A value is trying to be set on a copy of a slice from a DataFrame.\n",
      "Try using .loc[row_indexer,col_indexer] = value instead\n",
      "\n",
      "See the caveats in the documentation: https://pandas.pydata.org/pandas-docs/stable/user_guide/indexing.html#returning-a-view-versus-a-copy\n",
      "\n",
      "C:\\Users\\WSBRCvol\\AppData\\Local\\Packages\\PythonSoftwareFoundation.Python.3.13_qbz5n2kfra8p0\\LocalCache\\local-packages\\Python313\\site-packages\\geopandas\\geodataframe.py:1819: SettingWithCopyWarning:\n",
      "\n",
      "\n",
      "A value is trying to be set on a copy of a slice from a DataFrame.\n",
      "Try using .loc[row_indexer,col_indexer] = value instead\n",
      "\n",
      "See the caveats in the documentation: https://pandas.pydata.org/pandas-docs/stable/user_guide/indexing.html#returning-a-view-versus-a-copy\n",
      "\n",
      "C:\\Users\\WSBRCvol\\AppData\\Local\\Packages\\PythonSoftwareFoundation.Python.3.13_qbz5n2kfra8p0\\LocalCache\\local-packages\\Python313\\site-packages\\geopandas\\geodataframe.py:1819: SettingWithCopyWarning:\n",
      "\n",
      "\n",
      "A value is trying to be set on a copy of a slice from a DataFrame.\n",
      "Try using .loc[row_indexer,col_indexer] = value instead\n",
      "\n",
      "See the caveats in the documentation: https://pandas.pydata.org/pandas-docs/stable/user_guide/indexing.html#returning-a-view-versus-a-copy\n",
      "\n"
     ]
    }
   ],
   "source": [
    "# Filter for primary source present only\n",
    "df_primary = df[df.present_primary >=1]\n",
    "df_primary_one = df[df.present_primary ==1]\n",
    "df_primary_two = df[df.present_primary >=2]\n",
    "df_no_primary = df[df.present_primary ==0]\n",
    "\n",
    "## A - Ancient woodland\n",
    "## Contains primary evidence and no zero's present\n",
    "df_primary_no_zero = df_primary[df_primary.zero_combined ==0]\n",
    "df_primary_no_zero['Category'] = 'Ancient woodland'\n",
    "df_primary_no_zero['subCategory'] = 'A'\n",
    "df_one_primary_no_zero = df_primary_one[df_primary_one.zero_combined ==0]\n",
    "\n",
    "#Filter for primary source present, one zero present\n",
    "df_primary_zero = df_primary[df_primary.zero_combined >=1]\n",
    "df_primary_one_zero = df_primary[df_primary.zero_combined ==1]\n",
    "df_one_primary_zero = df_primary_one[df_primary_one.zero_combined >=1]\n",
    "df_one_primary_one_zero = df_primary_one[df_primary_one.zero_combined ==1]\n",
    "\n",
    "## A - Not ancient woodland \n",
    "## Has primary evidence but contains more than one zero\n",
    "df_primary_plural_zero = df_primary[df_primary.zero_combined >1]\n",
    "df_primary_plural_zero['Category'] = 'Not ancient woodland'\n",
    "df_primary_plural_zero['subCategory'] = 'A'\n",
    "df_one_primary_plural_zero = df_primary_one[df_primary_one.zero_combined >1]\n",
    "\n",
    "## B - Ancient woodland\n",
    "## Has primary evidence, one zero present, but is a named woodland \n",
    "df_primary_one_zero_named = df_primary_one_zero[df_primary_one_zero.name_present >=1]\n",
    "df_primary_one_zero_named['Category'] = 'Ancient woodland'\n",
    "df_primary_one_zero_named['subCategory'] = 'B'\n",
    "df_one_primary_one_zero_named = df_one_primary_one_zero[df_one_primary_one_zero.name_present >=1]\n",
    "\n",
    "## A- Maybe ancient woodland\n",
    "## Has primary evidence, one zero present and is not a named woodland. \n",
    "### Further research needed, what source is zero?\n",
    "df_primary_one_zero_not_named = df_primary_one_zero[df_primary_one_zero.name_present==0]\n",
    "df_primary_one_zero_not_named['Category'] = 'Maybe ancient woodland'\n",
    "df_primary_one_zero_not_named['subCategory'] = 'A'\n"
   ]
  },
  {
   "cell_type": "code",
   "execution_count": 95,
   "metadata": {},
   "outputs": [
    {
     "name": "stderr",
     "output_type": "stream",
     "text": [
      "C:\\Users\\WSBRCvol\\AppData\\Local\\Packages\\PythonSoftwareFoundation.Python.3.13_qbz5n2kfra8p0\\LocalCache\\local-packages\\Python313\\site-packages\\geopandas\\geodataframe.py:1819: SettingWithCopyWarning:\n",
      "\n",
      "\n",
      "A value is trying to be set on a copy of a slice from a DataFrame.\n",
      "Try using .loc[row_indexer,col_indexer] = value instead\n",
      "\n",
      "See the caveats in the documentation: https://pandas.pydata.org/pandas-docs/stable/user_guide/indexing.html#returning-a-view-versus-a-copy\n",
      "\n",
      "C:\\Users\\WSBRCvol\\AppData\\Local\\Packages\\PythonSoftwareFoundation.Python.3.13_qbz5n2kfra8p0\\LocalCache\\local-packages\\Python313\\site-packages\\geopandas\\geodataframe.py:1819: SettingWithCopyWarning:\n",
      "\n",
      "\n",
      "A value is trying to be set on a copy of a slice from a DataFrame.\n",
      "Try using .loc[row_indexer,col_indexer] = value instead\n",
      "\n",
      "See the caveats in the documentation: https://pandas.pydata.org/pandas-docs/stable/user_guide/indexing.html#returning-a-view-versus-a-copy\n",
      "\n",
      "C:\\Users\\WSBRCvol\\AppData\\Local\\Packages\\PythonSoftwareFoundation.Python.3.13_qbz5n2kfra8p0\\LocalCache\\local-packages\\Python313\\site-packages\\geopandas\\geodataframe.py:1819: SettingWithCopyWarning:\n",
      "\n",
      "\n",
      "A value is trying to be set on a copy of a slice from a DataFrame.\n",
      "Try using .loc[row_indexer,col_indexer] = value instead\n",
      "\n",
      "See the caveats in the documentation: https://pandas.pydata.org/pandas-docs/stable/user_guide/indexing.html#returning-a-view-versus-a-copy\n",
      "\n",
      "C:\\Users\\WSBRCvol\\AppData\\Local\\Packages\\PythonSoftwareFoundation.Python.3.13_qbz5n2kfra8p0\\LocalCache\\local-packages\\Python313\\site-packages\\geopandas\\geodataframe.py:1819: SettingWithCopyWarning:\n",
      "\n",
      "\n",
      "A value is trying to be set on a copy of a slice from a DataFrame.\n",
      "Try using .loc[row_indexer,col_indexer] = value instead\n",
      "\n",
      "See the caveats in the documentation: https://pandas.pydata.org/pandas-docs/stable/user_guide/indexing.html#returning-a-view-versus-a-copy\n",
      "\n"
     ]
    }
   ],
   "source": [
    "# Filter for no primary evidence present, but secondary evidence present\n",
    "df_secondary = df[(df.present_primary ==0)&(df.present_secondary >=1)]\n",
    "# Filter for no evidence present\n",
    "df_no_evidence = df[(df.present_primary ==0)&(df.present_secondary ==0)]\n",
    "\n",
    "## D - Maybe ancient woodland\n",
    "## No evidence, but contains no zeros, so may just not have been covered by maps\n",
    "# Contains lots of 3/4's (no map coverage), requires further investigation to see if any maps preset\n",
    "df_no_evidence_no_zero = df_no_evidence[df_no_evidence.zero_combined ==0]\n",
    "df_no_evidence_no_zero['Category'] = 'Maybe ancient woodland'\n",
    "df_no_evidence_no_zero['subCategory'] = 'D'\n",
    "\n",
    "## C - Not ancient woodland\n",
    "## No evidence, and contains at least one zero, so assumed not woodland. \n",
    "## 1637, ~600 1 zero, ~1000 more than one zero\n",
    "df_no_evidence_zero = df_no_evidence[df_no_evidence.zero_combined >= 1]\n",
    "df_no_evidence_zero['Category'] = 'Not ancient woodland'\n",
    "df_no_evidence_zero['subCategory'] = 'C'\n",
    "\n",
    "df_no_evidence_one_zero = df_no_evidence[df_no_evidence.zero_combined == 1]\n",
    "df_no_evidence_plural_zero = df_no_evidence[df_no_evidence.zero_combined > 1]\n",
    "\n"
   ]
  },
  {
   "cell_type": "code",
   "execution_count": 96,
   "metadata": {},
   "outputs": [
    {
     "name": "stderr",
     "output_type": "stream",
     "text": [
      "C:\\Users\\WSBRCvol\\AppData\\Local\\Packages\\PythonSoftwareFoundation.Python.3.13_qbz5n2kfra8p0\\LocalCache\\local-packages\\Python313\\site-packages\\geopandas\\geodataframe.py:1819: SettingWithCopyWarning:\n",
      "\n",
      "\n",
      "A value is trying to be set on a copy of a slice from a DataFrame.\n",
      "Try using .loc[row_indexer,col_indexer] = value instead\n",
      "\n",
      "See the caveats in the documentation: https://pandas.pydata.org/pandas-docs/stable/user_guide/indexing.html#returning-a-view-versus-a-copy\n",
      "\n",
      "C:\\Users\\WSBRCvol\\AppData\\Local\\Packages\\PythonSoftwareFoundation.Python.3.13_qbz5n2kfra8p0\\LocalCache\\local-packages\\Python313\\site-packages\\geopandas\\geodataframe.py:1819: SettingWithCopyWarning:\n",
      "\n",
      "\n",
      "A value is trying to be set on a copy of a slice from a DataFrame.\n",
      "Try using .loc[row_indexer,col_indexer] = value instead\n",
      "\n",
      "See the caveats in the documentation: https://pandas.pydata.org/pandas-docs/stable/user_guide/indexing.html#returning-a-view-versus-a-copy\n",
      "\n",
      "C:\\Users\\WSBRCvol\\AppData\\Local\\Packages\\PythonSoftwareFoundation.Python.3.13_qbz5n2kfra8p0\\LocalCache\\local-packages\\Python313\\site-packages\\geopandas\\geodataframe.py:1819: SettingWithCopyWarning:\n",
      "\n",
      "\n",
      "A value is trying to be set on a copy of a slice from a DataFrame.\n",
      "Try using .loc[row_indexer,col_indexer] = value instead\n",
      "\n",
      "See the caveats in the documentation: https://pandas.pydata.org/pandas-docs/stable/user_guide/indexing.html#returning-a-view-versus-a-copy\n",
      "\n",
      "C:\\Users\\WSBRCvol\\AppData\\Local\\Packages\\PythonSoftwareFoundation.Python.3.13_qbz5n2kfra8p0\\LocalCache\\local-packages\\Python313\\site-packages\\geopandas\\geodataframe.py:1819: SettingWithCopyWarning:\n",
      "\n",
      "\n",
      "A value is trying to be set on a copy of a slice from a DataFrame.\n",
      "Try using .loc[row_indexer,col_indexer] = value instead\n",
      "\n",
      "See the caveats in the documentation: https://pandas.pydata.org/pandas-docs/stable/user_guide/indexing.html#returning-a-view-versus-a-copy\n",
      "\n",
      "C:\\Users\\WSBRCvol\\AppData\\Local\\Packages\\PythonSoftwareFoundation.Python.3.13_qbz5n2kfra8p0\\LocalCache\\local-packages\\Python313\\site-packages\\geopandas\\geodataframe.py:1819: SettingWithCopyWarning:\n",
      "\n",
      "\n",
      "A value is trying to be set on a copy of a slice from a DataFrame.\n",
      "Try using .loc[row_indexer,col_indexer] = value instead\n",
      "\n",
      "See the caveats in the documentation: https://pandas.pydata.org/pandas-docs/stable/user_guide/indexing.html#returning-a-view-versus-a-copy\n",
      "\n",
      "C:\\Users\\WSBRCvol\\AppData\\Local\\Packages\\PythonSoftwareFoundation.Python.3.13_qbz5n2kfra8p0\\LocalCache\\local-packages\\Python313\\site-packages\\geopandas\\geodataframe.py:1819: SettingWithCopyWarning:\n",
      "\n",
      "\n",
      "A value is trying to be set on a copy of a slice from a DataFrame.\n",
      "Try using .loc[row_indexer,col_indexer] = value instead\n",
      "\n",
      "See the caveats in the documentation: https://pandas.pydata.org/pandas-docs/stable/user_guide/indexing.html#returning-a-view-versus-a-copy\n",
      "\n"
     ]
    }
   ],
   "source": [
    "#Filter for secondary evidence present, and no zeros present\n",
    "df_secondary_no_zero = df_secondary[df_secondary.zero_combined ==0]\n",
    "\n",
    "## C - Ancient woodland \n",
    "## No primary evidence, but contains secondary evidence, no zero's present and is named. \n",
    "df_secondary_no_zero_named = df_secondary_no_zero[df_secondary_no_zero.name_present >=1]\n",
    "df_secondary_no_zero_named['Category'] = 'Ancient woodland'\n",
    "df_secondary_no_zero_named['subCategory'] = 'C'\n",
    "\n",
    "## B- Maybe ancient woodland\n",
    "## No primary evidence, but contains secondary evidence, no zero's present, but is not named\n",
    "## Further research needed; why is not present on primary evidence? \n",
    "df_secondary_no_zero_not_named  = df_secondary_no_zero[df_secondary_no_zero.name_present ==0]\n",
    "df_secondary_no_zero_not_named['Category'] = 'Maybe ancient woodland'\n",
    "df_secondary_no_zero_not_named['subCategory'] = 'B'\n",
    "\n",
    "#Filter for secondary evidence present, and one zero present\n",
    "df_secondary_one_zero = df_secondary[df_secondary.zero_combined ==1]\n",
    "\n",
    "## C - Maybe ancient woodland\n",
    "## No primary evidence, secondary evidence, but one zero present, and named\n",
    "## Further research; why no primary evidence? and what source is zero? What source is name? \n",
    "df_secondary_one_zero_named  = df_secondary_one_zero[df_secondary_one_zero.name_present >=1]\n",
    "df_secondary_one_zero_named['Category'] = 'Maybe ancient woodland'\n",
    "df_secondary_one_zero_named['subCategory'] = 'C'\n",
    "\n",
    "## E - Maybe ancient woodland\n",
    "## No primary evidence, secondary evidence, but one zero present, not named\n",
    "## Probably not ancient woodland, but check primary evidence, and zero. \n",
    "df_secondary_one_zero_not_named  = df_secondary_one_zero[df_secondary_one_zero.name_present ==0]\n",
    "df_secondary_one_zero_not_named['Category'] = 'Maybe ancient woodland'\n",
    "df_secondary_one_zero_not_named['subCategory'] = 'E'\n",
    "\n",
    "## B - Not ancient woodland\n",
    "## Multiple zeros present, and no primary evidence so probably not ancient woodland. \n",
    "df_secondary_plural_zero = df_secondary[df_secondary.zero_combined >1]\n",
    "df_secondary_plural_zero['Category'] = 'Not ancient woodland'\n",
    "df_secondary_plural_zero['subCategory'] = 'B'\n",
    "\n",
    "df_secondary_zero = df_secondary[df_secondary.zero_combined >=1]"
   ]
  },
  {
   "cell_type": "code",
   "execution_count": 97,
   "metadata": {},
   "outputs": [],
   "source": [
    "\n",
    "\n",
    "df_combined = pd.concat([df_primary_no_zero,\n",
    "                         df_primary_zero,\n",
    "df_no_evidence_no_zero,\n",
    "df_no_evidence_zero,\n",
    "df_secondary_no_zero,\n",
    "df_secondary_one_zero,\n",
    "df_secondary_plural_zero,])"
   ]
  },
  {
   "cell_type": "code",
   "execution_count": 105,
   "metadata": {},
   "outputs": [
    {
     "data": {
      "text/html": [
       "<div>\n",
       "<style scoped>\n",
       "    .dataframe tbody tr th:only-of-type {\n",
       "        vertical-align: middle;\n",
       "    }\n",
       "\n",
       "    .dataframe tbody tr th {\n",
       "        vertical-align: top;\n",
       "    }\n",
       "\n",
       "    .dataframe thead th {\n",
       "        text-align: right;\n",
       "    }\n",
       "</style>\n",
       "<table border=\"1\" class=\"dataframe\">\n",
       "  <thead>\n",
       "    <tr style=\"text-align: right;\">\n",
       "      <th></th>\n",
       "      <th>NAME_OS</th>\n",
       "      <th>NAME_EP1</th>\n",
       "      <th>P3_UID</th>\n",
       "      <th>P3_IGNORE</th>\n",
       "      <th>C21_AP</th>\n",
       "      <th>EPOCH_2</th>\n",
       "      <th>EPOCH_1</th>\n",
       "      <th>C20_AP</th>\n",
       "      <th>C20_AP_REF</th>\n",
       "      <th>TITHE_REF</th>\n",
       "      <th>...</th>\n",
       "      <th>zero_primary</th>\n",
       "      <th>zero_secondary</th>\n",
       "      <th>assessed_primary</th>\n",
       "      <th>present_NAME_TITHE</th>\n",
       "      <th>present_NAME_EP1</th>\n",
       "      <th>present_NAME_OSD</th>\n",
       "      <th>present_NAME_EM</th>\n",
       "      <th>name_present</th>\n",
       "      <th>Category</th>\n",
       "      <th>subCategory</th>\n",
       "    </tr>\n",
       "  </thead>\n",
       "  <tbody>\n",
       "    <tr>\n",
       "      <th>3</th>\n",
       "      <td>None</td>\n",
       "      <td>None</td>\n",
       "      <td>WiltsAWI_02310_01</td>\n",
       "      <td>1</td>\n",
       "      <td>1</td>\n",
       "      <td>5</td>\n",
       "      <td>1</td>\n",
       "      <td>5</td>\n",
       "      <td>None</td>\n",
       "      <td>Monkton Farleigh</td>\n",
       "      <td>...</td>\n",
       "      <td>0</td>\n",
       "      <td>0</td>\n",
       "      <td>1</td>\n",
       "      <td>1</td>\n",
       "      <td>0</td>\n",
       "      <td>0</td>\n",
       "      <td>0</td>\n",
       "      <td>1</td>\n",
       "      <td>Maybe ancient woodland</td>\n",
       "      <td>D</td>\n",
       "    </tr>\n",
       "    <tr>\n",
       "      <th>887</th>\n",
       "      <td>None</td>\n",
       "      <td>None</td>\n",
       "      <td>WiltsAWI_04050_01</td>\n",
       "      <td>0</td>\n",
       "      <td>1</td>\n",
       "      <td>5</td>\n",
       "      <td>6</td>\n",
       "      <td>5</td>\n",
       "      <td>None</td>\n",
       "      <td>NA</td>\n",
       "      <td>...</td>\n",
       "      <td>0</td>\n",
       "      <td>0</td>\n",
       "      <td>1</td>\n",
       "      <td>0</td>\n",
       "      <td>0</td>\n",
       "      <td>0</td>\n",
       "      <td>0</td>\n",
       "      <td>0</td>\n",
       "      <td>Maybe ancient woodland</td>\n",
       "      <td>D</td>\n",
       "    </tr>\n",
       "    <tr>\n",
       "      <th>1037</th>\n",
       "      <td>None</td>\n",
       "      <td>None</td>\n",
       "      <td>WiltsAWI_05015_01</td>\n",
       "      <td>0</td>\n",
       "      <td>1</td>\n",
       "      <td>5</td>\n",
       "      <td>1</td>\n",
       "      <td>5</td>\n",
       "      <td>None</td>\n",
       "      <td>Kilmington</td>\n",
       "      <td>...</td>\n",
       "      <td>0</td>\n",
       "      <td>0</td>\n",
       "      <td>1</td>\n",
       "      <td>1</td>\n",
       "      <td>0</td>\n",
       "      <td>0</td>\n",
       "      <td>0</td>\n",
       "      <td>1</td>\n",
       "      <td>Maybe ancient woodland</td>\n",
       "      <td>D</td>\n",
       "    </tr>\n",
       "  </tbody>\n",
       "</table>\n",
       "<p>3 rows × 97 columns</p>\n",
       "</div>"
      ],
      "text/plain": [
       "     NAME_OS NAME_EP1             P3_UID  P3_IGNORE  C21_AP  EPOCH_2  EPOCH_1  \\\n",
       "3       None     None  WiltsAWI_02310_01          1       1        5        1   \n",
       "887     None     None  WiltsAWI_04050_01          0       1        5        6   \n",
       "1037    None     None  WiltsAWI_05015_01          0       1        5        1   \n",
       "\n",
       "      C20_AP C20_AP_REF         TITHE_REF  ...  zero_primary zero_secondary  \\\n",
       "3          5       None  Monkton Farleigh  ...             0              0   \n",
       "887        5       None                NA  ...             0              0   \n",
       "1037       5       None        Kilmington  ...             0              0   \n",
       "\n",
       "      assessed_primary present_NAME_TITHE  present_NAME_EP1  present_NAME_OSD  \\\n",
       "3                    1                  1                 0                 0   \n",
       "887                  1                  0                 0                 0   \n",
       "1037                 1                  1                 0                 0   \n",
       "\n",
       "     present_NAME_EM  name_present                Category  subCategory  \n",
       "3                  0             1  Maybe ancient woodland            D  \n",
       "887                0             0  Maybe ancient woodland            D  \n",
       "1037               0             1  Maybe ancient woodland            D  \n",
       "\n",
       "[3 rows x 97 columns]"
      ]
     },
     "execution_count": 105,
     "metadata": {},
     "output_type": "execute_result"
    }
   ],
   "source": [
    "df_combined[df_combined.assessed_primary ==1]"
   ]
  },
  {
   "cell_type": "code",
   "execution_count": 33,
   "metadata": {},
   "outputs": [],
   "source": [
    "df_ancient_only = df_combined[df_combined.Category == 'Ancient woodland']\n",
    "df_maybe_ancient = df_combined[df_combined.Category == 'Maybe ancient woodland']\n",
    "df_not_ancient = df_combined[df_combined.Category == 'Not ancient woodland']"
   ]
  },
  {
   "cell_type": "code",
   "execution_count": 34,
   "metadata": {},
   "outputs": [],
   "source": [
    "df_not_ancient_grouped = df_not_ancient.groupby('P3_Status').count().reset_index()\n",
    "df_ancient_grouped = df_ancient_only.groupby('P3_Status').count().reset_index()"
   ]
  },
  {
   "cell_type": "code",
   "execution_count": 87,
   "metadata": {},
   "outputs": [],
   "source": [
    "df_combined['area'] = df_combined.area/10000"
   ]
  },
  {
   "cell_type": "code",
   "execution_count": 98,
   "metadata": {},
   "outputs": [
    {
     "data": {
      "text/html": [
       "<div>\n",
       "<style scoped>\n",
       "    .dataframe tbody tr th:only-of-type {\n",
       "        vertical-align: middle;\n",
       "    }\n",
       "\n",
       "    .dataframe tbody tr th {\n",
       "        vertical-align: top;\n",
       "    }\n",
       "\n",
       "    .dataframe thead th {\n",
       "        text-align: right;\n",
       "    }\n",
       "</style>\n",
       "<table border=\"1\" class=\"dataframe\">\n",
       "  <thead>\n",
       "    <tr style=\"text-align: right;\">\n",
       "      <th></th>\n",
       "      <th>NAME_OS</th>\n",
       "      <th>NAME_EP1</th>\n",
       "      <th>P3_UID</th>\n",
       "      <th>P3_IGNORE</th>\n",
       "      <th>C21_AP</th>\n",
       "      <th>EPOCH_2</th>\n",
       "      <th>EPOCH_1</th>\n",
       "      <th>C20_AP</th>\n",
       "      <th>C20_AP_REF</th>\n",
       "      <th>TITHE_REF</th>\n",
       "      <th>...</th>\n",
       "      <th>zero_primary</th>\n",
       "      <th>zero_secondary</th>\n",
       "      <th>assessed_primary</th>\n",
       "      <th>present_NAME_TITHE</th>\n",
       "      <th>present_NAME_EP1</th>\n",
       "      <th>present_NAME_OSD</th>\n",
       "      <th>present_NAME_EM</th>\n",
       "      <th>name_present</th>\n",
       "      <th>Category</th>\n",
       "      <th>subCategory</th>\n",
       "    </tr>\n",
       "  </thead>\n",
       "  <tbody>\n",
       "    <tr>\n",
       "      <th>9</th>\n",
       "      <td>None</td>\n",
       "      <td>None</td>\n",
       "      <td>WiltsAWI_05788_01</td>\n",
       "      <td>1</td>\n",
       "      <td>1</td>\n",
       "      <td>5</td>\n",
       "      <td>6</td>\n",
       "      <td>5</td>\n",
       "      <td>None</td>\n",
       "      <td>Wilton</td>\n",
       "      <td>...</td>\n",
       "      <td>0</td>\n",
       "      <td>0</td>\n",
       "      <td>3</td>\n",
       "      <td>1</td>\n",
       "      <td>0</td>\n",
       "      <td>0</td>\n",
       "      <td>0</td>\n",
       "      <td>1</td>\n",
       "      <td>Ancient woodland</td>\n",
       "      <td>A</td>\n",
       "    </tr>\n",
       "    <tr>\n",
       "      <th>12</th>\n",
       "      <td>None</td>\n",
       "      <td>None</td>\n",
       "      <td>WiltsAWI_01359_01</td>\n",
       "      <td>0</td>\n",
       "      <td>1</td>\n",
       "      <td>5</td>\n",
       "      <td>1</td>\n",
       "      <td>5</td>\n",
       "      <td>None</td>\n",
       "      <td>NA</td>\n",
       "      <td>...</td>\n",
       "      <td>0</td>\n",
       "      <td>0</td>\n",
       "      <td>3</td>\n",
       "      <td>0</td>\n",
       "      <td>0</td>\n",
       "      <td>0</td>\n",
       "      <td>0</td>\n",
       "      <td>0</td>\n",
       "      <td>Ancient woodland</td>\n",
       "      <td>A</td>\n",
       "    </tr>\n",
       "    <tr>\n",
       "      <th>19</th>\n",
       "      <td>None</td>\n",
       "      <td>None</td>\n",
       "      <td>WiltsAWI_04319_04</td>\n",
       "      <td>0</td>\n",
       "      <td>1</td>\n",
       "      <td>5</td>\n",
       "      <td>1</td>\n",
       "      <td>0</td>\n",
       "      <td>None</td>\n",
       "      <td>NA</td>\n",
       "      <td>...</td>\n",
       "      <td>0</td>\n",
       "      <td>0</td>\n",
       "      <td>3</td>\n",
       "      <td>0</td>\n",
       "      <td>0</td>\n",
       "      <td>0</td>\n",
       "      <td>1</td>\n",
       "      <td>1</td>\n",
       "      <td>Ancient woodland</td>\n",
       "      <td>A</td>\n",
       "    </tr>\n",
       "    <tr>\n",
       "      <th>21</th>\n",
       "      <td>None</td>\n",
       "      <td>None</td>\n",
       "      <td>WiltsAWI_04502_01</td>\n",
       "      <td>0</td>\n",
       "      <td>6</td>\n",
       "      <td>5</td>\n",
       "      <td>6</td>\n",
       "      <td>6</td>\n",
       "      <td>None</td>\n",
       "      <td>Horningsham</td>\n",
       "      <td>...</td>\n",
       "      <td>0</td>\n",
       "      <td>0</td>\n",
       "      <td>3</td>\n",
       "      <td>1</td>\n",
       "      <td>0</td>\n",
       "      <td>0</td>\n",
       "      <td>0</td>\n",
       "      <td>1</td>\n",
       "      <td>Ancient woodland</td>\n",
       "      <td>A</td>\n",
       "    </tr>\n",
       "    <tr>\n",
       "      <th>22</th>\n",
       "      <td>None</td>\n",
       "      <td>None</td>\n",
       "      <td>WiltsAWI_04628_01</td>\n",
       "      <td>0</td>\n",
       "      <td>6</td>\n",
       "      <td>5</td>\n",
       "      <td>6</td>\n",
       "      <td>5</td>\n",
       "      <td>None</td>\n",
       "      <td>Maiden Bradley</td>\n",
       "      <td>...</td>\n",
       "      <td>0</td>\n",
       "      <td>0</td>\n",
       "      <td>3</td>\n",
       "      <td>1</td>\n",
       "      <td>0</td>\n",
       "      <td>0</td>\n",
       "      <td>0</td>\n",
       "      <td>1</td>\n",
       "      <td>Ancient woodland</td>\n",
       "      <td>A</td>\n",
       "    </tr>\n",
       "    <tr>\n",
       "      <th>...</th>\n",
       "      <td>...</td>\n",
       "      <td>...</td>\n",
       "      <td>...</td>\n",
       "      <td>...</td>\n",
       "      <td>...</td>\n",
       "      <td>...</td>\n",
       "      <td>...</td>\n",
       "      <td>...</td>\n",
       "      <td>...</td>\n",
       "      <td>...</td>\n",
       "      <td>...</td>\n",
       "      <td>...</td>\n",
       "      <td>...</td>\n",
       "      <td>...</td>\n",
       "      <td>...</td>\n",
       "      <td>...</td>\n",
       "      <td>...</td>\n",
       "      <td>...</td>\n",
       "      <td>...</td>\n",
       "      <td>...</td>\n",
       "      <td>...</td>\n",
       "    </tr>\n",
       "    <tr>\n",
       "      <th>5715</th>\n",
       "      <td>Hare Covert</td>\n",
       "      <td>None</td>\n",
       "      <td>WiltsAWI_04590_01</td>\n",
       "      <td>0</td>\n",
       "      <td>1</td>\n",
       "      <td>5</td>\n",
       "      <td>1</td>\n",
       "      <td>1</td>\n",
       "      <td>GX10135_SG_L_Exposure33</td>\n",
       "      <td>Codford St mary</td>\n",
       "      <td>...</td>\n",
       "      <td>2</td>\n",
       "      <td>0</td>\n",
       "      <td>3</td>\n",
       "      <td>1</td>\n",
       "      <td>0</td>\n",
       "      <td>0</td>\n",
       "      <td>0</td>\n",
       "      <td>1</td>\n",
       "      <td>Not ancient woodland</td>\n",
       "      <td>B</td>\n",
       "    </tr>\n",
       "    <tr>\n",
       "      <th>6594</th>\n",
       "      <td>Cowesfield Green</td>\n",
       "      <td>None</td>\n",
       "      <td>WiltsAWI_06689_01</td>\n",
       "      <td>0</td>\n",
       "      <td>1</td>\n",
       "      <td>5</td>\n",
       "      <td>1</td>\n",
       "      <td>1</td>\n",
       "      <td>GX10238_SG_L_Exposure66</td>\n",
       "      <td>Whiteparish</td>\n",
       "      <td>...</td>\n",
       "      <td>2</td>\n",
       "      <td>0</td>\n",
       "      <td>3</td>\n",
       "      <td>1</td>\n",
       "      <td>0</td>\n",
       "      <td>0</td>\n",
       "      <td>0</td>\n",
       "      <td>1</td>\n",
       "      <td>Not ancient woodland</td>\n",
       "      <td>B</td>\n",
       "    </tr>\n",
       "    <tr>\n",
       "      <th>6600</th>\n",
       "      <td>Cowesfield Green</td>\n",
       "      <td>None</td>\n",
       "      <td>WiltsAWI_06698_01</td>\n",
       "      <td>0</td>\n",
       "      <td>1</td>\n",
       "      <td>5</td>\n",
       "      <td>1</td>\n",
       "      <td>1</td>\n",
       "      <td>GX10238_SG_L_Exposure66</td>\n",
       "      <td>Whiteparish</td>\n",
       "      <td>...</td>\n",
       "      <td>2</td>\n",
       "      <td>0</td>\n",
       "      <td>3</td>\n",
       "      <td>1</td>\n",
       "      <td>0</td>\n",
       "      <td>0</td>\n",
       "      <td>0</td>\n",
       "      <td>1</td>\n",
       "      <td>Not ancient woodland</td>\n",
       "      <td>B</td>\n",
       "    </tr>\n",
       "    <tr>\n",
       "      <th>6607</th>\n",
       "      <td>Cowesfield Green</td>\n",
       "      <td>None</td>\n",
       "      <td>WiltsAWI_06713_01</td>\n",
       "      <td>0</td>\n",
       "      <td>1</td>\n",
       "      <td>5</td>\n",
       "      <td>1</td>\n",
       "      <td>1</td>\n",
       "      <td>GX10238_SG_L_Exposure66</td>\n",
       "      <td>Whiteparish</td>\n",
       "      <td>...</td>\n",
       "      <td>2</td>\n",
       "      <td>0</td>\n",
       "      <td>3</td>\n",
       "      <td>1</td>\n",
       "      <td>0</td>\n",
       "      <td>0</td>\n",
       "      <td>0</td>\n",
       "      <td>1</td>\n",
       "      <td>Not ancient woodland</td>\n",
       "      <td>B</td>\n",
       "    </tr>\n",
       "    <tr>\n",
       "      <th>6889</th>\n",
       "      <td>None</td>\n",
       "      <td>None</td>\n",
       "      <td>WiltsAWI_00090_01</td>\n",
       "      <td>0</td>\n",
       "      <td>1</td>\n",
       "      <td>5</td>\n",
       "      <td>1</td>\n",
       "      <td>3</td>\n",
       "      <td>ge</td>\n",
       "      <td>NA</td>\n",
       "      <td>...</td>\n",
       "      <td>2</td>\n",
       "      <td>0</td>\n",
       "      <td>3</td>\n",
       "      <td>0</td>\n",
       "      <td>0</td>\n",
       "      <td>0</td>\n",
       "      <td>1</td>\n",
       "      <td>1</td>\n",
       "      <td>Not ancient woodland</td>\n",
       "      <td>B</td>\n",
       "    </tr>\n",
       "  </tbody>\n",
       "</table>\n",
       "<p>7079 rows × 97 columns</p>\n",
       "</div>"
      ],
      "text/plain": [
       "               NAME_OS NAME_EP1             P3_UID  P3_IGNORE  C21_AP  \\\n",
       "9                 None     None  WiltsAWI_05788_01          1       1   \n",
       "12                None     None  WiltsAWI_01359_01          0       1   \n",
       "19                None     None  WiltsAWI_04319_04          0       1   \n",
       "21                None     None  WiltsAWI_04502_01          0       6   \n",
       "22                None     None  WiltsAWI_04628_01          0       6   \n",
       "...                ...      ...                ...        ...     ...   \n",
       "5715       Hare Covert     None  WiltsAWI_04590_01          0       1   \n",
       "6594  Cowesfield Green     None  WiltsAWI_06689_01          0       1   \n",
       "6600  Cowesfield Green     None  WiltsAWI_06698_01          0       1   \n",
       "6607  Cowesfield Green     None  WiltsAWI_06713_01          0       1   \n",
       "6889              None     None  WiltsAWI_00090_01          0       1   \n",
       "\n",
       "      EPOCH_2  EPOCH_1  C20_AP               C20_AP_REF        TITHE_REF  ...  \\\n",
       "9           5        6       5                     None           Wilton  ...   \n",
       "12          5        1       5                     None               NA  ...   \n",
       "19          5        1       0                     None               NA  ...   \n",
       "21          5        6       6                     None      Horningsham  ...   \n",
       "22          5        6       5                     None   Maiden Bradley  ...   \n",
       "...       ...      ...     ...                      ...              ...  ...   \n",
       "5715        5        1       1  GX10135_SG_L_Exposure33  Codford St mary  ...   \n",
       "6594        5        1       1  GX10238_SG_L_Exposure66      Whiteparish  ...   \n",
       "6600        5        1       1  GX10238_SG_L_Exposure66      Whiteparish  ...   \n",
       "6607        5        1       1  GX10238_SG_L_Exposure66      Whiteparish  ...   \n",
       "6889        5        1       3                       ge               NA  ...   \n",
       "\n",
       "      zero_primary zero_secondary  assessed_primary present_NAME_TITHE  \\\n",
       "9                0              0                 3                  1   \n",
       "12               0              0                 3                  0   \n",
       "19               0              0                 3                  0   \n",
       "21               0              0                 3                  1   \n",
       "22               0              0                 3                  1   \n",
       "...            ...            ...               ...                ...   \n",
       "5715             2              0                 3                  1   \n",
       "6594             2              0                 3                  1   \n",
       "6600             2              0                 3                  1   \n",
       "6607             2              0                 3                  1   \n",
       "6889             2              0                 3                  0   \n",
       "\n",
       "      present_NAME_EP1  present_NAME_OSD present_NAME_EM  name_present  \\\n",
       "9                    0                 0               0             1   \n",
       "12                   0                 0               0             0   \n",
       "19                   0                 0               1             1   \n",
       "21                   0                 0               0             1   \n",
       "22                   0                 0               0             1   \n",
       "...                ...               ...             ...           ...   \n",
       "5715                 0                 0               0             1   \n",
       "6594                 0                 0               0             1   \n",
       "6600                 0                 0               0             1   \n",
       "6607                 0                 0               0             1   \n",
       "6889                 0                 0               1             1   \n",
       "\n",
       "                  Category  subCategory  \n",
       "9         Ancient woodland            A  \n",
       "12        Ancient woodland            A  \n",
       "19        Ancient woodland            A  \n",
       "21        Ancient woodland            A  \n",
       "22        Ancient woodland            A  \n",
       "...                    ...          ...  \n",
       "5715  Not ancient woodland            B  \n",
       "6594  Not ancient woodland            B  \n",
       "6600  Not ancient woodland            B  \n",
       "6607  Not ancient woodland            B  \n",
       "6889  Not ancient woodland            B  \n",
       "\n",
       "[7079 rows x 97 columns]"
      ]
     },
     "execution_count": 98,
     "metadata": {},
     "output_type": "execute_result"
    }
   ],
   "source": [
    "df_combined"
   ]
  },
  {
   "cell_type": "code",
   "execution_count": 174,
   "metadata": {},
   "outputs": [],
   "source": [
    "#df_grouped = df_combined.groupby(['Category', 'subCategory','intersects_old_AWI']).count().reset_index()\n",
    "df_grouped = df.groupby(['assessed_primary']).count().reset_index()\n"
   ]
  },
  {
   "cell_type": "code",
   "execution_count": 67,
   "metadata": {},
   "outputs": [
    {
     "data": {
      "text/plain": [
       "np.float64(670.9962464495912)"
      ]
     },
     "execution_count": 67,
     "metadata": {},
     "output_type": "execute_result"
    }
   ],
   "source": [
    "df_intersects_not_ancient = df_combined[(df_combined['intersects_old_AWI']==True)&(df_combined['Category']=='Not ancient woodland')]\n",
    "df_intersects_not_ancient.area.sum()/10000"
   ]
  },
  {
   "cell_type": "code",
   "execution_count": 172,
   "metadata": {},
   "outputs": [
    {
     "data": {
      "text/html": [
       "<div>\n",
       "<style scoped>\n",
       "    .dataframe tbody tr th:only-of-type {\n",
       "        vertical-align: middle;\n",
       "    }\n",
       "\n",
       "    .dataframe tbody tr th {\n",
       "        vertical-align: top;\n",
       "    }\n",
       "\n",
       "    .dataframe thead th {\n",
       "        text-align: right;\n",
       "    }\n",
       "</style>\n",
       "<table border=\"1\" class=\"dataframe\">\n",
       "  <thead>\n",
       "    <tr style=\"text-align: right;\">\n",
       "      <th></th>\n",
       "      <th>assessed_primary</th>\n",
       "      <th>NAME_OS</th>\n",
       "      <th>NAME_EP1</th>\n",
       "      <th>P3_UID</th>\n",
       "      <th>P3_IGNORE</th>\n",
       "      <th>C21_AP</th>\n",
       "      <th>EPOCH_2</th>\n",
       "      <th>EPOCH_1</th>\n",
       "      <th>C20_AP</th>\n",
       "      <th>C20_AP_REF</th>\n",
       "      <th>TITHE_REF</th>\n",
       "      <th>C19_EM</th>\n",
       "      <th>C19_EM_REF</th>\n",
       "      <th>OSD</th>\n",
       "      <th>OSD_REF</th>\n",
       "      <th>CM_1773</th>\n",
       "      <th>C18_EM</th>\n",
       "      <th>C18_EM_REF</th>\n",
       "      <th>C17_EM</th>\n",
       "      <th>C17_EM_REF</th>\n",
       "      <th>EM</th>\n",
       "      <th>EM_REF</th>\n",
       "      <th>OTHER</th>\n",
       "      <th>OTHER_REF</th>\n",
       "      <th>NAME_TITHE</th>\n",
       "      <th>NAME_OSD</th>\n",
       "      <th>NAME_EM</th>\n",
       "      <th>TITHE_REF_</th>\n",
       "      <th>TITHE_LAND</th>\n",
       "      <th>TITHE_PLOT</th>\n",
       "      <th>TITHE_PL_1</th>\n",
       "      <th>COMMENTS</th>\n",
       "      <th>url</th>\n",
       "      <th>OSNAMES_UR</th>\n",
       "      <th>CHECK_NAME</th>\n",
       "      <th>TO_CHECK_N</th>\n",
       "      <th>NOTES</th>\n",
       "      <th>LISTED_BUI</th>\n",
       "      <th>LISTED_PAR</th>\n",
       "      <th>P2_CLASS</th>\n",
       "      <th>P3_CLASS</th>\n",
       "      <th>P3_Status</th>\n",
       "      <th>TITHE</th>\n",
       "      <th>GlobalID_1</th>\n",
       "      <th>EARLIEST_E</th>\n",
       "      <th>RESERVE</th>\n",
       "      <th>FORESTRY</th>\n",
       "      <th>SURVEY_PRI</th>\n",
       "      <th>ACTION</th>\n",
       "      <th>SITE_ID</th>\n",
       "      <th>AreaHa</th>\n",
       "      <th>NAME</th>\n",
       "      <th>Shape_Leng</th>\n",
       "      <th>OBJECTID_1</th>\n",
       "      <th>HE_REF</th>\n",
       "      <th>geometry</th>\n",
       "      <th>intersects_old_AWI</th>\n",
       "      <th>present_TITHE</th>\n",
       "      <th>zero_TITHE</th>\n",
       "      <th>assessed_TITHE</th>\n",
       "      <th>present_C19_EM</th>\n",
       "      <th>zero_C19_EM</th>\n",
       "      <th>assessed_C19_EM</th>\n",
       "      <th>present_OSD</th>\n",
       "      <th>zero_OSD</th>\n",
       "      <th>assessed_OSD</th>\n",
       "      <th>present_CM_1773</th>\n",
       "      <th>zero_CM_1773</th>\n",
       "      <th>assessed_CM_1773</th>\n",
       "      <th>present_C18_EM</th>\n",
       "      <th>zero_C18_EM</th>\n",
       "      <th>assessed_C18_EM</th>\n",
       "      <th>present_C17_EM</th>\n",
       "      <th>zero_C17_EM</th>\n",
       "      <th>assessed_C17_EM</th>\n",
       "      <th>present_EM</th>\n",
       "      <th>zero_EM</th>\n",
       "      <th>assessed_EM</th>\n",
       "      <th>present_OTHER</th>\n",
       "      <th>zero_OTHER</th>\n",
       "      <th>assessed_OTHER</th>\n",
       "      <th>present_HE_REF</th>\n",
       "      <th>zero_HE_REF</th>\n",
       "      <th>assessed_HE_REF</th>\n",
       "      <th>present_combined</th>\n",
       "      <th>present_primary</th>\n",
       "      <th>present_secondary</th>\n",
       "      <th>zero_combined</th>\n",
       "      <th>zero_primary</th>\n",
       "      <th>zero_secondary</th>\n",
       "      <th>present_NAME_TITHE</th>\n",
       "      <th>present_NAME_EP1</th>\n",
       "      <th>present_NAME_OSD</th>\n",
       "      <th>present_NAME_EM</th>\n",
       "      <th>name_present</th>\n",
       "      <th>Category</th>\n",
       "      <th>subCategory</th>\n",
       "    </tr>\n",
       "  </thead>\n",
       "  <tbody>\n",
       "    <tr>\n",
       "      <th>0</th>\n",
       "      <td>1</td>\n",
       "      <td>0</td>\n",
       "      <td>3</td>\n",
       "      <td>3</td>\n",
       "      <td>3</td>\n",
       "      <td>3</td>\n",
       "      <td>3</td>\n",
       "      <td>3</td>\n",
       "      <td>3</td>\n",
       "      <td>0</td>\n",
       "      <td>3</td>\n",
       "      <td>3</td>\n",
       "      <td>0</td>\n",
       "      <td>3</td>\n",
       "      <td>0</td>\n",
       "      <td>3</td>\n",
       "      <td>3</td>\n",
       "      <td>0</td>\n",
       "      <td>3</td>\n",
       "      <td>0</td>\n",
       "      <td>3</td>\n",
       "      <td>0</td>\n",
       "      <td>3</td>\n",
       "      <td>0</td>\n",
       "      <td>3</td>\n",
       "      <td>3</td>\n",
       "      <td>3</td>\n",
       "      <td>3</td>\n",
       "      <td>2</td>\n",
       "      <td>2</td>\n",
       "      <td>2</td>\n",
       "      <td>1</td>\n",
       "      <td>0</td>\n",
       "      <td>0</td>\n",
       "      <td>3</td>\n",
       "      <td>3</td>\n",
       "      <td>0</td>\n",
       "      <td>3</td>\n",
       "      <td>3</td>\n",
       "      <td>3</td>\n",
       "      <td>3</td>\n",
       "      <td>3</td>\n",
       "      <td>3</td>\n",
       "      <td>3</td>\n",
       "      <td>3</td>\n",
       "      <td>1</td>\n",
       "      <td>0</td>\n",
       "      <td>3</td>\n",
       "      <td>3</td>\n",
       "      <td>3</td>\n",
       "      <td>3</td>\n",
       "      <td>3</td>\n",
       "      <td>3</td>\n",
       "      <td>3</td>\n",
       "      <td>1</td>\n",
       "      <td>3</td>\n",
       "      <td>3</td>\n",
       "      <td>3</td>\n",
       "      <td>3</td>\n",
       "      <td>3</td>\n",
       "      <td>3</td>\n",
       "      <td>3</td>\n",
       "      <td>3</td>\n",
       "      <td>3</td>\n",
       "      <td>3</td>\n",
       "      <td>3</td>\n",
       "      <td>3</td>\n",
       "      <td>3</td>\n",
       "      <td>3</td>\n",
       "      <td>3</td>\n",
       "      <td>3</td>\n",
       "      <td>3</td>\n",
       "      <td>3</td>\n",
       "      <td>3</td>\n",
       "      <td>3</td>\n",
       "      <td>3</td>\n",
       "      <td>3</td>\n",
       "      <td>3</td>\n",
       "      <td>3</td>\n",
       "      <td>3</td>\n",
       "      <td>3</td>\n",
       "      <td>3</td>\n",
       "      <td>3</td>\n",
       "      <td>3</td>\n",
       "      <td>3</td>\n",
       "      <td>3</td>\n",
       "      <td>3</td>\n",
       "      <td>3</td>\n",
       "      <td>3</td>\n",
       "      <td>3</td>\n",
       "      <td>3</td>\n",
       "      <td>3</td>\n",
       "      <td>3</td>\n",
       "      <td>3</td>\n",
       "      <td>3</td>\n",
       "      <td>3</td>\n",
       "      <td>3</td>\n",
       "    </tr>\n",
       "    <tr>\n",
       "      <th>1</th>\n",
       "      <td>2</td>\n",
       "      <td>236</td>\n",
       "      <td>584</td>\n",
       "      <td>584</td>\n",
       "      <td>584</td>\n",
       "      <td>584</td>\n",
       "      <td>584</td>\n",
       "      <td>584</td>\n",
       "      <td>584</td>\n",
       "      <td>162</td>\n",
       "      <td>580</td>\n",
       "      <td>584</td>\n",
       "      <td>98</td>\n",
       "      <td>584</td>\n",
       "      <td>429</td>\n",
       "      <td>584</td>\n",
       "      <td>584</td>\n",
       "      <td>185</td>\n",
       "      <td>584</td>\n",
       "      <td>22</td>\n",
       "      <td>584</td>\n",
       "      <td>108</td>\n",
       "      <td>584</td>\n",
       "      <td>17</td>\n",
       "      <td>584</td>\n",
       "      <td>584</td>\n",
       "      <td>584</td>\n",
       "      <td>583</td>\n",
       "      <td>258</td>\n",
       "      <td>258</td>\n",
       "      <td>255</td>\n",
       "      <td>20</td>\n",
       "      <td>0</td>\n",
       "      <td>235</td>\n",
       "      <td>584</td>\n",
       "      <td>584</td>\n",
       "      <td>2</td>\n",
       "      <td>584</td>\n",
       "      <td>584</td>\n",
       "      <td>584</td>\n",
       "      <td>584</td>\n",
       "      <td>584</td>\n",
       "      <td>584</td>\n",
       "      <td>584</td>\n",
       "      <td>584</td>\n",
       "      <td>40</td>\n",
       "      <td>73</td>\n",
       "      <td>584</td>\n",
       "      <td>584</td>\n",
       "      <td>584</td>\n",
       "      <td>584</td>\n",
       "      <td>584</td>\n",
       "      <td>584</td>\n",
       "      <td>584</td>\n",
       "      <td>461</td>\n",
       "      <td>584</td>\n",
       "      <td>584</td>\n",
       "      <td>584</td>\n",
       "      <td>584</td>\n",
       "      <td>584</td>\n",
       "      <td>584</td>\n",
       "      <td>584</td>\n",
       "      <td>584</td>\n",
       "      <td>584</td>\n",
       "      <td>584</td>\n",
       "      <td>584</td>\n",
       "      <td>584</td>\n",
       "      <td>584</td>\n",
       "      <td>584</td>\n",
       "      <td>584</td>\n",
       "      <td>584</td>\n",
       "      <td>584</td>\n",
       "      <td>584</td>\n",
       "      <td>584</td>\n",
       "      <td>584</td>\n",
       "      <td>584</td>\n",
       "      <td>584</td>\n",
       "      <td>584</td>\n",
       "      <td>584</td>\n",
       "      <td>584</td>\n",
       "      <td>584</td>\n",
       "      <td>584</td>\n",
       "      <td>584</td>\n",
       "      <td>584</td>\n",
       "      <td>584</td>\n",
       "      <td>584</td>\n",
       "      <td>584</td>\n",
       "      <td>584</td>\n",
       "      <td>584</td>\n",
       "      <td>584</td>\n",
       "      <td>584</td>\n",
       "      <td>584</td>\n",
       "      <td>584</td>\n",
       "      <td>584</td>\n",
       "      <td>584</td>\n",
       "      <td>541</td>\n",
       "      <td>541</td>\n",
       "    </tr>\n",
       "    <tr>\n",
       "      <th>2</th>\n",
       "      <td>3</td>\n",
       "      <td>1705</td>\n",
       "      <td>4177</td>\n",
       "      <td>4177</td>\n",
       "      <td>4177</td>\n",
       "      <td>4177</td>\n",
       "      <td>4177</td>\n",
       "      <td>4177</td>\n",
       "      <td>4177</td>\n",
       "      <td>2131</td>\n",
       "      <td>4169</td>\n",
       "      <td>4177</td>\n",
       "      <td>359</td>\n",
       "      <td>4177</td>\n",
       "      <td>3621</td>\n",
       "      <td>4177</td>\n",
       "      <td>4177</td>\n",
       "      <td>410</td>\n",
       "      <td>4177</td>\n",
       "      <td>211</td>\n",
       "      <td>4177</td>\n",
       "      <td>193</td>\n",
       "      <td>4177</td>\n",
       "      <td>173</td>\n",
       "      <td>4177</td>\n",
       "      <td>4177</td>\n",
       "      <td>4177</td>\n",
       "      <td>4171</td>\n",
       "      <td>2883</td>\n",
       "      <td>2880</td>\n",
       "      <td>2851</td>\n",
       "      <td>233</td>\n",
       "      <td>26</td>\n",
       "      <td>1683</td>\n",
       "      <td>4177</td>\n",
       "      <td>4177</td>\n",
       "      <td>8</td>\n",
       "      <td>4177</td>\n",
       "      <td>4177</td>\n",
       "      <td>4175</td>\n",
       "      <td>4177</td>\n",
       "      <td>4174</td>\n",
       "      <td>4177</td>\n",
       "      <td>4177</td>\n",
       "      <td>4177</td>\n",
       "      <td>161</td>\n",
       "      <td>127</td>\n",
       "      <td>4177</td>\n",
       "      <td>4177</td>\n",
       "      <td>4177</td>\n",
       "      <td>4177</td>\n",
       "      <td>4177</td>\n",
       "      <td>4177</td>\n",
       "      <td>4177</td>\n",
       "      <td>690</td>\n",
       "      <td>4177</td>\n",
       "      <td>4177</td>\n",
       "      <td>4177</td>\n",
       "      <td>4177</td>\n",
       "      <td>4177</td>\n",
       "      <td>4177</td>\n",
       "      <td>4177</td>\n",
       "      <td>4177</td>\n",
       "      <td>4177</td>\n",
       "      <td>4177</td>\n",
       "      <td>4177</td>\n",
       "      <td>4177</td>\n",
       "      <td>4177</td>\n",
       "      <td>4177</td>\n",
       "      <td>4177</td>\n",
       "      <td>4177</td>\n",
       "      <td>4177</td>\n",
       "      <td>4177</td>\n",
       "      <td>4177</td>\n",
       "      <td>4177</td>\n",
       "      <td>4177</td>\n",
       "      <td>4177</td>\n",
       "      <td>4177</td>\n",
       "      <td>4177</td>\n",
       "      <td>4177</td>\n",
       "      <td>4177</td>\n",
       "      <td>4177</td>\n",
       "      <td>4177</td>\n",
       "      <td>4177</td>\n",
       "      <td>4177</td>\n",
       "      <td>4177</td>\n",
       "      <td>4177</td>\n",
       "      <td>4177</td>\n",
       "      <td>4177</td>\n",
       "      <td>4177</td>\n",
       "      <td>4177</td>\n",
       "      <td>4177</td>\n",
       "      <td>4177</td>\n",
       "      <td>4177</td>\n",
       "      <td>4177</td>\n",
       "      <td>2763</td>\n",
       "      <td>2763</td>\n",
       "    </tr>\n",
       "    <tr>\n",
       "      <th>3</th>\n",
       "      <td>4</td>\n",
       "      <td>1129</td>\n",
       "      <td>2315</td>\n",
       "      <td>2314</td>\n",
       "      <td>2315</td>\n",
       "      <td>2315</td>\n",
       "      <td>2315</td>\n",
       "      <td>2315</td>\n",
       "      <td>2315</td>\n",
       "      <td>1168</td>\n",
       "      <td>2313</td>\n",
       "      <td>2315</td>\n",
       "      <td>151</td>\n",
       "      <td>2315</td>\n",
       "      <td>1981</td>\n",
       "      <td>2315</td>\n",
       "      <td>2315</td>\n",
       "      <td>132</td>\n",
       "      <td>2315</td>\n",
       "      <td>33</td>\n",
       "      <td>2315</td>\n",
       "      <td>41</td>\n",
       "      <td>2315</td>\n",
       "      <td>90</td>\n",
       "      <td>2315</td>\n",
       "      <td>2315</td>\n",
       "      <td>2315</td>\n",
       "      <td>2313</td>\n",
       "      <td>2248</td>\n",
       "      <td>2254</td>\n",
       "      <td>2213</td>\n",
       "      <td>132</td>\n",
       "      <td>35</td>\n",
       "      <td>1112</td>\n",
       "      <td>2315</td>\n",
       "      <td>2315</td>\n",
       "      <td>14</td>\n",
       "      <td>2315</td>\n",
       "      <td>2315</td>\n",
       "      <td>2313</td>\n",
       "      <td>2315</td>\n",
       "      <td>2313</td>\n",
       "      <td>2315</td>\n",
       "      <td>2315</td>\n",
       "      <td>2315</td>\n",
       "      <td>65</td>\n",
       "      <td>38</td>\n",
       "      <td>2315</td>\n",
       "      <td>2315</td>\n",
       "      <td>2313</td>\n",
       "      <td>2315</td>\n",
       "      <td>2314</td>\n",
       "      <td>2315</td>\n",
       "      <td>2315</td>\n",
       "      <td>394</td>\n",
       "      <td>2315</td>\n",
       "      <td>2315</td>\n",
       "      <td>2315</td>\n",
       "      <td>2315</td>\n",
       "      <td>2315</td>\n",
       "      <td>2315</td>\n",
       "      <td>2315</td>\n",
       "      <td>2315</td>\n",
       "      <td>2315</td>\n",
       "      <td>2315</td>\n",
       "      <td>2315</td>\n",
       "      <td>2315</td>\n",
       "      <td>2315</td>\n",
       "      <td>2315</td>\n",
       "      <td>2315</td>\n",
       "      <td>2315</td>\n",
       "      <td>2315</td>\n",
       "      <td>2315</td>\n",
       "      <td>2315</td>\n",
       "      <td>2315</td>\n",
       "      <td>2315</td>\n",
       "      <td>2315</td>\n",
       "      <td>2315</td>\n",
       "      <td>2315</td>\n",
       "      <td>2315</td>\n",
       "      <td>2315</td>\n",
       "      <td>2315</td>\n",
       "      <td>2315</td>\n",
       "      <td>2315</td>\n",
       "      <td>2315</td>\n",
       "      <td>2315</td>\n",
       "      <td>2315</td>\n",
       "      <td>2315</td>\n",
       "      <td>2315</td>\n",
       "      <td>2315</td>\n",
       "      <td>2315</td>\n",
       "      <td>2315</td>\n",
       "      <td>2315</td>\n",
       "      <td>2315</td>\n",
       "      <td>2315</td>\n",
       "      <td>735</td>\n",
       "      <td>735</td>\n",
       "    </tr>\n",
       "  </tbody>\n",
       "</table>\n",
       "</div>"
      ],
      "text/plain": [
       "   assessed_primary  NAME_OS  NAME_EP1  P3_UID  P3_IGNORE  C21_AP  EPOCH_2  \\\n",
       "0                 1        0         3       3          3       3        3   \n",
       "1                 2      236       584     584        584     584      584   \n",
       "2                 3     1705      4177    4177       4177    4177     4177   \n",
       "3                 4     1129      2315    2314       2315    2315     2315   \n",
       "\n",
       "   EPOCH_1  C20_AP  C20_AP_REF  TITHE_REF  C19_EM  C19_EM_REF   OSD  OSD_REF  \\\n",
       "0        3       3           0          3       3           0     3        0   \n",
       "1      584     584         162        580     584          98   584      429   \n",
       "2     4177    4177        2131       4169    4177         359  4177     3621   \n",
       "3     2315    2315        1168       2313    2315         151  2315     1981   \n",
       "\n",
       "   CM_1773  C18_EM  C18_EM_REF  C17_EM  C17_EM_REF    EM  EM_REF  OTHER  \\\n",
       "0        3       3           0       3           0     3       0      3   \n",
       "1      584     584         185     584          22   584     108    584   \n",
       "2     4177    4177         410    4177         211  4177     193   4177   \n",
       "3     2315    2315         132    2315          33  2315      41   2315   \n",
       "\n",
       "   OTHER_REF  NAME_TITHE  NAME_OSD  NAME_EM  TITHE_REF_  TITHE_LAND  \\\n",
       "0          0           3         3        3           3           2   \n",
       "1         17         584       584      584         583         258   \n",
       "2        173        4177      4177     4177        4171        2883   \n",
       "3         90        2315      2315     2315        2313        2248   \n",
       "\n",
       "   TITHE_PLOT  TITHE_PL_1  COMMENTS  url  OSNAMES_UR  CHECK_NAME  TO_CHECK_N  \\\n",
       "0           2           2         1    0           0           3           3   \n",
       "1         258         255        20    0         235         584         584   \n",
       "2        2880        2851       233   26        1683        4177        4177   \n",
       "3        2254        2213       132   35        1112        2315        2315   \n",
       "\n",
       "   NOTES  LISTED_BUI  LISTED_PAR  P2_CLASS  P3_CLASS  P3_Status  TITHE  \\\n",
       "0      0           3           3         3         3          3      3   \n",
       "1      2         584         584       584       584        584    584   \n",
       "2      8        4177        4177      4175      4177       4174   4177   \n",
       "3     14        2315        2315      2313      2315       2313   2315   \n",
       "\n",
       "   GlobalID_1  EARLIEST_E  RESERVE  FORESTRY  SURVEY_PRI  ACTION  SITE_ID  \\\n",
       "0           3           3        1         0           3       3        3   \n",
       "1         584         584       40        73         584     584      584   \n",
       "2        4177        4177      161       127        4177    4177     4177   \n",
       "3        2315        2315       65        38        2315    2315     2313   \n",
       "\n",
       "   AreaHa  NAME  Shape_Leng  OBJECTID_1  HE_REF  geometry  intersects_old_AWI  \\\n",
       "0       3     3           3           3       1         3                   3   \n",
       "1     584   584         584         584     461       584                 584   \n",
       "2    4177  4177        4177        4177     690      4177                4177   \n",
       "3    2315  2314        2315        2315     394      2315                2315   \n",
       "\n",
       "   present_TITHE  zero_TITHE  assessed_TITHE  present_C19_EM  zero_C19_EM  \\\n",
       "0              3           3               3               3            3   \n",
       "1            584         584             584             584          584   \n",
       "2           4177        4177            4177            4177         4177   \n",
       "3           2315        2315            2315            2315         2315   \n",
       "\n",
       "   assessed_C19_EM  present_OSD  zero_OSD  assessed_OSD  present_CM_1773  \\\n",
       "0                3            3         3             3                3   \n",
       "1              584          584       584           584              584   \n",
       "2             4177         4177      4177          4177             4177   \n",
       "3             2315         2315      2315          2315             2315   \n",
       "\n",
       "   zero_CM_1773  assessed_CM_1773  present_C18_EM  zero_C18_EM  \\\n",
       "0             3                 3               3            3   \n",
       "1           584               584             584          584   \n",
       "2          4177              4177            4177         4177   \n",
       "3          2315              2315            2315         2315   \n",
       "\n",
       "   assessed_C18_EM  present_C17_EM  zero_C17_EM  assessed_C17_EM  present_EM  \\\n",
       "0                3               3            3                3           3   \n",
       "1              584             584          584              584         584   \n",
       "2             4177            4177         4177             4177        4177   \n",
       "3             2315            2315         2315             2315        2315   \n",
       "\n",
       "   zero_EM  assessed_EM  present_OTHER  zero_OTHER  assessed_OTHER  \\\n",
       "0        3            3              3           3               3   \n",
       "1      584          584            584         584             584   \n",
       "2     4177         4177           4177        4177            4177   \n",
       "3     2315         2315           2315        2315            2315   \n",
       "\n",
       "   present_HE_REF  zero_HE_REF  assessed_HE_REF  present_combined  \\\n",
       "0               3            3                3                 3   \n",
       "1             584          584              584               584   \n",
       "2            4177         4177             4177              4177   \n",
       "3            2315         2315             2315              2315   \n",
       "\n",
       "   present_primary  present_secondary  zero_combined  zero_primary  \\\n",
       "0                3                  3              3             3   \n",
       "1              584                584            584           584   \n",
       "2             4177               4177           4177          4177   \n",
       "3             2315               2315           2315          2315   \n",
       "\n",
       "   zero_secondary  present_NAME_TITHE  present_NAME_EP1  present_NAME_OSD  \\\n",
       "0               3                   3                 3                 3   \n",
       "1             584                 584               584               584   \n",
       "2            4177                4177              4177              4177   \n",
       "3            2315                2315              2315              2315   \n",
       "\n",
       "   present_NAME_EM  name_present  Category  subCategory  \n",
       "0                3             3         3            3  \n",
       "1              584           584       541          541  \n",
       "2             4177          4177      2763         2763  \n",
       "3             2315          2315       735          735  "
      ]
     },
     "execution_count": 172,
     "metadata": {},
     "output_type": "execute_result"
    }
   ],
   "source": [
    "df_grouped"
   ]
  },
  {
   "cell_type": "code",
   "execution_count": 44,
   "metadata": {},
   "outputs": [],
   "source": [
    "df_grouped_not_ancient  = df_grouped[df_grouped.Category =='Not ancient woodland']"
   ]
  },
  {
   "cell_type": "code",
   "execution_count": 175,
   "metadata": {},
   "outputs": [
    {
     "data": {
      "application/vnd.plotly.v1+json": {
       "config": {
        "plotlyServerURL": "https://plot.ly"
       },
       "data": [
        {
         "hovertemplate": "assessed_primary=%{x}<br>P3_UID=%{y}<br>intersects_old_AWI=%{marker.color}<extra></extra>",
         "legendgroup": "",
         "marker": {
          "color": {
           "bdata": "fABsDy8KkAE=",
           "dtype": "i2"
          },
          "coloraxis": "coloraxis",
          "pattern": {
           "shape": ""
          }
         },
         "name": "",
         "orientation": "v",
         "showlegend": false,
         "textposition": "auto",
         "type": "bar",
         "x": {
          "bdata": "AQIDBA==",
          "dtype": "i1"
         },
         "xaxis": "x",
         "y": {
          "bdata": "fABsDy4KkAE=",
          "dtype": "i2"
         },
         "yaxis": "y"
        }
       ],
       "layout": {
        "barmode": "relative",
        "coloraxis": {
         "colorbar": {
          "title": {
           "text": "intersects_old_AWI"
          }
         },
         "colorscale": [
          [
           0,
           "#0d0887"
          ],
          [
           0.1111111111111111,
           "#46039f"
          ],
          [
           0.2222222222222222,
           "#7201a8"
          ],
          [
           0.3333333333333333,
           "#9c179e"
          ],
          [
           0.4444444444444444,
           "#bd3786"
          ],
          [
           0.5555555555555556,
           "#d8576b"
          ],
          [
           0.6666666666666666,
           "#ed7953"
          ],
          [
           0.7777777777777778,
           "#fb9f3a"
          ],
          [
           0.8888888888888888,
           "#fdca26"
          ],
          [
           1,
           "#f0f921"
          ]
         ]
        },
        "legend": {
         "tracegroupgap": 0
        },
        "margin": {
         "t": 60
        },
        "template": {
         "data": {
          "bar": [
           {
            "error_x": {
             "color": "#2a3f5f"
            },
            "error_y": {
             "color": "#2a3f5f"
            },
            "marker": {
             "line": {
              "color": "#E5ECF6",
              "width": 0.5
             },
             "pattern": {
              "fillmode": "overlay",
              "size": 10,
              "solidity": 0.2
             }
            },
            "type": "bar"
           }
          ],
          "barpolar": [
           {
            "marker": {
             "line": {
              "color": "#E5ECF6",
              "width": 0.5
             },
             "pattern": {
              "fillmode": "overlay",
              "size": 10,
              "solidity": 0.2
             }
            },
            "type": "barpolar"
           }
          ],
          "carpet": [
           {
            "aaxis": {
             "endlinecolor": "#2a3f5f",
             "gridcolor": "white",
             "linecolor": "white",
             "minorgridcolor": "white",
             "startlinecolor": "#2a3f5f"
            },
            "baxis": {
             "endlinecolor": "#2a3f5f",
             "gridcolor": "white",
             "linecolor": "white",
             "minorgridcolor": "white",
             "startlinecolor": "#2a3f5f"
            },
            "type": "carpet"
           }
          ],
          "choropleth": [
           {
            "colorbar": {
             "outlinewidth": 0,
             "ticks": ""
            },
            "type": "choropleth"
           }
          ],
          "contour": [
           {
            "colorbar": {
             "outlinewidth": 0,
             "ticks": ""
            },
            "colorscale": [
             [
              0,
              "#0d0887"
             ],
             [
              0.1111111111111111,
              "#46039f"
             ],
             [
              0.2222222222222222,
              "#7201a8"
             ],
             [
              0.3333333333333333,
              "#9c179e"
             ],
             [
              0.4444444444444444,
              "#bd3786"
             ],
             [
              0.5555555555555556,
              "#d8576b"
             ],
             [
              0.6666666666666666,
              "#ed7953"
             ],
             [
              0.7777777777777778,
              "#fb9f3a"
             ],
             [
              0.8888888888888888,
              "#fdca26"
             ],
             [
              1,
              "#f0f921"
             ]
            ],
            "type": "contour"
           }
          ],
          "contourcarpet": [
           {
            "colorbar": {
             "outlinewidth": 0,
             "ticks": ""
            },
            "type": "contourcarpet"
           }
          ],
          "heatmap": [
           {
            "colorbar": {
             "outlinewidth": 0,
             "ticks": ""
            },
            "colorscale": [
             [
              0,
              "#0d0887"
             ],
             [
              0.1111111111111111,
              "#46039f"
             ],
             [
              0.2222222222222222,
              "#7201a8"
             ],
             [
              0.3333333333333333,
              "#9c179e"
             ],
             [
              0.4444444444444444,
              "#bd3786"
             ],
             [
              0.5555555555555556,
              "#d8576b"
             ],
             [
              0.6666666666666666,
              "#ed7953"
             ],
             [
              0.7777777777777778,
              "#fb9f3a"
             ],
             [
              0.8888888888888888,
              "#fdca26"
             ],
             [
              1,
              "#f0f921"
             ]
            ],
            "type": "heatmap"
           }
          ],
          "histogram": [
           {
            "marker": {
             "pattern": {
              "fillmode": "overlay",
              "size": 10,
              "solidity": 0.2
             }
            },
            "type": "histogram"
           }
          ],
          "histogram2d": [
           {
            "colorbar": {
             "outlinewidth": 0,
             "ticks": ""
            },
            "colorscale": [
             [
              0,
              "#0d0887"
             ],
             [
              0.1111111111111111,
              "#46039f"
             ],
             [
              0.2222222222222222,
              "#7201a8"
             ],
             [
              0.3333333333333333,
              "#9c179e"
             ],
             [
              0.4444444444444444,
              "#bd3786"
             ],
             [
              0.5555555555555556,
              "#d8576b"
             ],
             [
              0.6666666666666666,
              "#ed7953"
             ],
             [
              0.7777777777777778,
              "#fb9f3a"
             ],
             [
              0.8888888888888888,
              "#fdca26"
             ],
             [
              1,
              "#f0f921"
             ]
            ],
            "type": "histogram2d"
           }
          ],
          "histogram2dcontour": [
           {
            "colorbar": {
             "outlinewidth": 0,
             "ticks": ""
            },
            "colorscale": [
             [
              0,
              "#0d0887"
             ],
             [
              0.1111111111111111,
              "#46039f"
             ],
             [
              0.2222222222222222,
              "#7201a8"
             ],
             [
              0.3333333333333333,
              "#9c179e"
             ],
             [
              0.4444444444444444,
              "#bd3786"
             ],
             [
              0.5555555555555556,
              "#d8576b"
             ],
             [
              0.6666666666666666,
              "#ed7953"
             ],
             [
              0.7777777777777778,
              "#fb9f3a"
             ],
             [
              0.8888888888888888,
              "#fdca26"
             ],
             [
              1,
              "#f0f921"
             ]
            ],
            "type": "histogram2dcontour"
           }
          ],
          "mesh3d": [
           {
            "colorbar": {
             "outlinewidth": 0,
             "ticks": ""
            },
            "type": "mesh3d"
           }
          ],
          "parcoords": [
           {
            "line": {
             "colorbar": {
              "outlinewidth": 0,
              "ticks": ""
             }
            },
            "type": "parcoords"
           }
          ],
          "pie": [
           {
            "automargin": true,
            "type": "pie"
           }
          ],
          "scatter": [
           {
            "fillpattern": {
             "fillmode": "overlay",
             "size": 10,
             "solidity": 0.2
            },
            "type": "scatter"
           }
          ],
          "scatter3d": [
           {
            "line": {
             "colorbar": {
              "outlinewidth": 0,
              "ticks": ""
             }
            },
            "marker": {
             "colorbar": {
              "outlinewidth": 0,
              "ticks": ""
             }
            },
            "type": "scatter3d"
           }
          ],
          "scattercarpet": [
           {
            "marker": {
             "colorbar": {
              "outlinewidth": 0,
              "ticks": ""
             }
            },
            "type": "scattercarpet"
           }
          ],
          "scattergeo": [
           {
            "marker": {
             "colorbar": {
              "outlinewidth": 0,
              "ticks": ""
             }
            },
            "type": "scattergeo"
           }
          ],
          "scattergl": [
           {
            "marker": {
             "colorbar": {
              "outlinewidth": 0,
              "ticks": ""
             }
            },
            "type": "scattergl"
           }
          ],
          "scattermap": [
           {
            "marker": {
             "colorbar": {
              "outlinewidth": 0,
              "ticks": ""
             }
            },
            "type": "scattermap"
           }
          ],
          "scattermapbox": [
           {
            "marker": {
             "colorbar": {
              "outlinewidth": 0,
              "ticks": ""
             }
            },
            "type": "scattermapbox"
           }
          ],
          "scatterpolar": [
           {
            "marker": {
             "colorbar": {
              "outlinewidth": 0,
              "ticks": ""
             }
            },
            "type": "scatterpolar"
           }
          ],
          "scatterpolargl": [
           {
            "marker": {
             "colorbar": {
              "outlinewidth": 0,
              "ticks": ""
             }
            },
            "type": "scatterpolargl"
           }
          ],
          "scatterternary": [
           {
            "marker": {
             "colorbar": {
              "outlinewidth": 0,
              "ticks": ""
             }
            },
            "type": "scatterternary"
           }
          ],
          "surface": [
           {
            "colorbar": {
             "outlinewidth": 0,
             "ticks": ""
            },
            "colorscale": [
             [
              0,
              "#0d0887"
             ],
             [
              0.1111111111111111,
              "#46039f"
             ],
             [
              0.2222222222222222,
              "#7201a8"
             ],
             [
              0.3333333333333333,
              "#9c179e"
             ],
             [
              0.4444444444444444,
              "#bd3786"
             ],
             [
              0.5555555555555556,
              "#d8576b"
             ],
             [
              0.6666666666666666,
              "#ed7953"
             ],
             [
              0.7777777777777778,
              "#fb9f3a"
             ],
             [
              0.8888888888888888,
              "#fdca26"
             ],
             [
              1,
              "#f0f921"
             ]
            ],
            "type": "surface"
           }
          ],
          "table": [
           {
            "cells": {
             "fill": {
              "color": "#EBF0F8"
             },
             "line": {
              "color": "white"
             }
            },
            "header": {
             "fill": {
              "color": "#C8D4E3"
             },
             "line": {
              "color": "white"
             }
            },
            "type": "table"
           }
          ]
         },
         "layout": {
          "annotationdefaults": {
           "arrowcolor": "#2a3f5f",
           "arrowhead": 0,
           "arrowwidth": 1
          },
          "autotypenumbers": "strict",
          "coloraxis": {
           "colorbar": {
            "outlinewidth": 0,
            "ticks": ""
           }
          },
          "colorscale": {
           "diverging": [
            [
             0,
             "#8e0152"
            ],
            [
             0.1,
             "#c51b7d"
            ],
            [
             0.2,
             "#de77ae"
            ],
            [
             0.3,
             "#f1b6da"
            ],
            [
             0.4,
             "#fde0ef"
            ],
            [
             0.5,
             "#f7f7f7"
            ],
            [
             0.6,
             "#e6f5d0"
            ],
            [
             0.7,
             "#b8e186"
            ],
            [
             0.8,
             "#7fbc41"
            ],
            [
             0.9,
             "#4d9221"
            ],
            [
             1,
             "#276419"
            ]
           ],
           "sequential": [
            [
             0,
             "#0d0887"
            ],
            [
             0.1111111111111111,
             "#46039f"
            ],
            [
             0.2222222222222222,
             "#7201a8"
            ],
            [
             0.3333333333333333,
             "#9c179e"
            ],
            [
             0.4444444444444444,
             "#bd3786"
            ],
            [
             0.5555555555555556,
             "#d8576b"
            ],
            [
             0.6666666666666666,
             "#ed7953"
            ],
            [
             0.7777777777777778,
             "#fb9f3a"
            ],
            [
             0.8888888888888888,
             "#fdca26"
            ],
            [
             1,
             "#f0f921"
            ]
           ],
           "sequentialminus": [
            [
             0,
             "#0d0887"
            ],
            [
             0.1111111111111111,
             "#46039f"
            ],
            [
             0.2222222222222222,
             "#7201a8"
            ],
            [
             0.3333333333333333,
             "#9c179e"
            ],
            [
             0.4444444444444444,
             "#bd3786"
            ],
            [
             0.5555555555555556,
             "#d8576b"
            ],
            [
             0.6666666666666666,
             "#ed7953"
            ],
            [
             0.7777777777777778,
             "#fb9f3a"
            ],
            [
             0.8888888888888888,
             "#fdca26"
            ],
            [
             1,
             "#f0f921"
            ]
           ]
          },
          "colorway": [
           "#636efa",
           "#EF553B",
           "#00cc96",
           "#ab63fa",
           "#FFA15A",
           "#19d3f3",
           "#FF6692",
           "#B6E880",
           "#FF97FF",
           "#FECB52"
          ],
          "font": {
           "color": "#2a3f5f"
          },
          "geo": {
           "bgcolor": "white",
           "lakecolor": "white",
           "landcolor": "#E5ECF6",
           "showlakes": true,
           "showland": true,
           "subunitcolor": "white"
          },
          "hoverlabel": {
           "align": "left"
          },
          "hovermode": "closest",
          "mapbox": {
           "style": "light"
          },
          "paper_bgcolor": "white",
          "plot_bgcolor": "#E5ECF6",
          "polar": {
           "angularaxis": {
            "gridcolor": "white",
            "linecolor": "white",
            "ticks": ""
           },
           "bgcolor": "#E5ECF6",
           "radialaxis": {
            "gridcolor": "white",
            "linecolor": "white",
            "ticks": ""
           }
          },
          "scene": {
           "xaxis": {
            "backgroundcolor": "#E5ECF6",
            "gridcolor": "white",
            "gridwidth": 2,
            "linecolor": "white",
            "showbackground": true,
            "ticks": "",
            "zerolinecolor": "white"
           },
           "yaxis": {
            "backgroundcolor": "#E5ECF6",
            "gridcolor": "white",
            "gridwidth": 2,
            "linecolor": "white",
            "showbackground": true,
            "ticks": "",
            "zerolinecolor": "white"
           },
           "zaxis": {
            "backgroundcolor": "#E5ECF6",
            "gridcolor": "white",
            "gridwidth": 2,
            "linecolor": "white",
            "showbackground": true,
            "ticks": "",
            "zerolinecolor": "white"
           }
          },
          "shapedefaults": {
           "line": {
            "color": "#2a3f5f"
           }
          },
          "ternary": {
           "aaxis": {
            "gridcolor": "white",
            "linecolor": "white",
            "ticks": ""
           },
           "baxis": {
            "gridcolor": "white",
            "linecolor": "white",
            "ticks": ""
           },
           "bgcolor": "#E5ECF6",
           "caxis": {
            "gridcolor": "white",
            "linecolor": "white",
            "ticks": ""
           }
          },
          "title": {
           "x": 0.05
          },
          "xaxis": {
           "automargin": true,
           "gridcolor": "white",
           "linecolor": "white",
           "ticks": "",
           "title": {
            "standoff": 15
           },
           "zerolinecolor": "white",
           "zerolinewidth": 2
          },
          "yaxis": {
           "automargin": true,
           "gridcolor": "white",
           "linecolor": "white",
           "ticks": "",
           "title": {
            "standoff": 15
           },
           "zerolinecolor": "white",
           "zerolinewidth": 2
          }
         }
        },
        "xaxis": {
         "anchor": "y",
         "domain": [
          0,
          1
         ],
         "title": {
          "text": "assessed_primary"
         }
        },
        "yaxis": {
         "anchor": "x",
         "domain": [
          0,
          1
         ],
         "title": {
          "text": "P3_UID"
         }
        }
       }
      }
     },
     "metadata": {},
     "output_type": "display_data"
    }
   ],
   "source": [
    "fig = px.bar(df_grouped, x ='assessed_primary', y = 'P3_UID' , color='intersects_old_AWI')\n",
    "fig.show()"
   ]
  },
  {
   "cell_type": "markdown",
   "metadata": {},
   "source": [
    "# Decision tree diagram"
   ]
  },
  {
   "cell_type": "code",
   "execution_count": 146,
   "metadata": {},
   "outputs": [],
   "source": [
    "df_one_primary_one_zero\n",
    "df_sankey = {'source':[0,1,2,2,1,5,6,6,8,8, 5, 11,11,0, 14,15,15,17,17,14,21,21],\n",
    "            'target':[ 1,2,3,4,5,6,7,8,9,10,11,12,13,21,15,16,17,18,19,20,14,22],\n",
    "            'value':[df_no_primary.shape[0],df_no_evidence.shape[0],df_no_evidence_zero.shape[0],df_no_evidence_no_zero.shape[0],df_secondary.shape[0],df_secondary_zero.shape[0],\n",
    "                    df_secondary_plural_zero.shape[0],df_secondary_one_zero.shape[0],df_secondary_one_zero_not_named.shape[0],df_secondary_one_zero_named.shape[0],\n",
    "                    df_secondary_no_zero.shape[0],df_secondary_no_zero_not_named.shape[0],df_secondary_no_zero_named.shape[0],df_primary.shape[0],\n",
    "                    df_one_primary_zero.shape[0],df_one_primary_plural_zero.shape[0],df_one_primary_one_zero.shape[0],df_primary_one_zero_not_named.shape[0],df_one_primary_one_zero_named.shape[0],\n",
    "                    df_one_primary_no_zero.shape[0],df_primary_one.shape[0],df_primary_two.shape[0]],\n",
    "            'colour':['#fb9985','#fb9985','#fb9985','#AFE1AF','#AFE1AF','#fb9985','#fb9985','#AFE1AF','#fb9985','#AFE1AF','#AFE1AF','#fb9985','#AFE1AF','#AFE1AF','#fb9985','#fb9985','#AFE1AF',\n",
    "                '#fb9985','#AFE1AF','#AFE1AF','#fb9985','#AFE1AF'],\n",
    "            'name':['primary source present?','secondary source present?','less than one zero present?','Contains zero','No zeros present','less than one zero present?','Only one zero?',\n",
    "                'Multiple zeros present','Named?','Not named','Named','Named?','Not named','Named','less than one zero present?','Only one zero?','Multiple zeros present','Named?',\n",
    "                'Not named','Named','No zeros present','Two primary sources present?','Two primary sources present'],\n",
    "            'node_colour':['#ded6e2','#ded6e2','#ded6e2','#d0311a','#f8a54f','#ded6e2','#ded6e2','#d0311a','#ded6e2','#f8a54f','#f8a54f','#ded6e2','#f8a54f','#2ea411','#ded6e2','#ded6e2','#d0311a','#ded6e2',\n",
    "                '#f8a54f','#2ea411','#2ea411','#ded6e2','#2ea411']}"
   ]
  },
  {
   "cell_type": "code",
   "execution_count": 155,
   "metadata": {},
   "outputs": [
    {
     "data": {
      "text/html": [
       "<div>\n",
       "<style scoped>\n",
       "    .dataframe tbody tr th:only-of-type {\n",
       "        vertical-align: middle;\n",
       "    }\n",
       "\n",
       "    .dataframe tbody tr th {\n",
       "        vertical-align: top;\n",
       "    }\n",
       "\n",
       "    .dataframe thead th {\n",
       "        text-align: right;\n",
       "    }\n",
       "</style>\n",
       "<table border=\"1\" class=\"dataframe\">\n",
       "  <thead>\n",
       "    <tr style=\"text-align: right;\">\n",
       "      <th></th>\n",
       "      <th>NAME_OS</th>\n",
       "      <th>NAME_EP1</th>\n",
       "      <th>P3_UID</th>\n",
       "      <th>P3_IGNORE</th>\n",
       "      <th>C21_AP</th>\n",
       "      <th>EPOCH_2</th>\n",
       "      <th>EPOCH_1</th>\n",
       "      <th>C20_AP</th>\n",
       "      <th>C20_AP_REF</th>\n",
       "      <th>TITHE_REF</th>\n",
       "      <th>C19_EM</th>\n",
       "      <th>C19_EM_REF</th>\n",
       "      <th>OSD</th>\n",
       "      <th>OSD_REF</th>\n",
       "      <th>CM_1773</th>\n",
       "      <th>C18_EM</th>\n",
       "      <th>C18_EM_REF</th>\n",
       "      <th>C17_EM</th>\n",
       "      <th>C17_EM_REF</th>\n",
       "      <th>EM</th>\n",
       "      <th>EM_REF</th>\n",
       "      <th>OTHER</th>\n",
       "      <th>OTHER_REF</th>\n",
       "      <th>NAME_TITHE</th>\n",
       "      <th>NAME_OSD</th>\n",
       "      <th>NAME_EM</th>\n",
       "      <th>TITHE_REF_</th>\n",
       "      <th>TITHE_LAND</th>\n",
       "      <th>TITHE_PLOT</th>\n",
       "      <th>TITHE_PL_1</th>\n",
       "      <th>COMMENTS</th>\n",
       "      <th>url</th>\n",
       "      <th>OSNAMES_UR</th>\n",
       "      <th>CHECK_NAME</th>\n",
       "      <th>TO_CHECK_N</th>\n",
       "      <th>NOTES</th>\n",
       "      <th>LISTED_BUI</th>\n",
       "      <th>LISTED_PAR</th>\n",
       "      <th>P2_CLASS</th>\n",
       "      <th>P3_CLASS</th>\n",
       "      <th>P3_Status</th>\n",
       "      <th>TITHE</th>\n",
       "      <th>GlobalID_1</th>\n",
       "      <th>EARLIEST_E</th>\n",
       "      <th>RESERVE</th>\n",
       "      <th>FORESTRY</th>\n",
       "      <th>SURVEY_PRI</th>\n",
       "      <th>ACTION</th>\n",
       "      <th>SITE_ID</th>\n",
       "      <th>AreaHa</th>\n",
       "      <th>NAME</th>\n",
       "      <th>Shape_Leng</th>\n",
       "      <th>OBJECTID_1</th>\n",
       "      <th>HE_REF</th>\n",
       "      <th>geometry</th>\n",
       "      <th>intersects_old_AWI</th>\n",
       "      <th>present_TITHE</th>\n",
       "      <th>zero_TITHE</th>\n",
       "      <th>assessed_TITHE</th>\n",
       "      <th>present_C19_EM</th>\n",
       "      <th>zero_C19_EM</th>\n",
       "      <th>assessed_C19_EM</th>\n",
       "      <th>present_OSD</th>\n",
       "      <th>zero_OSD</th>\n",
       "      <th>assessed_OSD</th>\n",
       "      <th>present_CM_1773</th>\n",
       "      <th>zero_CM_1773</th>\n",
       "      <th>assessed_CM_1773</th>\n",
       "      <th>present_C18_EM</th>\n",
       "      <th>zero_C18_EM</th>\n",
       "      <th>assessed_C18_EM</th>\n",
       "      <th>present_C17_EM</th>\n",
       "      <th>zero_C17_EM</th>\n",
       "      <th>assessed_C17_EM</th>\n",
       "      <th>present_EM</th>\n",
       "      <th>zero_EM</th>\n",
       "      <th>assessed_EM</th>\n",
       "      <th>present_OTHER</th>\n",
       "      <th>zero_OTHER</th>\n",
       "      <th>assessed_OTHER</th>\n",
       "      <th>present_HE_REF</th>\n",
       "      <th>zero_HE_REF</th>\n",
       "      <th>assessed_HE_REF</th>\n",
       "      <th>present_combined</th>\n",
       "      <th>present_primary</th>\n",
       "      <th>present_secondary</th>\n",
       "      <th>zero_combined</th>\n",
       "      <th>zero_primary</th>\n",
       "      <th>zero_secondary</th>\n",
       "      <th>assessed_primary</th>\n",
       "      <th>present_NAME_TITHE</th>\n",
       "      <th>present_NAME_EP1</th>\n",
       "      <th>present_NAME_OSD</th>\n",
       "      <th>present_NAME_EM</th>\n",
       "      <th>name_present</th>\n",
       "    </tr>\n",
       "  </thead>\n",
       "  <tbody>\n",
       "    <tr>\n",
       "      <th>365</th>\n",
       "      <td>None</td>\n",
       "      <td>None</td>\n",
       "      <td>WiltsAWI_04036_01</td>\n",
       "      <td>0</td>\n",
       "      <td>1</td>\n",
       "      <td>5</td>\n",
       "      <td>1</td>\n",
       "      <td>5</td>\n",
       "      <td>None</td>\n",
       "      <td>NA</td>\n",
       "      <td>5</td>\n",
       "      <td>None</td>\n",
       "      <td>2</td>\n",
       "      <td>Andover</td>\n",
       "      <td>4</td>\n",
       "      <td>5</td>\n",
       "      <td>None</td>\n",
       "      <td>5</td>\n",
       "      <td>None</td>\n",
       "      <td>5</td>\n",
       "      <td>None</td>\n",
       "      <td>5</td>\n",
       "      <td>None</td>\n",
       "      <td>None</td>\n",
       "      <td>None</td>\n",
       "      <td>None</td>\n",
       "      <td>NA</td>\n",
       "      <td>None</td>\n",
       "      <td>None</td>\n",
       "      <td>None</td>\n",
       "      <td>None</td>\n",
       "      <td>None</td>\n",
       "      <td>None</td>\n",
       "      <td>0</td>\n",
       "      <td>1</td>\n",
       "      <td>Lots of trees have been removed, monitor that ...</td>\n",
       "      <td>0</td>\n",
       "      <td>0</td>\n",
       "      <td>POT</td>\n",
       "      <td>SPLIT</td>\n",
       "      <td>WOOD</td>\n",
       "      <td>4</td>\n",
       "      <td>{DE7B5785-4A26-4CFA-B9D7-9970079BB97E}</td>\n",
       "      <td>C19-Early</td>\n",
       "      <td>None</td>\n",
       "      <td>None</td>\n",
       "      <td>0</td>\n",
       "      <td>0</td>\n",
       "      <td>SITE_1590</td>\n",
       "      <td>20.058221</td>\n",
       "      <td>WiltsAWI_04036_01</td>\n",
       "      <td>2470.880517</td>\n",
       "      <td>0</td>\n",
       "      <td>None</td>\n",
       "      <td>POLYGON ((424233.4 147842.5, 424236 147846.65,...</td>\n",
       "      <td>True</td>\n",
       "      <td>0</td>\n",
       "      <td>0</td>\n",
       "      <td>0</td>\n",
       "      <td>0</td>\n",
       "      <td>0</td>\n",
       "      <td>0</td>\n",
       "      <td>1</td>\n",
       "      <td>0</td>\n",
       "      <td>1</td>\n",
       "      <td>0</td>\n",
       "      <td>0</td>\n",
       "      <td>0</td>\n",
       "      <td>0</td>\n",
       "      <td>0</td>\n",
       "      <td>0</td>\n",
       "      <td>0</td>\n",
       "      <td>0</td>\n",
       "      <td>0</td>\n",
       "      <td>0</td>\n",
       "      <td>0</td>\n",
       "      <td>0</td>\n",
       "      <td>0</td>\n",
       "      <td>0</td>\n",
       "      <td>0</td>\n",
       "      <td>0</td>\n",
       "      <td>0</td>\n",
       "      <td>1</td>\n",
       "      <td>1</td>\n",
       "      <td>1</td>\n",
       "      <td>0</td>\n",
       "      <td>0</td>\n",
       "      <td>0</td>\n",
       "      <td>0</td>\n",
       "      <td>2</td>\n",
       "      <td>0</td>\n",
       "      <td>0</td>\n",
       "      <td>0</td>\n",
       "      <td>0</td>\n",
       "      <td>0</td>\n",
       "    </tr>\n",
       "    <tr>\n",
       "      <th>388</th>\n",
       "      <td>None</td>\n",
       "      <td>None</td>\n",
       "      <td>WiltsAWI_04036_01</td>\n",
       "      <td>0</td>\n",
       "      <td>1</td>\n",
       "      <td>5</td>\n",
       "      <td>1</td>\n",
       "      <td>5</td>\n",
       "      <td>None</td>\n",
       "      <td>NA</td>\n",
       "      <td>5</td>\n",
       "      <td>None</td>\n",
       "      <td>2</td>\n",
       "      <td>Andover</td>\n",
       "      <td>4</td>\n",
       "      <td>5</td>\n",
       "      <td>None</td>\n",
       "      <td>5</td>\n",
       "      <td>None</td>\n",
       "      <td>5</td>\n",
       "      <td>None</td>\n",
       "      <td>5</td>\n",
       "      <td>None</td>\n",
       "      <td>None</td>\n",
       "      <td>None</td>\n",
       "      <td>None</td>\n",
       "      <td>NA</td>\n",
       "      <td>None</td>\n",
       "      <td>None</td>\n",
       "      <td>None</td>\n",
       "      <td>None</td>\n",
       "      <td>None</td>\n",
       "      <td>None</td>\n",
       "      <td>0</td>\n",
       "      <td>1</td>\n",
       "      <td>None</td>\n",
       "      <td>0</td>\n",
       "      <td>0</td>\n",
       "      <td>POT</td>\n",
       "      <td>SPLIT</td>\n",
       "      <td>PAWS</td>\n",
       "      <td>4</td>\n",
       "      <td>{84C3EBE4-4E98-44C8-9B0F-8033DC522DE2}</td>\n",
       "      <td>C19-Early</td>\n",
       "      <td>None</td>\n",
       "      <td>None</td>\n",
       "      <td>0</td>\n",
       "      <td>0</td>\n",
       "      <td>SITE_1590</td>\n",
       "      <td>5.284747</td>\n",
       "      <td>WiltsAWI_04036_01</td>\n",
       "      <td>1054.356869</td>\n",
       "      <td>0</td>\n",
       "      <td>None</td>\n",
       "      <td>POLYGON ((424629.34 148107.18, 424625.657 1481...</td>\n",
       "      <td>False</td>\n",
       "      <td>0</td>\n",
       "      <td>0</td>\n",
       "      <td>0</td>\n",
       "      <td>0</td>\n",
       "      <td>0</td>\n",
       "      <td>0</td>\n",
       "      <td>1</td>\n",
       "      <td>0</td>\n",
       "      <td>1</td>\n",
       "      <td>0</td>\n",
       "      <td>0</td>\n",
       "      <td>0</td>\n",
       "      <td>0</td>\n",
       "      <td>0</td>\n",
       "      <td>0</td>\n",
       "      <td>0</td>\n",
       "      <td>0</td>\n",
       "      <td>0</td>\n",
       "      <td>0</td>\n",
       "      <td>0</td>\n",
       "      <td>0</td>\n",
       "      <td>0</td>\n",
       "      <td>0</td>\n",
       "      <td>0</td>\n",
       "      <td>0</td>\n",
       "      <td>0</td>\n",
       "      <td>1</td>\n",
       "      <td>1</td>\n",
       "      <td>1</td>\n",
       "      <td>0</td>\n",
       "      <td>0</td>\n",
       "      <td>0</td>\n",
       "      <td>0</td>\n",
       "      <td>2</td>\n",
       "      <td>0</td>\n",
       "      <td>0</td>\n",
       "      <td>0</td>\n",
       "      <td>0</td>\n",
       "      <td>0</td>\n",
       "    </tr>\n",
       "  </tbody>\n",
       "</table>\n",
       "</div>"
      ],
      "text/plain": [
       "    NAME_OS NAME_EP1             P3_UID  P3_IGNORE  C21_AP  EPOCH_2  EPOCH_1  \\\n",
       "365    None     None  WiltsAWI_04036_01          0       1        5        1   \n",
       "388    None     None  WiltsAWI_04036_01          0       1        5        1   \n",
       "\n",
       "     C20_AP C20_AP_REF TITHE_REF  C19_EM C19_EM_REF  OSD  OSD_REF  CM_1773  \\\n",
       "365       5       None        NA       5       None    2  Andover        4   \n",
       "388       5       None        NA       5       None    2  Andover        4   \n",
       "\n",
       "     C18_EM C18_EM_REF  C17_EM C17_EM_REF  EM EM_REF  OTHER OTHER_REF  \\\n",
       "365       5       None       5       None   5   None      5      None   \n",
       "388       5       None       5       None   5   None      5      None   \n",
       "\n",
       "    NAME_TITHE NAME_OSD NAME_EM TITHE_REF_ TITHE_LAND TITHE_PLOT TITHE_PL_1  \\\n",
       "365       None     None    None         NA       None       None       None   \n",
       "388       None     None    None         NA       None       None       None   \n",
       "\n",
       "    COMMENTS   url OSNAMES_UR  CHECK_NAME  TO_CHECK_N  \\\n",
       "365     None  None       None           0           1   \n",
       "388     None  None       None           0           1   \n",
       "\n",
       "                                                 NOTES  LISTED_BUI  \\\n",
       "365  Lots of trees have been removed, monitor that ...           0   \n",
       "388                                               None           0   \n",
       "\n",
       "     LISTED_PAR P2_CLASS P3_CLASS P3_Status  TITHE  \\\n",
       "365           0      POT    SPLIT      WOOD      4   \n",
       "388           0      POT    SPLIT      PAWS      4   \n",
       "\n",
       "                                 GlobalID_1 EARLIEST_E RESERVE FORESTRY  \\\n",
       "365  {DE7B5785-4A26-4CFA-B9D7-9970079BB97E}  C19-Early    None     None   \n",
       "388  {84C3EBE4-4E98-44C8-9B0F-8033DC522DE2}  C19-Early    None     None   \n",
       "\n",
       "     SURVEY_PRI  ACTION    SITE_ID     AreaHa               NAME   Shape_Leng  \\\n",
       "365           0       0  SITE_1590  20.058221  WiltsAWI_04036_01  2470.880517   \n",
       "388           0       0  SITE_1590   5.284747  WiltsAWI_04036_01  1054.356869   \n",
       "\n",
       "     OBJECTID_1 HE_REF                                           geometry  \\\n",
       "365           0   None  POLYGON ((424233.4 147842.5, 424236 147846.65,...   \n",
       "388           0   None  POLYGON ((424629.34 148107.18, 424625.657 1481...   \n",
       "\n",
       "     intersects_old_AWI  present_TITHE  zero_TITHE  assessed_TITHE  \\\n",
       "365                True              0           0               0   \n",
       "388               False              0           0               0   \n",
       "\n",
       "     present_C19_EM  zero_C19_EM  assessed_C19_EM  present_OSD  zero_OSD  \\\n",
       "365               0            0                0            1         0   \n",
       "388               0            0                0            1         0   \n",
       "\n",
       "     assessed_OSD  present_CM_1773  zero_CM_1773  assessed_CM_1773  \\\n",
       "365             1                0             0                 0   \n",
       "388             1                0             0                 0   \n",
       "\n",
       "     present_C18_EM  zero_C18_EM  assessed_C18_EM  present_C17_EM  \\\n",
       "365               0            0                0               0   \n",
       "388               0            0                0               0   \n",
       "\n",
       "     zero_C17_EM  assessed_C17_EM  present_EM  zero_EM  assessed_EM  \\\n",
       "365            0                0           0        0            0   \n",
       "388            0                0           0        0            0   \n",
       "\n",
       "     present_OTHER  zero_OTHER  assessed_OTHER  present_HE_REF  zero_HE_REF  \\\n",
       "365              0           0               0               0            0   \n",
       "388              0           0               0               0            0   \n",
       "\n",
       "     assessed_HE_REF  present_combined  present_primary  present_secondary  \\\n",
       "365                1                 1                1                  0   \n",
       "388                1                 1                1                  0   \n",
       "\n",
       "     zero_combined  zero_primary  zero_secondary  assessed_primary  \\\n",
       "365              0             0               0                 2   \n",
       "388              0             0               0                 2   \n",
       "\n",
       "     present_NAME_TITHE  present_NAME_EP1  present_NAME_OSD  present_NAME_EM  \\\n",
       "365                   0                 0                 0                0   \n",
       "388                   0                 0                 0                0   \n",
       "\n",
       "     name_present  \n",
       "365             0  \n",
       "388             0  "
      ]
     },
     "execution_count": 155,
     "metadata": {},
     "output_type": "execute_result"
    }
   ],
   "source": [
    "df[df.P3_UID == 'WiltsAWI_04036_01']\n"
   ]
  },
  {
   "cell_type": "code",
   "execution_count": null,
   "metadata": {},
   "outputs": [
    {
     "data": {
      "application/vnd.plotly.v1+json": {
       "config": {
        "plotlyServerURL": "https://plot.ly"
       },
       "data": [
        {
         "link": {
          "color": [
           "#fb9985",
           "#fb9985",
           "#fb9985",
           "#AFE1AF",
           "#AFE1AF",
           "#fb9985",
           "#fb9985",
           "#AFE1AF",
           "#fb9985",
           "#AFE1AF",
           "#AFE1AF",
           "#fb9985",
           "#AFE1AF",
           "#AFE1AF",
           "#fb9985",
           "#fb9985",
           "#AFE1AF",
           "#fb9985",
           "#AFE1AF",
           "#AFE1AF",
           "#fb9985",
           "#AFE1AF"
          ],
          "source": [
           0,
           1,
           2,
           2,
           1,
           5,
           6,
           6,
           8,
           8,
           5,
           11,
           11,
           0,
           14,
           15,
           15,
           17,
           17,
           14,
           21,
           21
          ],
          "target": [
           1,
           2,
           3,
           4,
           5,
           6,
           7,
           8,
           9,
           10,
           11,
           12,
           13,
           21,
           15,
           16,
           17,
           18,
           19,
           20,
           14,
           22
          ],
          "value": [
           1620,
           1535,
           1532,
           3,
           87,
           87,
           62,
           25,
           6,
           19,
           0,
           0,
           0,
           5459,
           2368,
           1040,
           1328,
           299,
           1049,
           412,
           2780,
           2679
          ]
         },
         "node": {
          "color": [
           "#ded6e2",
           "#ded6e2",
           "#ded6e2",
           "#d0311a",
           "#f8a54f",
           "#ded6e2",
           "#ded6e2",
           "#d0311a",
           "#ded6e2",
           "#f8a54f",
           "#f8a54f",
           "#ded6e2",
           "#f8a54f",
           "#2ea411",
           "#ded6e2",
           "#ded6e2",
           "#d0311a",
           "#ded6e2",
           "#f8a54f",
           "#2ea411",
           "#2ea411",
           "#ded6e2",
           "#2ea411"
          ],
          "label": [
           "primary source present?",
           "secondary source present?",
           "less than one zero present?",
           "Contains zero",
           "No zeros present",
           "less than one zero present?",
           "Only one zero?",
           "Multiple zeros present",
           "Named?",
           "Not named",
           "Named",
           "Named?",
           "Not named",
           "Named",
           "less than one zero present?",
           "Only one zero?",
           "Multiple zeros present",
           "Named?",
           "Not named",
           "Named",
           "No zeros present",
           "Two primary sources present?",
           "Two primary sources present"
          ],
          "pad": 15,
          "thickness": 20
         },
         "type": "sankey"
        }
       ],
       "layout": {
        "font": {
         "size": 10
        },
        "template": {
         "data": {
          "bar": [
           {
            "error_x": {
             "color": "#2a3f5f"
            },
            "error_y": {
             "color": "#2a3f5f"
            },
            "marker": {
             "line": {
              "color": "#E5ECF6",
              "width": 0.5
             },
             "pattern": {
              "fillmode": "overlay",
              "size": 10,
              "solidity": 0.2
             }
            },
            "type": "bar"
           }
          ],
          "barpolar": [
           {
            "marker": {
             "line": {
              "color": "#E5ECF6",
              "width": 0.5
             },
             "pattern": {
              "fillmode": "overlay",
              "size": 10,
              "solidity": 0.2
             }
            },
            "type": "barpolar"
           }
          ],
          "carpet": [
           {
            "aaxis": {
             "endlinecolor": "#2a3f5f",
             "gridcolor": "white",
             "linecolor": "white",
             "minorgridcolor": "white",
             "startlinecolor": "#2a3f5f"
            },
            "baxis": {
             "endlinecolor": "#2a3f5f",
             "gridcolor": "white",
             "linecolor": "white",
             "minorgridcolor": "white",
             "startlinecolor": "#2a3f5f"
            },
            "type": "carpet"
           }
          ],
          "choropleth": [
           {
            "colorbar": {
             "outlinewidth": 0,
             "ticks": ""
            },
            "type": "choropleth"
           }
          ],
          "contour": [
           {
            "colorbar": {
             "outlinewidth": 0,
             "ticks": ""
            },
            "colorscale": [
             [
              0,
              "#0d0887"
             ],
             [
              0.1111111111111111,
              "#46039f"
             ],
             [
              0.2222222222222222,
              "#7201a8"
             ],
             [
              0.3333333333333333,
              "#9c179e"
             ],
             [
              0.4444444444444444,
              "#bd3786"
             ],
             [
              0.5555555555555556,
              "#d8576b"
             ],
             [
              0.6666666666666666,
              "#ed7953"
             ],
             [
              0.7777777777777778,
              "#fb9f3a"
             ],
             [
              0.8888888888888888,
              "#fdca26"
             ],
             [
              1,
              "#f0f921"
             ]
            ],
            "type": "contour"
           }
          ],
          "contourcarpet": [
           {
            "colorbar": {
             "outlinewidth": 0,
             "ticks": ""
            },
            "type": "contourcarpet"
           }
          ],
          "heatmap": [
           {
            "colorbar": {
             "outlinewidth": 0,
             "ticks": ""
            },
            "colorscale": [
             [
              0,
              "#0d0887"
             ],
             [
              0.1111111111111111,
              "#46039f"
             ],
             [
              0.2222222222222222,
              "#7201a8"
             ],
             [
              0.3333333333333333,
              "#9c179e"
             ],
             [
              0.4444444444444444,
              "#bd3786"
             ],
             [
              0.5555555555555556,
              "#d8576b"
             ],
             [
              0.6666666666666666,
              "#ed7953"
             ],
             [
              0.7777777777777778,
              "#fb9f3a"
             ],
             [
              0.8888888888888888,
              "#fdca26"
             ],
             [
              1,
              "#f0f921"
             ]
            ],
            "type": "heatmap"
           }
          ],
          "histogram": [
           {
            "marker": {
             "pattern": {
              "fillmode": "overlay",
              "size": 10,
              "solidity": 0.2
             }
            },
            "type": "histogram"
           }
          ],
          "histogram2d": [
           {
            "colorbar": {
             "outlinewidth": 0,
             "ticks": ""
            },
            "colorscale": [
             [
              0,
              "#0d0887"
             ],
             [
              0.1111111111111111,
              "#46039f"
             ],
             [
              0.2222222222222222,
              "#7201a8"
             ],
             [
              0.3333333333333333,
              "#9c179e"
             ],
             [
              0.4444444444444444,
              "#bd3786"
             ],
             [
              0.5555555555555556,
              "#d8576b"
             ],
             [
              0.6666666666666666,
              "#ed7953"
             ],
             [
              0.7777777777777778,
              "#fb9f3a"
             ],
             [
              0.8888888888888888,
              "#fdca26"
             ],
             [
              1,
              "#f0f921"
             ]
            ],
            "type": "histogram2d"
           }
          ],
          "histogram2dcontour": [
           {
            "colorbar": {
             "outlinewidth": 0,
             "ticks": ""
            },
            "colorscale": [
             [
              0,
              "#0d0887"
             ],
             [
              0.1111111111111111,
              "#46039f"
             ],
             [
              0.2222222222222222,
              "#7201a8"
             ],
             [
              0.3333333333333333,
              "#9c179e"
             ],
             [
              0.4444444444444444,
              "#bd3786"
             ],
             [
              0.5555555555555556,
              "#d8576b"
             ],
             [
              0.6666666666666666,
              "#ed7953"
             ],
             [
              0.7777777777777778,
              "#fb9f3a"
             ],
             [
              0.8888888888888888,
              "#fdca26"
             ],
             [
              1,
              "#f0f921"
             ]
            ],
            "type": "histogram2dcontour"
           }
          ],
          "mesh3d": [
           {
            "colorbar": {
             "outlinewidth": 0,
             "ticks": ""
            },
            "type": "mesh3d"
           }
          ],
          "parcoords": [
           {
            "line": {
             "colorbar": {
              "outlinewidth": 0,
              "ticks": ""
             }
            },
            "type": "parcoords"
           }
          ],
          "pie": [
           {
            "automargin": true,
            "type": "pie"
           }
          ],
          "scatter": [
           {
            "fillpattern": {
             "fillmode": "overlay",
             "size": 10,
             "solidity": 0.2
            },
            "type": "scatter"
           }
          ],
          "scatter3d": [
           {
            "line": {
             "colorbar": {
              "outlinewidth": 0,
              "ticks": ""
             }
            },
            "marker": {
             "colorbar": {
              "outlinewidth": 0,
              "ticks": ""
             }
            },
            "type": "scatter3d"
           }
          ],
          "scattercarpet": [
           {
            "marker": {
             "colorbar": {
              "outlinewidth": 0,
              "ticks": ""
             }
            },
            "type": "scattercarpet"
           }
          ],
          "scattergeo": [
           {
            "marker": {
             "colorbar": {
              "outlinewidth": 0,
              "ticks": ""
             }
            },
            "type": "scattergeo"
           }
          ],
          "scattergl": [
           {
            "marker": {
             "colorbar": {
              "outlinewidth": 0,
              "ticks": ""
             }
            },
            "type": "scattergl"
           }
          ],
          "scattermap": [
           {
            "marker": {
             "colorbar": {
              "outlinewidth": 0,
              "ticks": ""
             }
            },
            "type": "scattermap"
           }
          ],
          "scattermapbox": [
           {
            "marker": {
             "colorbar": {
              "outlinewidth": 0,
              "ticks": ""
             }
            },
            "type": "scattermapbox"
           }
          ],
          "scatterpolar": [
           {
            "marker": {
             "colorbar": {
              "outlinewidth": 0,
              "ticks": ""
             }
            },
            "type": "scatterpolar"
           }
          ],
          "scatterpolargl": [
           {
            "marker": {
             "colorbar": {
              "outlinewidth": 0,
              "ticks": ""
             }
            },
            "type": "scatterpolargl"
           }
          ],
          "scatterternary": [
           {
            "marker": {
             "colorbar": {
              "outlinewidth": 0,
              "ticks": ""
             }
            },
            "type": "scatterternary"
           }
          ],
          "surface": [
           {
            "colorbar": {
             "outlinewidth": 0,
             "ticks": ""
            },
            "colorscale": [
             [
              0,
              "#0d0887"
             ],
             [
              0.1111111111111111,
              "#46039f"
             ],
             [
              0.2222222222222222,
              "#7201a8"
             ],
             [
              0.3333333333333333,
              "#9c179e"
             ],
             [
              0.4444444444444444,
              "#bd3786"
             ],
             [
              0.5555555555555556,
              "#d8576b"
             ],
             [
              0.6666666666666666,
              "#ed7953"
             ],
             [
              0.7777777777777778,
              "#fb9f3a"
             ],
             [
              0.8888888888888888,
              "#fdca26"
             ],
             [
              1,
              "#f0f921"
             ]
            ],
            "type": "surface"
           }
          ],
          "table": [
           {
            "cells": {
             "fill": {
              "color": "#EBF0F8"
             },
             "line": {
              "color": "white"
             }
            },
            "header": {
             "fill": {
              "color": "#C8D4E3"
             },
             "line": {
              "color": "white"
             }
            },
            "type": "table"
           }
          ]
         },
         "layout": {
          "annotationdefaults": {
           "arrowcolor": "#2a3f5f",
           "arrowhead": 0,
           "arrowwidth": 1
          },
          "autotypenumbers": "strict",
          "coloraxis": {
           "colorbar": {
            "outlinewidth": 0,
            "ticks": ""
           }
          },
          "colorscale": {
           "diverging": [
            [
             0,
             "#8e0152"
            ],
            [
             0.1,
             "#c51b7d"
            ],
            [
             0.2,
             "#de77ae"
            ],
            [
             0.3,
             "#f1b6da"
            ],
            [
             0.4,
             "#fde0ef"
            ],
            [
             0.5,
             "#f7f7f7"
            ],
            [
             0.6,
             "#e6f5d0"
            ],
            [
             0.7,
             "#b8e186"
            ],
            [
             0.8,
             "#7fbc41"
            ],
            [
             0.9,
             "#4d9221"
            ],
            [
             1,
             "#276419"
            ]
           ],
           "sequential": [
            [
             0,
             "#0d0887"
            ],
            [
             0.1111111111111111,
             "#46039f"
            ],
            [
             0.2222222222222222,
             "#7201a8"
            ],
            [
             0.3333333333333333,
             "#9c179e"
            ],
            [
             0.4444444444444444,
             "#bd3786"
            ],
            [
             0.5555555555555556,
             "#d8576b"
            ],
            [
             0.6666666666666666,
             "#ed7953"
            ],
            [
             0.7777777777777778,
             "#fb9f3a"
            ],
            [
             0.8888888888888888,
             "#fdca26"
            ],
            [
             1,
             "#f0f921"
            ]
           ],
           "sequentialminus": [
            [
             0,
             "#0d0887"
            ],
            [
             0.1111111111111111,
             "#46039f"
            ],
            [
             0.2222222222222222,
             "#7201a8"
            ],
            [
             0.3333333333333333,
             "#9c179e"
            ],
            [
             0.4444444444444444,
             "#bd3786"
            ],
            [
             0.5555555555555556,
             "#d8576b"
            ],
            [
             0.6666666666666666,
             "#ed7953"
            ],
            [
             0.7777777777777778,
             "#fb9f3a"
            ],
            [
             0.8888888888888888,
             "#fdca26"
            ],
            [
             1,
             "#f0f921"
            ]
           ]
          },
          "colorway": [
           "#636efa",
           "#EF553B",
           "#00cc96",
           "#ab63fa",
           "#FFA15A",
           "#19d3f3",
           "#FF6692",
           "#B6E880",
           "#FF97FF",
           "#FECB52"
          ],
          "font": {
           "color": "#2a3f5f"
          },
          "geo": {
           "bgcolor": "white",
           "lakecolor": "white",
           "landcolor": "#E5ECF6",
           "showlakes": true,
           "showland": true,
           "subunitcolor": "white"
          },
          "hoverlabel": {
           "align": "left"
          },
          "hovermode": "closest",
          "mapbox": {
           "style": "light"
          },
          "paper_bgcolor": "white",
          "plot_bgcolor": "#E5ECF6",
          "polar": {
           "angularaxis": {
            "gridcolor": "white",
            "linecolor": "white",
            "ticks": ""
           },
           "bgcolor": "#E5ECF6",
           "radialaxis": {
            "gridcolor": "white",
            "linecolor": "white",
            "ticks": ""
           }
          },
          "scene": {
           "xaxis": {
            "backgroundcolor": "#E5ECF6",
            "gridcolor": "white",
            "gridwidth": 2,
            "linecolor": "white",
            "showbackground": true,
            "ticks": "",
            "zerolinecolor": "white"
           },
           "yaxis": {
            "backgroundcolor": "#E5ECF6",
            "gridcolor": "white",
            "gridwidth": 2,
            "linecolor": "white",
            "showbackground": true,
            "ticks": "",
            "zerolinecolor": "white"
           },
           "zaxis": {
            "backgroundcolor": "#E5ECF6",
            "gridcolor": "white",
            "gridwidth": 2,
            "linecolor": "white",
            "showbackground": true,
            "ticks": "",
            "zerolinecolor": "white"
           }
          },
          "shapedefaults": {
           "line": {
            "color": "#2a3f5f"
           }
          },
          "ternary": {
           "aaxis": {
            "gridcolor": "white",
            "linecolor": "white",
            "ticks": ""
           },
           "baxis": {
            "gridcolor": "white",
            "linecolor": "white",
            "ticks": ""
           },
           "bgcolor": "#E5ECF6",
           "caxis": {
            "gridcolor": "white",
            "linecolor": "white",
            "ticks": ""
           }
          },
          "title": {
           "x": 0.05
          },
          "xaxis": {
           "automargin": true,
           "gridcolor": "white",
           "linecolor": "white",
           "ticks": "",
           "title": {
            "standoff": 15
           },
           "zerolinecolor": "white",
           "zerolinewidth": 2
          },
          "yaxis": {
           "automargin": true,
           "gridcolor": "white",
           "linecolor": "white",
           "ticks": "",
           "title": {
            "standoff": 15
           },
           "zerolinecolor": "white",
           "zerolinewidth": 2
          }
         }
        },
        "title": {
         "text": "AWI Decision Tree"
        }
       }
      }
     },
     "metadata": {},
     "output_type": "display_data"
    }
   ],
   "source": [
    "\n",
    "fig = go.Figure(data=[go.Sankey(\n",
    "    node = dict(\n",
    "      pad = 15,\n",
    "      thickness = 20,\n",
    "     # line = dict(color = \"black\", width = 0.5),\n",
    "      label =df_sankey['name'],\n",
    "      color = df_sankey['node_colour']\n",
    "    ),\n",
    "    link = dict(\n",
    "      source = df_sankey['source'], # indices correspond to labels, eg A1, A2, A1, B1, ...\n",
    "      target = df_sankey['target'],\n",
    "      value = df_sankey['value'],\n",
    "      color = df_sankey['colour']\n",
    "  ))])\n",
    "\n",
    "fig.update_layout(title_text=\"AWI Decision Tree\", font_size=10)\n",
    "fig.show()"
   ]
  },
  {
   "cell_type": "code",
   "execution_count": null,
   "metadata": {},
   "outputs": [],
   "source": []
  }
 ],
 "metadata": {
  "kernelspec": {
   "display_name": "Python 3",
   "language": "python",
   "name": "python3"
  },
  "language_info": {
   "codemirror_mode": {
    "name": "ipython",
    "version": 3
   },
   "file_extension": ".py",
   "mimetype": "text/x-python",
   "name": "python",
   "nbconvert_exporter": "python",
   "pygments_lexer": "ipython3",
   "version": "3.13.2"
  }
 },
 "nbformat": 4,
 "nbformat_minor": 2
}
