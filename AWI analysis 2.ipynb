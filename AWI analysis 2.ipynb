{
 "cells": [
  {
   "cell_type": "markdown",
   "metadata": {},
   "source": [
    "# Data prep\n"
   ]
  },
  {
   "cell_type": "code",
   "execution_count": 1,
   "metadata": {},
   "outputs": [],
   "source": [
    "import pandas as pd\n",
    "import plotly.express as px\n",
    "import plotly.graph_objects as go\n",
    "import geopandas as gpd"
   ]
  },
  {
   "cell_type": "code",
   "execution_count": 2,
   "metadata": {},
   "outputs": [
    {
     "name": "stderr",
     "output_type": "stream",
     "text": [
      "c:\\Users\\Lara\\AWI\\Coding\\AWI\\venv\\Lib\\site-packages\\geopandas\\geodataframe.py:1819: SettingWithCopyWarning: \n",
      "A value is trying to be set on a copy of a slice from a DataFrame.\n",
      "Try using .loc[row_indexer,col_indexer] = value instead\n",
      "\n",
      "See the caveats in the documentation: https://pandas.pydata.org/pandas-docs/stable/user_guide/indexing.html#returning-a-view-versus-a-copy\n",
      "  super().__setitem__(key, value)\n"
     ]
    }
   ],
   "source": [
    "#Read in old AWI\n",
    "gdf_old = gpd.read_file(\"O:/NaturalEngland/Ancient Woodland Inventory Update/Analysis/Old_AWI_Wilts/Old_AWI_Wilts.shp\")\n",
    "# Updated AWI\n",
    "gdf_new = gpd.read_file(\"O:/NaturalEngland/Ancient Woodland Inventory Update/Analysis/New_AWI_Wilts/AWI_sources_updated_5_resolved.shp\")\n",
    "gdf_new_reduced = gdf_new[['NAME_OS', 'NAME_EP1', 'P3_UID', 'P3_IGNORE', 'C21_AP', 'EPOCH_2',\n",
    "       'EPOCH_1', 'C20_AP', 'C20_AP_REF', 'TITHE_REF', 'C19_EM', 'C19_EM_REF',\n",
    "       'OSD', 'OSD_REF', 'CM_1773', 'C18_EM', 'C18_EM_REF', 'C17_EM',\n",
    "       'C17_EM_REF', 'EM', 'EM_REF', 'OTHER', 'OTHER_REF', 'NAME_TITHE',\n",
    "       'NAME_OSD', 'NAME_EM', 'TITHE_REF_', 'TITHE_LAND', 'TITHE_PLOT',\n",
    "       'TITHE_PL_1', 'COMMENTS', 'url', 'OSNAMES_UR', 'CHECK_NAME',\n",
    "       'TO_CHECK_N', 'NOTES', 'LISTED_BUI', 'LISTED_PAR', 'P2_CLASS',\n",
    "       'P3_CLASS', 'P3_Status', 'TITHE', 'GlobalID_1', 'EARLIEST_E', 'RESERVE',\n",
    "       'FORESTRY', 'SURVEY_PRI', 'ACTION', 'SITE_ID', 'AreaHa', 'NAME',\n",
    "       'Shape_Leng', 'OBJECTID_1', 'HE_REF', 'geometry']]\n",
    "#Find intersections where old AWI is in same place as new AWI\n",
    "gdf_new_reduced['intersects_old_AWI'] = gdf_new_reduced.geometry.apply(lambda x: gdf_old.geometry.intersects(x).any())\n",
    "\n"
   ]
  },
  {
   "cell_type": "code",
   "execution_count": 3,
   "metadata": {},
   "outputs": [],
   "source": [
    "#df = pd.read_excel('O:/NaturalEngland/Ancient Woodland Inventory Update/Analysis/AWI_data_analysis_assessment.xlsm', sheet_name = 'AWI_data_RAW')\n",
    "df = gdf_new_reduced.copy()"
   ]
  },
  {
   "cell_type": "code",
   "execution_count": 4,
   "metadata": {},
   "outputs": [],
   "source": [
    "# Defining functions\n",
    "def check_if_assessed(FIELD):\n",
    "    if FIELD == 3 or FIELD ==4 or FIELD ==5:\n",
    "        return 0\n",
    "    else:\n",
    "        return 1\n",
    "\n",
    "def check_if_present(FIELD):\n",
    "    if FIELD == 1 or FIELD ==2 or FIELD ==6:\n",
    "        return 1\n",
    "    else:\n",
    "        return 0\n",
    "    \n",
    "def check_if_zero(FIELD):\n",
    "    if FIELD == 0:\n",
    "        return 1\n",
    "    else:\n",
    "        return 0\n",
    "    \n",
    "def check_if_name(FIELD):\n",
    "    if FIELD.strip() == '' or FIELD == 'None':\n",
    "        return 0\n",
    "    else:\n",
    "        return 1\n"
   ]
  },
  {
   "cell_type": "code",
   "execution_count": 5,
   "metadata": {},
   "outputs": [],
   "source": [
    "# Columns to check if if parcel has been marked as woodland\n",
    "columns_to_assess = ['TITHE','C19_EM', 'OSD', 'CM_1773', 'C18_EM', 'C17_EM', 'EM','OTHER' ]\n",
    "\n",
    "#Loop through each parcel and create new column showing if woodland present in source, and if source is zero (not woodland)\n",
    "for i in columns_to_assess:\n",
    "    df[f\"present_{i}\"] = df[i].apply(check_if_present)\n",
    "    df[f\"zero_{i}\"] = df[i].apply(check_if_zero)\n",
    "    df[f\"assessed_{i}\"] = df[i].apply(check_if_assessed)\n",
    "\n",
    "df[\"HE_REF\"] = df['HE_REF'].astype(str)\n",
    "df[\"assessed_HE_REF\"] = df['HE_REF'].apply(check_if_name)"
   ]
  },
  {
   "cell_type": "code",
   "execution_count": 6,
   "metadata": {},
   "outputs": [],
   "source": [
    "# Check which parcels are named\n",
    "\n",
    "df['NAME_TITHE'] = df['NAME_TITHE'].astype(str)\n",
    "\n",
    "names_to_assess = ['NAME_TITHE','NAME_EP1', 'NAME_OSD', 'NAME_EM', 'HE_REF']\n",
    "# Add column showing which parcels are named in source\n",
    "for i in names_to_assess:\n",
    "    df[i] = df[i].astype(str)\n",
    "    df[f\"present_{i}\"] = df[i].apply(check_if_name)\n",
    "\n",
    "# Combine to get total named sources for parcel    \n",
    "df['name_present'] = df['present_NAME_EM']+df['present_NAME_OSD']+df['present_NAME_EP1'] +df['present_NAME_TITHE']"
   ]
  },
  {
   "cell_type": "code",
   "execution_count": 7,
   "metadata": {},
   "outputs": [],
   "source": [
    "# Combine columns showing woodland present to see how many sources show woodland present\n",
    "df['present_combined'] = df['present_TITHE']+df['present_C19_EM'] +df['present_OSD']+df['present_CM_1773'] +df['present_C18_EM']+df['present_C17_EM'] +df['present_EM']+df['present_OTHER'] +df['present_HE_REF']\n",
    "df['present_primary'] = df['present_TITHE'] + df['present_OSD'] +df['present_HE_REF']+df['present_CM_1773']\n",
    "df['present_secondary'] =df['present_C19_EM'] +df['present_C18_EM'] +df['present_EM']+df['present_OTHER'] + df['present_C17_EM']\n",
    "\n",
    "# Combine columns showing if zero present to show how many sources show no woodland present\n",
    "df['zero_combined'] = df['zero_TITHE']+df['zero_C19_EM'] +df['zero_OSD']+df['zero_CM_1773'] +df['zero_C18_EM']+df['zero_C17_EM'] +df['zero_EM']+df['zero_OTHER'] \n",
    "df['zero_primary'] = df['zero_TITHE']+df['zero_OSD']+df['zero_CM_1773'] \n",
    "df['zero_secondary'] =  df['zero_C19_EM'] +df['zero_C18_EM']+df['zero_C17_EM'] +df['zero_EM']+df['zero_OTHER']\n",
    "\n",
    "df['assessed_primary'] = df['assessed_TITHE'] + df['assessed_OSD'] +df['assessed_HE_REF']+df['assessed_CM_1773']\n",
    "\n"
   ]
  },
  {
   "cell_type": "markdown",
   "metadata": {},
   "source": [
    "# Decision tree\n"
   ]
  },
  {
   "cell_type": "code",
   "execution_count": 8,
   "metadata": {},
   "outputs": [
    {
     "name": "stderr",
     "output_type": "stream",
     "text": [
      "c:\\Users\\Lara\\AWI\\Coding\\AWI\\venv\\Lib\\site-packages\\geopandas\\geodataframe.py:1819: SettingWithCopyWarning: \n",
      "A value is trying to be set on a copy of a slice from a DataFrame.\n",
      "Try using .loc[row_indexer,col_indexer] = value instead\n",
      "\n",
      "See the caveats in the documentation: https://pandas.pydata.org/pandas-docs/stable/user_guide/indexing.html#returning-a-view-versus-a-copy\n",
      "  super().__setitem__(key, value)\n",
      "c:\\Users\\Lara\\AWI\\Coding\\AWI\\venv\\Lib\\site-packages\\geopandas\\geodataframe.py:1819: SettingWithCopyWarning: \n",
      "A value is trying to be set on a copy of a slice from a DataFrame.\n",
      "Try using .loc[row_indexer,col_indexer] = value instead\n",
      "\n",
      "See the caveats in the documentation: https://pandas.pydata.org/pandas-docs/stable/user_guide/indexing.html#returning-a-view-versus-a-copy\n",
      "  super().__setitem__(key, value)\n",
      "c:\\Users\\Lara\\AWI\\Coding\\AWI\\venv\\Lib\\site-packages\\geopandas\\geodataframe.py:1819: SettingWithCopyWarning: \n",
      "A value is trying to be set on a copy of a slice from a DataFrame.\n",
      "Try using .loc[row_indexer,col_indexer] = value instead\n",
      "\n",
      "See the caveats in the documentation: https://pandas.pydata.org/pandas-docs/stable/user_guide/indexing.html#returning-a-view-versus-a-copy\n",
      "  super().__setitem__(key, value)\n",
      "c:\\Users\\Lara\\AWI\\Coding\\AWI\\venv\\Lib\\site-packages\\geopandas\\geodataframe.py:1819: SettingWithCopyWarning: \n",
      "A value is trying to be set on a copy of a slice from a DataFrame.\n",
      "Try using .loc[row_indexer,col_indexer] = value instead\n",
      "\n",
      "See the caveats in the documentation: https://pandas.pydata.org/pandas-docs/stable/user_guide/indexing.html#returning-a-view-versus-a-copy\n",
      "  super().__setitem__(key, value)\n",
      "c:\\Users\\Lara\\AWI\\Coding\\AWI\\venv\\Lib\\site-packages\\geopandas\\geodataframe.py:1819: SettingWithCopyWarning: \n",
      "A value is trying to be set on a copy of a slice from a DataFrame.\n",
      "Try using .loc[row_indexer,col_indexer] = value instead\n",
      "\n",
      "See the caveats in the documentation: https://pandas.pydata.org/pandas-docs/stable/user_guide/indexing.html#returning-a-view-versus-a-copy\n",
      "  super().__setitem__(key, value)\n",
      "c:\\Users\\Lara\\AWI\\Coding\\AWI\\venv\\Lib\\site-packages\\geopandas\\geodataframe.py:1819: SettingWithCopyWarning: \n",
      "A value is trying to be set on a copy of a slice from a DataFrame.\n",
      "Try using .loc[row_indexer,col_indexer] = value instead\n",
      "\n",
      "See the caveats in the documentation: https://pandas.pydata.org/pandas-docs/stable/user_guide/indexing.html#returning-a-view-versus-a-copy\n",
      "  super().__setitem__(key, value)\n",
      "c:\\Users\\Lara\\AWI\\Coding\\AWI\\venv\\Lib\\site-packages\\geopandas\\geodataframe.py:1819: SettingWithCopyWarning: \n",
      "A value is trying to be set on a copy of a slice from a DataFrame.\n",
      "Try using .loc[row_indexer,col_indexer] = value instead\n",
      "\n",
      "See the caveats in the documentation: https://pandas.pydata.org/pandas-docs/stable/user_guide/indexing.html#returning-a-view-versus-a-copy\n",
      "  super().__setitem__(key, value)\n",
      "c:\\Users\\Lara\\AWI\\Coding\\AWI\\venv\\Lib\\site-packages\\geopandas\\geodataframe.py:1819: SettingWithCopyWarning: \n",
      "A value is trying to be set on a copy of a slice from a DataFrame.\n",
      "Try using .loc[row_indexer,col_indexer] = value instead\n",
      "\n",
      "See the caveats in the documentation: https://pandas.pydata.org/pandas-docs/stable/user_guide/indexing.html#returning-a-view-versus-a-copy\n",
      "  super().__setitem__(key, value)\n"
     ]
    }
   ],
   "source": [
    "# Filter for primary source present only\n",
    "df_primary = df[df.present_primary >=1]\n",
    "df_primary_one = df[df.present_primary ==1]\n",
    "df_primary_two = df[df.present_primary >=2]\n",
    "df_no_primary = df[df.present_primary ==0]\n",
    "\n",
    "## A - Ancient woodland\n",
    "## Contains primary evidence and no zero's present\n",
    "df_primary_no_zero = df_primary[df_primary.zero_combined ==0]\n",
    "df_primary_no_zero['Category'] = 'Ancient woodland'\n",
    "df_primary_no_zero['subCategory'] = 'A'\n",
    "df_one_primary_no_zero = df_primary_one[df_primary_one.zero_combined ==0]\n",
    "\n",
    "#Filter for primary source present, one zero present\n",
    "df_primary_zero = df_primary[df_primary.zero_combined >=1]\n",
    "df_primary_one_zero = df_primary[df_primary.zero_combined ==1]\n",
    "df_one_primary_zero = df_primary_one[df_primary_one.zero_combined >=1]\n",
    "df_one_primary_one_zero = df_primary_one[df_primary_one.zero_combined ==1]\n",
    "\n",
    "## A - Not ancient woodland \n",
    "## Has primary evidence but contains more than one zero\n",
    "df_primary_plural_zero = df_primary[df_primary.zero_combined >1]\n",
    "df_primary_plural_zero['Category'] = 'Not ancient woodland'\n",
    "df_primary_plural_zero['subCategory'] = 'A'\n",
    "df_one_primary_plural_zero = df_primary_one[df_primary_one.zero_combined >1]\n",
    "\n",
    "## B - Ancient woodland\n",
    "## Has primary evidence, one zero present, but is a named woodland \n",
    "df_primary_one_zero_named = df_primary_one_zero[df_primary_one_zero.name_present >=1]\n",
    "df_primary_one_zero_named['Category'] = 'Ancient woodland'\n",
    "df_primary_one_zero_named['subCategory'] = 'B'\n",
    "df_one_primary_one_zero_named = df_one_primary_one_zero[df_one_primary_one_zero.name_present >=1]\n",
    "\n",
    "## A- Maybe ancient woodland\n",
    "## Has primary evidence, one zero present and is not a named woodland. \n",
    "### Further research needed, what source is zero?\n",
    "df_primary_one_zero_not_named = df_primary_one_zero[df_primary_one_zero.name_present==0]\n",
    "df_primary_one_zero_not_named['Category'] = 'Maybe ancient woodland'\n",
    "df_primary_one_zero_not_named['subCategory'] = 'A'\n"
   ]
  },
  {
   "cell_type": "code",
   "execution_count": null,
   "metadata": {},
   "outputs": [],
   "source": []
  },
  {
   "cell_type": "code",
   "execution_count": 9,
   "metadata": {},
   "outputs": [],
   "source": [
    "# Filter for no primary evidence present, but secondary evidence present\n",
    "df_secondary = df[(df.present_primary ==0)&(df.present_secondary >=1)]\n",
    "# Filter for no evidence present\n",
    "df_no_evidence = df[(df.present_primary ==0)&(df.present_secondary ==0)]\n",
    "\n",
    "## D - Maybe ancient woodland\n",
    "## No evidence, but contains no zeros, so may just not have been covered by maps\n",
    "# Contains lots of 3/4's (no map coverage), requires further investigation to see if any maps preset\n",
    "df_no_evidence_no_zero = df_no_evidence[df_no_evidence.zero_combined ==0]\n",
    "df_no_evidence_no_zero['Category'] = 'Maybe ancient woodland'\n",
    "df_no_evidence_no_zero['subCategory'] = 'D'\n",
    "\n",
    "## C - Not ancient woodland\n",
    "## No evidence, and contains at least one zero, so assumed not woodland. \n",
    "## 1637, ~600 1 zero, ~1000 more than one zero\n",
    "df_no_evidence_zero = df_no_evidence[df_no_evidence.zero_combined >= 1]\n",
    "df_no_evidence_zero['Category'] = 'Not ancient woodland'\n",
    "df_no_evidence_zero['subCategory'] = 'C'\n",
    "\n",
    "df_no_evidence_one_zero = df_no_evidence[df_no_evidence.zero_combined == 1]\n",
    "df_no_evidence_plural_zero = df_no_evidence[df_no_evidence.zero_combined > 1]\n",
    "\n"
   ]
  },
  {
   "cell_type": "code",
   "execution_count": 10,
   "metadata": {},
   "outputs": [
    {
     "name": "stderr",
     "output_type": "stream",
     "text": [
      "c:\\Users\\Lara\\AWI\\Coding\\AWI\\venv\\Lib\\site-packages\\geopandas\\geodataframe.py:1819: SettingWithCopyWarning: \n",
      "A value is trying to be set on a copy of a slice from a DataFrame.\n",
      "Try using .loc[row_indexer,col_indexer] = value instead\n",
      "\n",
      "See the caveats in the documentation: https://pandas.pydata.org/pandas-docs/stable/user_guide/indexing.html#returning-a-view-versus-a-copy\n",
      "  super().__setitem__(key, value)\n",
      "c:\\Users\\Lara\\AWI\\Coding\\AWI\\venv\\Lib\\site-packages\\geopandas\\geodataframe.py:1819: SettingWithCopyWarning: \n",
      "A value is trying to be set on a copy of a slice from a DataFrame.\n",
      "Try using .loc[row_indexer,col_indexer] = value instead\n",
      "\n",
      "See the caveats in the documentation: https://pandas.pydata.org/pandas-docs/stable/user_guide/indexing.html#returning-a-view-versus-a-copy\n",
      "  super().__setitem__(key, value)\n"
     ]
    }
   ],
   "source": [
    "#Filter for secondary evidence present, and no zeros present\n",
    "df_secondary_no_zero = df_secondary[df_secondary.zero_combined ==0]\n",
    "\n",
    "## C - Ancient woodland \n",
    "## No primary evidence, but contains secondary evidence, no zero's present and is named. \n",
    "df_secondary_no_zero_named = df_secondary_no_zero[df_secondary_no_zero.name_present >=1]\n",
    "df_secondary_no_zero_named['Category'] = 'Ancient woodland'\n",
    "df_secondary_no_zero_named['subCategory'] = 'C'\n",
    "\n",
    "## B- Maybe ancient woodland\n",
    "## No primary evidence, but contains secondary evidence, no zero's present, but is not named\n",
    "## Further research needed; why is not present on primary evidence? \n",
    "df_secondary_no_zero_not_named  = df_secondary_no_zero[df_secondary_no_zero.name_present ==0]\n",
    "df_secondary_no_zero_not_named['Category'] = 'Maybe ancient woodland'\n",
    "df_secondary_no_zero_not_named['subCategory'] = 'B'\n",
    "\n",
    "#Filter for secondary evidence present, and one zero present\n",
    "df_secondary_one_zero = df_secondary[df_secondary.zero_combined ==1]\n",
    "\n",
    "## C - Maybe ancient woodland\n",
    "## No primary evidence, secondary evidence, but one zero present, and named\n",
    "## Further research; why no primary evidence? and what source is zero? What source is name? \n",
    "df_secondary_one_zero_named  = df_secondary_one_zero[df_secondary_one_zero.name_present >=1]\n",
    "df_secondary_one_zero_named['Category'] = 'Maybe ancient woodland'\n",
    "df_secondary_one_zero_named['subCategory'] = 'C'\n",
    "\n",
    "## E - Maybe ancient woodland\n",
    "## No primary evidence, secondary evidence, but one zero present, not named\n",
    "## Probably not ancient woodland, but check primary evidence, and zero. \n",
    "df_secondary_one_zero_not_named  = df_secondary_one_zero[df_secondary_one_zero.name_present ==0]\n",
    "df_secondary_one_zero_not_named['Category'] = 'Maybe ancient woodland'\n",
    "df_secondary_one_zero_not_named['subCategory'] = 'E'\n",
    "\n",
    "## B - Not ancient woodland\n",
    "## Multiple zeros present, and no primary evidence so probably not ancient woodland. \n",
    "df_secondary_plural_zero = df_secondary[df_secondary.zero_combined >1]\n",
    "df_secondary_plural_zero['Category'] = 'Not ancient woodland'\n",
    "df_secondary_plural_zero['subCategory'] = 'B'\n",
    "\n",
    "df_secondary_zero = df_secondary[df_secondary.zero_combined >=1]"
   ]
  },
  {
   "cell_type": "code",
   "execution_count": 40,
   "metadata": {},
   "outputs": [],
   "source": [
    "\n",
    "df_combined = pd.concat([df_primary_no_zero,\n",
    "                         df_primary_zero,\n",
    "df_no_evidence_no_zero,\n",
    "df_no_evidence_zero,\n",
    "df_secondary_no_zero,\n",
    "df_secondary_one_zero,\n",
    "df_secondary_plural_zero,])"
   ]
  },
  {
   "cell_type": "code",
   "execution_count": 41,
   "metadata": {},
   "outputs": [
    {
     "name": "stderr",
     "output_type": "stream",
     "text": [
      "C:\\Users\\Lara\\AppData\\Local\\Temp\\ipykernel_17008\\3925605738.py:1: UserWarning:\n",
      "\n",
      "Column names longer than 10 characters will be truncated when saved to ESRI Shapefile.\n",
      "\n",
      "c:\\Users\\Lara\\AWI\\Coding\\AWI\\venv\\Lib\\site-packages\\pyogrio\\raw.py:723: RuntimeWarning:\n",
      "\n",
      "Normalized/laundered field name: 'intersects_old_AWI' to 'intersects'\n",
      "\n",
      "c:\\Users\\Lara\\AWI\\Coding\\AWI\\venv\\Lib\\site-packages\\pyogrio\\raw.py:723: RuntimeWarning:\n",
      "\n",
      "Normalized/laundered field name: 'present_TITHE' to 'present_TI'\n",
      "\n",
      "c:\\Users\\Lara\\AWI\\Coding\\AWI\\venv\\Lib\\site-packages\\pyogrio\\raw.py:723: RuntimeWarning:\n",
      "\n",
      "Normalized/laundered field name: 'assessed_TITHE' to 'assessed_T'\n",
      "\n",
      "c:\\Users\\Lara\\AWI\\Coding\\AWI\\venv\\Lib\\site-packages\\pyogrio\\raw.py:723: RuntimeWarning:\n",
      "\n",
      "Normalized/laundered field name: 'present_C19_EM' to 'present_C1'\n",
      "\n",
      "c:\\Users\\Lara\\AWI\\Coding\\AWI\\venv\\Lib\\site-packages\\pyogrio\\raw.py:723: RuntimeWarning:\n",
      "\n",
      "Normalized/laundered field name: 'zero_C19_EM' to 'zero_C19_E'\n",
      "\n",
      "c:\\Users\\Lara\\AWI\\Coding\\AWI\\venv\\Lib\\site-packages\\pyogrio\\raw.py:723: RuntimeWarning:\n",
      "\n",
      "Normalized/laundered field name: 'assessed_C19_EM' to 'assessed_C'\n",
      "\n",
      "c:\\Users\\Lara\\AWI\\Coding\\AWI\\venv\\Lib\\site-packages\\pyogrio\\raw.py:723: RuntimeWarning:\n",
      "\n",
      "Normalized/laundered field name: 'present_OSD' to 'present_OS'\n",
      "\n",
      "c:\\Users\\Lara\\AWI\\Coding\\AWI\\venv\\Lib\\site-packages\\pyogrio\\raw.py:723: RuntimeWarning:\n",
      "\n",
      "Normalized/laundered field name: 'assessed_OSD' to 'assessed_O'\n",
      "\n",
      "c:\\Users\\Lara\\AWI\\Coding\\AWI\\venv\\Lib\\site-packages\\pyogrio\\raw.py:723: RuntimeWarning:\n",
      "\n",
      "Normalized/laundered field name: 'present_CM_1773' to 'present_CM'\n",
      "\n",
      "c:\\Users\\Lara\\AWI\\Coding\\AWI\\venv\\Lib\\site-packages\\pyogrio\\raw.py:723: RuntimeWarning:\n",
      "\n",
      "Normalized/laundered field name: 'zero_CM_1773' to 'zero_CM_17'\n",
      "\n",
      "c:\\Users\\Lara\\AWI\\Coding\\AWI\\venv\\Lib\\site-packages\\pyogrio\\raw.py:723: RuntimeWarning:\n",
      "\n",
      "Normalized/laundered field name: 'assessed_CM_1773' to 'assessed_1'\n",
      "\n",
      "c:\\Users\\Lara\\AWI\\Coding\\AWI\\venv\\Lib\\site-packages\\pyogrio\\raw.py:723: RuntimeWarning:\n",
      "\n",
      "Normalized/laundered field name: 'present_C18_EM' to 'present__1'\n",
      "\n",
      "c:\\Users\\Lara\\AWI\\Coding\\AWI\\venv\\Lib\\site-packages\\pyogrio\\raw.py:723: RuntimeWarning:\n",
      "\n",
      "Normalized/laundered field name: 'zero_C18_EM' to 'zero_C18_E'\n",
      "\n",
      "c:\\Users\\Lara\\AWI\\Coding\\AWI\\venv\\Lib\\site-packages\\pyogrio\\raw.py:723: RuntimeWarning:\n",
      "\n",
      "Normalized/laundered field name: 'assessed_C18_EM' to 'assessed_2'\n",
      "\n",
      "c:\\Users\\Lara\\AWI\\Coding\\AWI\\venv\\Lib\\site-packages\\pyogrio\\raw.py:723: RuntimeWarning:\n",
      "\n",
      "Normalized/laundered field name: 'present_C17_EM' to 'present__2'\n",
      "\n",
      "c:\\Users\\Lara\\AWI\\Coding\\AWI\\venv\\Lib\\site-packages\\pyogrio\\raw.py:723: RuntimeWarning:\n",
      "\n",
      "Normalized/laundered field name: 'zero_C17_EM' to 'zero_C17_E'\n",
      "\n",
      "c:\\Users\\Lara\\AWI\\Coding\\AWI\\venv\\Lib\\site-packages\\pyogrio\\raw.py:723: RuntimeWarning:\n",
      "\n",
      "Normalized/laundered field name: 'assessed_C17_EM' to 'assessed_3'\n",
      "\n",
      "c:\\Users\\Lara\\AWI\\Coding\\AWI\\venv\\Lib\\site-packages\\pyogrio\\raw.py:723: RuntimeWarning:\n",
      "\n",
      "Normalized/laundered field name: 'assessed_EM' to 'assessed_E'\n",
      "\n",
      "c:\\Users\\Lara\\AWI\\Coding\\AWI\\venv\\Lib\\site-packages\\pyogrio\\raw.py:723: RuntimeWarning:\n",
      "\n",
      "Normalized/laundered field name: 'present_OTHER' to 'present_OT'\n",
      "\n",
      "c:\\Users\\Lara\\AWI\\Coding\\AWI\\venv\\Lib\\site-packages\\pyogrio\\raw.py:723: RuntimeWarning:\n",
      "\n",
      "Normalized/laundered field name: 'assessed_OTHER' to 'assessed_4'\n",
      "\n",
      "c:\\Users\\Lara\\AWI\\Coding\\AWI\\venv\\Lib\\site-packages\\pyogrio\\raw.py:723: RuntimeWarning:\n",
      "\n",
      "Normalized/laundered field name: 'assessed_HE_REF' to 'assessed_H'\n",
      "\n",
      "c:\\Users\\Lara\\AWI\\Coding\\AWI\\venv\\Lib\\site-packages\\pyogrio\\raw.py:723: RuntimeWarning:\n",
      "\n",
      "Normalized/laundered field name: 'present_NAME_TITHE' to 'present_NA'\n",
      "\n",
      "c:\\Users\\Lara\\AWI\\Coding\\AWI\\venv\\Lib\\site-packages\\pyogrio\\raw.py:723: RuntimeWarning:\n",
      "\n",
      "Normalized/laundered field name: 'present_NAME_EP1' to 'present__3'\n",
      "\n",
      "c:\\Users\\Lara\\AWI\\Coding\\AWI\\venv\\Lib\\site-packages\\pyogrio\\raw.py:723: RuntimeWarning:\n",
      "\n",
      "Normalized/laundered field name: 'present_NAME_OSD' to 'present__4'\n",
      "\n",
      "c:\\Users\\Lara\\AWI\\Coding\\AWI\\venv\\Lib\\site-packages\\pyogrio\\raw.py:723: RuntimeWarning:\n",
      "\n",
      "Normalized/laundered field name: 'present_NAME_EM' to 'present__5'\n",
      "\n",
      "c:\\Users\\Lara\\AWI\\Coding\\AWI\\venv\\Lib\\site-packages\\pyogrio\\raw.py:723: RuntimeWarning:\n",
      "\n",
      "Normalized/laundered field name: 'present_HE_REF' to 'present_HE'\n",
      "\n",
      "c:\\Users\\Lara\\AWI\\Coding\\AWI\\venv\\Lib\\site-packages\\pyogrio\\raw.py:723: RuntimeWarning:\n",
      "\n",
      "Normalized/laundered field name: 'name_present' to 'name_prese'\n",
      "\n",
      "c:\\Users\\Lara\\AWI\\Coding\\AWI\\venv\\Lib\\site-packages\\pyogrio\\raw.py:723: RuntimeWarning:\n",
      "\n",
      "Normalized/laundered field name: 'present_combined' to 'present_co'\n",
      "\n",
      "c:\\Users\\Lara\\AWI\\Coding\\AWI\\venv\\Lib\\site-packages\\pyogrio\\raw.py:723: RuntimeWarning:\n",
      "\n",
      "Normalized/laundered field name: 'present_primary' to 'present_pr'\n",
      "\n",
      "c:\\Users\\Lara\\AWI\\Coding\\AWI\\venv\\Lib\\site-packages\\pyogrio\\raw.py:723: RuntimeWarning:\n",
      "\n",
      "Normalized/laundered field name: 'present_secondary' to 'present_se'\n",
      "\n",
      "c:\\Users\\Lara\\AWI\\Coding\\AWI\\venv\\Lib\\site-packages\\pyogrio\\raw.py:723: RuntimeWarning:\n",
      "\n",
      "Normalized/laundered field name: 'zero_combined' to 'zero_combi'\n",
      "\n",
      "c:\\Users\\Lara\\AWI\\Coding\\AWI\\venv\\Lib\\site-packages\\pyogrio\\raw.py:723: RuntimeWarning:\n",
      "\n",
      "Normalized/laundered field name: 'zero_primary' to 'zero_prima'\n",
      "\n",
      "c:\\Users\\Lara\\AWI\\Coding\\AWI\\venv\\Lib\\site-packages\\pyogrio\\raw.py:723: RuntimeWarning:\n",
      "\n",
      "Normalized/laundered field name: 'zero_secondary' to 'zero_secon'\n",
      "\n",
      "c:\\Users\\Lara\\AWI\\Coding\\AWI\\venv\\Lib\\site-packages\\pyogrio\\raw.py:723: RuntimeWarning:\n",
      "\n",
      "Normalized/laundered field name: 'assessed_primary' to 'assessed_p'\n",
      "\n",
      "c:\\Users\\Lara\\AWI\\Coding\\AWI\\venv\\Lib\\site-packages\\pyogrio\\raw.py:723: RuntimeWarning:\n",
      "\n",
      "Normalized/laundered field name: 'subCategory' to 'subCategor'\n",
      "\n"
     ]
    }
   ],
   "source": [
    "df_combined.to_file(\"AWI_sources_updated_5_resolved_test.shp\")"
   ]
  },
  {
   "cell_type": "markdown",
   "metadata": {},
   "source": [
    "## Random analysis\n"
   ]
  },
  {
   "cell_type": "code",
   "execution_count": 31,
   "metadata": {},
   "outputs": [],
   "source": [
    "df_ancient_only = df_combined[df_combined.Category == 'Ancient woodland']\n",
    "df_maybe_ancient = df_combined[df_combined.Category == 'Maybe ancient woodland']\n",
    "df_not_ancient = df_combined[df_combined.Category == 'Not ancient woodland']"
   ]
  },
  {
   "cell_type": "code",
   "execution_count": 51,
   "metadata": {},
   "outputs": [],
   "source": [
    "df_not_ancient_grouped = df_not_ancient.groupby('P3_Status').count().reset_index()\n",
    "df_ancient_grouped = df_ancient_only.groupby('P3_Status').count().reset_index()"
   ]
  },
  {
   "cell_type": "code",
   "execution_count": 60,
   "metadata": {},
   "outputs": [],
   "source": [
    "df_combined['area'] = df_combined.area/10000\n"
   ]
  },
  {
   "cell_type": "code",
   "execution_count": 88,
   "metadata": {},
   "outputs": [],
   "source": [
    "df_grouped = df_combined.groupby(['Category', 'subCategory','intersects_old_AWI'])['area'].sum().reset_index()\n"
   ]
  },
  {
   "cell_type": "code",
   "execution_count": 67,
   "metadata": {},
   "outputs": [
    {
     "data": {
      "text/plain": [
       "np.float64(670.9962464495912)"
      ]
     },
     "execution_count": 67,
     "metadata": {},
     "output_type": "execute_result"
    }
   ],
   "source": [
    "df_intersects_not_ancient = df_combined[(df_combined['intersects_old_AWI']==True)&(df_combined['Category']=='Not ancient woodland')]\n",
    "df_intersects_not_ancient.area.sum()/10000"
   ]
  },
  {
   "cell_type": "code",
   "execution_count": 90,
   "metadata": {},
   "outputs": [],
   "source": [
    "df_grouped_not_ancient  = df_grouped[df_grouped.Category =='Not ancient woodland']"
   ]
  },
  {
   "cell_type": "code",
   "execution_count": 34,
   "metadata": {},
   "outputs": [
    {
     "data": {
      "text/html": [
       "<div>\n",
       "<style scoped>\n",
       "    .dataframe tbody tr th:only-of-type {\n",
       "        vertical-align: middle;\n",
       "    }\n",
       "\n",
       "    .dataframe tbody tr th {\n",
       "        vertical-align: top;\n",
       "    }\n",
       "\n",
       "    .dataframe thead th {\n",
       "        text-align: right;\n",
       "    }\n",
       "</style>\n",
       "<table border=\"1\" class=\"dataframe\">\n",
       "  <thead>\n",
       "    <tr style=\"text-align: right;\">\n",
       "      <th></th>\n",
       "      <th>present_primary</th>\n",
       "      <th>present_TITHE</th>\n",
       "    </tr>\n",
       "  </thead>\n",
       "  <tbody>\n",
       "    <tr>\n",
       "      <th>0</th>\n",
       "      <td>1</td>\n",
       "      <td>1179</td>\n",
       "    </tr>\n",
       "    <tr>\n",
       "      <th>1</th>\n",
       "      <td>2</td>\n",
       "      <td>1049</td>\n",
       "    </tr>\n",
       "    <tr>\n",
       "      <th>2</th>\n",
       "      <td>3</td>\n",
       "      <td>1209</td>\n",
       "    </tr>\n",
       "    <tr>\n",
       "      <th>3</th>\n",
       "      <td>4</td>\n",
       "      <td>304</td>\n",
       "    </tr>\n",
       "  </tbody>\n",
       "</table>\n",
       "</div>"
      ],
      "text/plain": [
       "   present_primary  present_TITHE\n",
       "0                1           1179\n",
       "1                2           1049\n",
       "2                3           1209\n",
       "3                4            304"
      ]
     },
     "execution_count": 34,
     "metadata": {},
     "output_type": "execute_result"
    }
   ],
   "source": [
    "df_check = df_primary.groupby(['present_primary'])['present_TITHE'].sum().reset_index()\n",
    "df_check"
   ]
  },
  {
   "cell_type": "code",
   "execution_count": 31,
   "metadata": {},
   "outputs": [
    {
     "data": {
      "text/html": [
       "<div>\n",
       "<style scoped>\n",
       "    .dataframe tbody tr th:only-of-type {\n",
       "        vertical-align: middle;\n",
       "    }\n",
       "\n",
       "    .dataframe tbody tr th {\n",
       "        vertical-align: top;\n",
       "    }\n",
       "\n",
       "    .dataframe thead th {\n",
       "        text-align: right;\n",
       "    }\n",
       "</style>\n",
       "<table border=\"1\" class=\"dataframe\">\n",
       "  <thead>\n",
       "    <tr style=\"text-align: right;\">\n",
       "      <th></th>\n",
       "      <th>present_primary</th>\n",
       "      <th>present_OSD</th>\n",
       "    </tr>\n",
       "  </thead>\n",
       "  <tbody>\n",
       "    <tr>\n",
       "      <th>0</th>\n",
       "      <td>1</td>\n",
       "      <td>539</td>\n",
       "    </tr>\n",
       "    <tr>\n",
       "      <th>1</th>\n",
       "      <td>2</td>\n",
       "      <td>1215</td>\n",
       "    </tr>\n",
       "    <tr>\n",
       "      <th>2</th>\n",
       "      <td>3</td>\n",
       "      <td>1486</td>\n",
       "    </tr>\n",
       "    <tr>\n",
       "      <th>3</th>\n",
       "      <td>4</td>\n",
       "      <td>304</td>\n",
       "    </tr>\n",
       "  </tbody>\n",
       "</table>\n",
       "</div>"
      ],
      "text/plain": [
       "   present_primary  present_OSD\n",
       "0                1          539\n",
       "1                2         1215\n",
       "2                3         1486\n",
       "3                4          304"
      ]
     },
     "execution_count": 31,
     "metadata": {},
     "output_type": "execute_result"
    }
   ],
   "source": [
    "df_check = df_primary.groupby(['present_primary'])['present_OSD'].sum().reset_index()\n",
    "df_check"
   ]
  },
  {
   "cell_type": "code",
   "execution_count": 32,
   "metadata": {},
   "outputs": [
    {
     "data": {
      "text/html": [
       "<div>\n",
       "<style scoped>\n",
       "    .dataframe tbody tr th:only-of-type {\n",
       "        vertical-align: middle;\n",
       "    }\n",
       "\n",
       "    .dataframe tbody tr th {\n",
       "        vertical-align: top;\n",
       "    }\n",
       "\n",
       "    .dataframe thead th {\n",
       "        text-align: right;\n",
       "    }\n",
       "</style>\n",
       "<table border=\"1\" class=\"dataframe\">\n",
       "  <thead>\n",
       "    <tr style=\"text-align: right;\">\n",
       "      <th></th>\n",
       "      <th>present_primary</th>\n",
       "      <th>present_CM_1773</th>\n",
       "    </tr>\n",
       "  </thead>\n",
       "  <tbody>\n",
       "    <tr>\n",
       "      <th>0</th>\n",
       "      <td>1</td>\n",
       "      <td>232</td>\n",
       "    </tr>\n",
       "    <tr>\n",
       "      <th>1</th>\n",
       "      <td>2</td>\n",
       "      <td>665</td>\n",
       "    </tr>\n",
       "    <tr>\n",
       "      <th>2</th>\n",
       "      <td>3</td>\n",
       "      <td>1285</td>\n",
       "    </tr>\n",
       "    <tr>\n",
       "      <th>3</th>\n",
       "      <td>4</td>\n",
       "      <td>304</td>\n",
       "    </tr>\n",
       "  </tbody>\n",
       "</table>\n",
       "</div>"
      ],
      "text/plain": [
       "   present_primary  present_CM_1773\n",
       "0                1              232\n",
       "1                2              665\n",
       "2                3             1285\n",
       "3                4              304"
      ]
     },
     "execution_count": 32,
     "metadata": {},
     "output_type": "execute_result"
    }
   ],
   "source": [
    "df_check = df_primary.groupby(['present_primary'])['present_CM_1773'].sum().reset_index()\n",
    "df_check"
   ]
  },
  {
   "cell_type": "code",
   "execution_count": 39,
   "metadata": {},
   "outputs": [
    {
     "data": {
      "text/html": [
       "<div>\n",
       "<style scoped>\n",
       "    .dataframe tbody tr th:only-of-type {\n",
       "        vertical-align: middle;\n",
       "    }\n",
       "\n",
       "    .dataframe tbody tr th {\n",
       "        vertical-align: top;\n",
       "    }\n",
       "\n",
       "    .dataframe thead th {\n",
       "        text-align: right;\n",
       "    }\n",
       "</style>\n",
       "<table border=\"1\" class=\"dataframe\">\n",
       "  <thead>\n",
       "    <tr style=\"text-align: right;\">\n",
       "      <th></th>\n",
       "      <th>present_primary</th>\n",
       "      <th>present_HE_REF</th>\n",
       "    </tr>\n",
       "  </thead>\n",
       "  <tbody>\n",
       "    <tr>\n",
       "      <th>0</th>\n",
       "      <td>1</td>\n",
       "      <td>154</td>\n",
       "    </tr>\n",
       "    <tr>\n",
       "      <th>1</th>\n",
       "      <td>2</td>\n",
       "      <td>403</td>\n",
       "    </tr>\n",
       "    <tr>\n",
       "      <th>2</th>\n",
       "      <td>3</td>\n",
       "      <td>673</td>\n",
       "    </tr>\n",
       "    <tr>\n",
       "      <th>3</th>\n",
       "      <td>4</td>\n",
       "      <td>304</td>\n",
       "    </tr>\n",
       "  </tbody>\n",
       "</table>\n",
       "</div>"
      ],
      "text/plain": [
       "   present_primary  present_HE_REF\n",
       "0                1             154\n",
       "1                2             403\n",
       "2                3             673\n",
       "3                4             304"
      ]
     },
     "execution_count": 39,
     "metadata": {},
     "output_type": "execute_result"
    }
   ],
   "source": [
    "df_check = df_primary.groupby(['present_primary'])['present_HE_REF'].sum().reset_index()\n",
    "df_check"
   ]
  },
  {
   "cell_type": "code",
   "execution_count": 80,
   "metadata": {},
   "outputs": [
    {
     "data": {
      "text/plain": [
       "array([None, 'Verge of road', 'too small',\n",
       "       'Lidar + EP1: Spoil heaps around tunnel shafts',\n",
       "       'Tithe: quarries, confirmed by LiDAR',\n",
       "       'Tithe: small fields & gardens', 'Tithe: small fields and gardens',\n",
       "       'Tithe: too narrow to be wp', 'Too small',\n",
       "       \"OSD: shown as farm. EP1: 'Old Farm Clump'\",\n",
       "       'AP & AP_LUFT: trees missing from interior',\n",
       "       'Assumed old orchard and gardens',\n",
       "       'C19_EM: could be recent plantation as drawn over arable plot. Extended to the south in pencil - later addition?',\n",
       "       'OSD: penning',\n",
       "       'LiDAR: signs of quarrying. Tithe: wooded area < 0.25 ha',\n",
       "       'Tithe: lots of small fields so not WP',\n",
       "       'Tithe: pasture area < 0.25 ha', 'Mansion grounds',\n",
       "       'Old chalk pit', 'Tithe: lots of small fields, also on EM',\n",
       "       'Tithe: too narrow to be WP',\n",
       "       \"Labelled 'glebe' on EM. Tithe: garden and narrow woodland.\",\n",
       "       'Tithe: pasture part of plot < 0.25 ha. AP_LUFT: garden of house',\n",
       "       'AP_LUFT: wooded area <0.25 ha',\n",
       "       'Tithe: much narrower borders along arable fields',\n",
       "       'Tithe: old orchard', 'very small',\n",
       "       'Tithe: old quarry, confirmed by LiDAR', 'Too narrow to be WP',\n",
       "       'EP1: only 3 trees. Close to railway', 'Bank of canal',\n",
       "       'Replanted, unclear whether Plantation, or native trees',\n",
       "       'C18_EM: Coloured in pencil, assumed to be wooded.',\n",
       "       'LiDAR: earthwork?', 'C20_AP: recently felled?',\n",
       "       'Tithe: overlap with pasture plot < 0.25 ha',\n",
       "       'C20_AP: in shadow of hill, could be recenlty felled woodland',\n",
       "       'LiDAR: signs of quarrying', 'Tithe: wooded area too narrow',\n",
       "       'OSD: shown as penning. No tree symbols',\n",
       "       'AP_20C: Recent forestry work?',\n",
       "       'OS 1937-61 Only partly shown as woodland. South-west quater left unplanted, no wp symbols. Single cluster of conifer symbols on EP1',\n",
       "       '20th centuary aerial: few trees, recent forestry?',\n",
       "       'AP_LUFT: only one tree shown within parcel area',\n",
       "       'AP_20C: recent forestry work?',\n",
       "       'C18_EM: green wash, assumed to depict rough pasture/ wood pasture',\n",
       "       'Partly in garden', 'Scrubby grassland?',\n",
       "       'EP1: only one cluster of trees at point of old field boundary from EM',\n",
       "       'Tithe: separated from plot with dotted line',\n",
       "       'Tithe: small fields. EP1: old field boundaries'], dtype=object)"
      ]
     },
     "execution_count": 80,
     "metadata": {},
     "output_type": "execute_result"
    }
   ],
   "source": [
    "df_no_primary.COMMENTS.unique()"
   ]
  },
  {
   "cell_type": "code",
   "execution_count": null,
   "metadata": {},
   "outputs": [],
   "source": [
    "df_grouped = df.groupby(['present_primary']).count().reset_index()\n",
    "df_combined_small = df_combined[df_combined.area <50000]"
   ]
  },
  {
   "cell_type": "code",
   "execution_count": 73,
   "metadata": {},
   "outputs": [
    {
     "data": {
      "application/vnd.plotly.v1+json": {
       "config": {
        "plotlyServerURL": "https://plot.ly"
       },
       "data": [
        {
         "bingroup": "x",
         "hovertemplate": "present_primary=3<br>area=%{x}<br>count=%{y}<extra></extra>",
         "legendgroup": "3",
         "marker": {
          "color": "#636efa",
          "pattern": {
           "shape": ""
          }
         },
         "name": "3",
         "nbinsx": 60,
         "orientation": "v",
         "showlegend": true,
         "type": "histogram",
         "x": {
          "bdata": "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",
          "dtype": "f8"
         },
         "xaxis": "x",
         "yaxis": "y"
        },
        {
         "bingroup": "x",
         "hovertemplate": "present_primary=2<br>area=%{x}<br>count=%{y}<extra></extra>",
         "legendgroup": "2",
         "marker": {
          "color": "#EF553B",
          "pattern": {
           "shape": ""
          }
         },
         "name": "2",
         "nbinsx": 60,
         "orientation": "v",
         "showlegend": true,
         "type": "histogram",
         "x": {
          "bdata": "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",
          "dtype": "f8"
         },
         "xaxis": "x",
         "yaxis": "y"
        },
        {
         "bingroup": "x",
         "hovertemplate": "present_primary=1<br>area=%{x}<br>count=%{y}<extra></extra>",
         "legendgroup": "1",
         "marker": {
          "color": "#00cc96",
          "pattern": {
           "shape": ""
          }
         },
         "name": "1",
         "nbinsx": 60,
         "orientation": "v",
         "showlegend": true,
         "type": "histogram",
         "x": {
          "bdata": "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",
          "dtype": "f8"
         },
         "xaxis": "x",
         "yaxis": "y"
        },
        {
         "bingroup": "x",
         "hovertemplate": "present_primary=4<br>area=%{x}<br>count=%{y}<extra></extra>",
         "legendgroup": "4",
         "marker": {
          "color": "#ab63fa",
          "pattern": {
           "shape": ""
          }
         },
         "name": "4",
         "nbinsx": 60,
         "orientation": "v",
         "showlegend": true,
         "type": "histogram",
         "x": {
          "bdata": "x+W5Jc1a1j90SadmgPwKQJH4WtzzIRBA59HfaiSX4j9XNHCsIs4CQA67OknLZwBATLH9B49WA0Bmi5o2qdMQQFDY9ooFDwtAS1NF78bp9D/Ex5gdwo75P6wyjdwFMPQ/c39ePgIK6j8ko7d9Q+gJQJsTryc3E+E/JYjeV1dW8D/rRmZp1x/fP7D8sUCNJrY/ZDXFO8Ld3T+qRlaiJmUMQLBMBViddwJAerpO/pul6z/uH9JjuTIPQHMq/BBEW/I/oxZt7np1C0BWshMhwqUFQPYi//KotwNAIzoPS8wj7D+gPP19jN4QQEQLE/Wm2+4/B/jbgNCzAUDsxRIikfjlPzOHCCOpB+I/PshtXAGd1j9oHqYobfPOP5ekodQj6Mg/Dt8/kY0s9z8JJtqI/PH7Px7ysrhaGgpAZky2AWE1CkCrMHUwkDUSQHHMDrb5nwRAbG3URESYA0AXGnI1AdP3P79GUuUZv+M//1fsShmKuT8wejUq8+8LQK+xxDWeMuw/tTunNx6w8T8OWVw6BW0GQNK+0PUzMwRAwQodVskPEkAtg7WI/5EDQPLMkbRVqOc/ZodjPbqz2j+JFb4gt+UFQCwxwxJO2AFAC73I4mmPCkDTsLszrSv0P643XqoBtgk/s5sjh7r6/j9cJhocpEUAQKpJXYw688U/Z9jqzS+r9z9rT3i4NUzyP2EbYuh5PRNAz2lmeKOUBkDksn9wmAngP5Y1wE3UMgBA29RJGQjKAEBfz9Uo8CrwPxJXLmBw5d0/BhPwdq781T86v93OhwHvP2+2TtpG4PE/C23kQaqJEEAV8pAkGpwCQN7z+eMoYvE/T9VVQl7s8j8HcPEpAK4RQGhJAqJ5dwBAI3vWvRyJ1z/1mWtJhEfuPwAe9juxvtQ/0DlNyuiv9z+fCWJjUQ4SQH+xwLCASg1AwXmlAl+/B0AZbtMXpjzdP5HXDlaL8/0/wMiqJ+7TAkCZj9fEaCIAQD0hEizI9fU/zjLBH+dU2T/po2gohkC6P9/kbNpYSvg/wVISfHL81T/l3Epar5HeP4w/QD8YNvQ/5JMTycfDC0Bo9zzdjNAAQNfMIfzhPO4/x+2AsOG8BED7oBNmNoMJQHG2b53lfcU/naMl3s6n9j+q+ns0slQAQEdKcO46VRNAL+GBq4vAC0C6OYePbVQDQJFcSdIa/gNA8rlWRPqBE0DkQur7+WMQQKJYX984bQlAxVfbFpqk7T8n+O63gMK+P9BnrQ/cgu4/utgBMeqZ9z+9VEWv0N0IQD7QmruvGuY/01x3nlZCE0AgZVTGQZb+PzYFUtTlqdU/7cVmGIy1AkBUPcKmkBH3P99EH8xedQFAjgSEF8g4EUDWUVN++r73P83h469P2BFAggQ5REoBEEBUVvcYOqXVP216YMnRc+E/l8QX2YSq5j/pfGTlaUviP3JQXb0S6+U/RVzZWQ9bAUA7XaXs/WLuPxnAJpthAsA/tQ71xlKj/z9nTiKDjMXlP8UzNPhoL9s/NTMEHTAG/D+EbUIYdlr6P/f3u9AbueI/ozlPUCqXAkCXuH+FSKkQQCsMSpr/ouA/O9Qk1EoW5j+qGIiw5v3IP3WPzagy1Mk/HeaE/TTwCUDyZkGJ9rADQOmcWcAksBFAanRAEHzs/z8nIH6WSm/oP6V4w3uf+AtAKq2sTe7q+z+G3qKEYj3TP/Ubaq7xPeY/C55q4U2NAkClQpCIwumwPxIHr7aztghA1mtyEK9N9z8C5tuCrNvQP8Rkx/pNbABAKnrdLz2x6z8WprAOiXoOQHzjbHt6FuM/3Acn1sD93j89KFhJUy8AQA==",
          "dtype": "f8"
         },
         "xaxis": "x",
         "yaxis": "y"
        },
        {
         "bingroup": "x",
         "hovertemplate": "present_primary=0<br>area=%{x}<br>count=%{y}<extra></extra>",
         "legendgroup": "0",
         "marker": {
          "color": "#FFA15A",
          "pattern": {
           "shape": ""
          }
         },
         "name": "0",
         "nbinsx": 60,
         "orientation": "v",
         "showlegend": true,
         "type": "histogram",
         "x": {
          "bdata": "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",
          "dtype": "f8"
         },
         "xaxis": "x",
         "yaxis": "y"
        }
       ],
       "layout": {
        "barmode": "relative",
        "legend": {
         "title": {
          "text": "present_primary"
         },
         "tracegroupgap": 0
        },
        "margin": {
         "t": 60
        },
        "template": {
         "data": {
          "bar": [
           {
            "error_x": {
             "color": "#2a3f5f"
            },
            "error_y": {
             "color": "#2a3f5f"
            },
            "marker": {
             "line": {
              "color": "#E5ECF6",
              "width": 0.5
             },
             "pattern": {
              "fillmode": "overlay",
              "size": 10,
              "solidity": 0.2
             }
            },
            "type": "bar"
           }
          ],
          "barpolar": [
           {
            "marker": {
             "line": {
              "color": "#E5ECF6",
              "width": 0.5
             },
             "pattern": {
              "fillmode": "overlay",
              "size": 10,
              "solidity": 0.2
             }
            },
            "type": "barpolar"
           }
          ],
          "carpet": [
           {
            "aaxis": {
             "endlinecolor": "#2a3f5f",
             "gridcolor": "white",
             "linecolor": "white",
             "minorgridcolor": "white",
             "startlinecolor": "#2a3f5f"
            },
            "baxis": {
             "endlinecolor": "#2a3f5f",
             "gridcolor": "white",
             "linecolor": "white",
             "minorgridcolor": "white",
             "startlinecolor": "#2a3f5f"
            },
            "type": "carpet"
           }
          ],
          "choropleth": [
           {
            "colorbar": {
             "outlinewidth": 0,
             "ticks": ""
            },
            "type": "choropleth"
           }
          ],
          "contour": [
           {
            "colorbar": {
             "outlinewidth": 0,
             "ticks": ""
            },
            "colorscale": [
             [
              0,
              "#0d0887"
             ],
             [
              0.1111111111111111,
              "#46039f"
             ],
             [
              0.2222222222222222,
              "#7201a8"
             ],
             [
              0.3333333333333333,
              "#9c179e"
             ],
             [
              0.4444444444444444,
              "#bd3786"
             ],
             [
              0.5555555555555556,
              "#d8576b"
             ],
             [
              0.6666666666666666,
              "#ed7953"
             ],
             [
              0.7777777777777778,
              "#fb9f3a"
             ],
             [
              0.8888888888888888,
              "#fdca26"
             ],
             [
              1,
              "#f0f921"
             ]
            ],
            "type": "contour"
           }
          ],
          "contourcarpet": [
           {
            "colorbar": {
             "outlinewidth": 0,
             "ticks": ""
            },
            "type": "contourcarpet"
           }
          ],
          "heatmap": [
           {
            "colorbar": {
             "outlinewidth": 0,
             "ticks": ""
            },
            "colorscale": [
             [
              0,
              "#0d0887"
             ],
             [
              0.1111111111111111,
              "#46039f"
             ],
             [
              0.2222222222222222,
              "#7201a8"
             ],
             [
              0.3333333333333333,
              "#9c179e"
             ],
             [
              0.4444444444444444,
              "#bd3786"
             ],
             [
              0.5555555555555556,
              "#d8576b"
             ],
             [
              0.6666666666666666,
              "#ed7953"
             ],
             [
              0.7777777777777778,
              "#fb9f3a"
             ],
             [
              0.8888888888888888,
              "#fdca26"
             ],
             [
              1,
              "#f0f921"
             ]
            ],
            "type": "heatmap"
           }
          ],
          "histogram": [
           {
            "marker": {
             "pattern": {
              "fillmode": "overlay",
              "size": 10,
              "solidity": 0.2
             }
            },
            "type": "histogram"
           }
          ],
          "histogram2d": [
           {
            "colorbar": {
             "outlinewidth": 0,
             "ticks": ""
            },
            "colorscale": [
             [
              0,
              "#0d0887"
             ],
             [
              0.1111111111111111,
              "#46039f"
             ],
             [
              0.2222222222222222,
              "#7201a8"
             ],
             [
              0.3333333333333333,
              "#9c179e"
             ],
             [
              0.4444444444444444,
              "#bd3786"
             ],
             [
              0.5555555555555556,
              "#d8576b"
             ],
             [
              0.6666666666666666,
              "#ed7953"
             ],
             [
              0.7777777777777778,
              "#fb9f3a"
             ],
             [
              0.8888888888888888,
              "#fdca26"
             ],
             [
              1,
              "#f0f921"
             ]
            ],
            "type": "histogram2d"
           }
          ],
          "histogram2dcontour": [
           {
            "colorbar": {
             "outlinewidth": 0,
             "ticks": ""
            },
            "colorscale": [
             [
              0,
              "#0d0887"
             ],
             [
              0.1111111111111111,
              "#46039f"
             ],
             [
              0.2222222222222222,
              "#7201a8"
             ],
             [
              0.3333333333333333,
              "#9c179e"
             ],
             [
              0.4444444444444444,
              "#bd3786"
             ],
             [
              0.5555555555555556,
              "#d8576b"
             ],
             [
              0.6666666666666666,
              "#ed7953"
             ],
             [
              0.7777777777777778,
              "#fb9f3a"
             ],
             [
              0.8888888888888888,
              "#fdca26"
             ],
             [
              1,
              "#f0f921"
             ]
            ],
            "type": "histogram2dcontour"
           }
          ],
          "mesh3d": [
           {
            "colorbar": {
             "outlinewidth": 0,
             "ticks": ""
            },
            "type": "mesh3d"
           }
          ],
          "parcoords": [
           {
            "line": {
             "colorbar": {
              "outlinewidth": 0,
              "ticks": ""
             }
            },
            "type": "parcoords"
           }
          ],
          "pie": [
           {
            "automargin": true,
            "type": "pie"
           }
          ],
          "scatter": [
           {
            "fillpattern": {
             "fillmode": "overlay",
             "size": 10,
             "solidity": 0.2
            },
            "type": "scatter"
           }
          ],
          "scatter3d": [
           {
            "line": {
             "colorbar": {
              "outlinewidth": 0,
              "ticks": ""
             }
            },
            "marker": {
             "colorbar": {
              "outlinewidth": 0,
              "ticks": ""
             }
            },
            "type": "scatter3d"
           }
          ],
          "scattercarpet": [
           {
            "marker": {
             "colorbar": {
              "outlinewidth": 0,
              "ticks": ""
             }
            },
            "type": "scattercarpet"
           }
          ],
          "scattergeo": [
           {
            "marker": {
             "colorbar": {
              "outlinewidth": 0,
              "ticks": ""
             }
            },
            "type": "scattergeo"
           }
          ],
          "scattergl": [
           {
            "marker": {
             "colorbar": {
              "outlinewidth": 0,
              "ticks": ""
             }
            },
            "type": "scattergl"
           }
          ],
          "scattermap": [
           {
            "marker": {
             "colorbar": {
              "outlinewidth": 0,
              "ticks": ""
             }
            },
            "type": "scattermap"
           }
          ],
          "scattermapbox": [
           {
            "marker": {
             "colorbar": {
              "outlinewidth": 0,
              "ticks": ""
             }
            },
            "type": "scattermapbox"
           }
          ],
          "scatterpolar": [
           {
            "marker": {
             "colorbar": {
              "outlinewidth": 0,
              "ticks": ""
             }
            },
            "type": "scatterpolar"
           }
          ],
          "scatterpolargl": [
           {
            "marker": {
             "colorbar": {
              "outlinewidth": 0,
              "ticks": ""
             }
            },
            "type": "scatterpolargl"
           }
          ],
          "scatterternary": [
           {
            "marker": {
             "colorbar": {
              "outlinewidth": 0,
              "ticks": ""
             }
            },
            "type": "scatterternary"
           }
          ],
          "surface": [
           {
            "colorbar": {
             "outlinewidth": 0,
             "ticks": ""
            },
            "colorscale": [
             [
              0,
              "#0d0887"
             ],
             [
              0.1111111111111111,
              "#46039f"
             ],
             [
              0.2222222222222222,
              "#7201a8"
             ],
             [
              0.3333333333333333,
              "#9c179e"
             ],
             [
              0.4444444444444444,
              "#bd3786"
             ],
             [
              0.5555555555555556,
              "#d8576b"
             ],
             [
              0.6666666666666666,
              "#ed7953"
             ],
             [
              0.7777777777777778,
              "#fb9f3a"
             ],
             [
              0.8888888888888888,
              "#fdca26"
             ],
             [
              1,
              "#f0f921"
             ]
            ],
            "type": "surface"
           }
          ],
          "table": [
           {
            "cells": {
             "fill": {
              "color": "#EBF0F8"
             },
             "line": {
              "color": "white"
             }
            },
            "header": {
             "fill": {
              "color": "#C8D4E3"
             },
             "line": {
              "color": "white"
             }
            },
            "type": "table"
           }
          ]
         },
         "layout": {
          "annotationdefaults": {
           "arrowcolor": "#2a3f5f",
           "arrowhead": 0,
           "arrowwidth": 1
          },
          "autotypenumbers": "strict",
          "coloraxis": {
           "colorbar": {
            "outlinewidth": 0,
            "ticks": ""
           }
          },
          "colorscale": {
           "diverging": [
            [
             0,
             "#8e0152"
            ],
            [
             0.1,
             "#c51b7d"
            ],
            [
             0.2,
             "#de77ae"
            ],
            [
             0.3,
             "#f1b6da"
            ],
            [
             0.4,
             "#fde0ef"
            ],
            [
             0.5,
             "#f7f7f7"
            ],
            [
             0.6,
             "#e6f5d0"
            ],
            [
             0.7,
             "#b8e186"
            ],
            [
             0.8,
             "#7fbc41"
            ],
            [
             0.9,
             "#4d9221"
            ],
            [
             1,
             "#276419"
            ]
           ],
           "sequential": [
            [
             0,
             "#0d0887"
            ],
            [
             0.1111111111111111,
             "#46039f"
            ],
            [
             0.2222222222222222,
             "#7201a8"
            ],
            [
             0.3333333333333333,
             "#9c179e"
            ],
            [
             0.4444444444444444,
             "#bd3786"
            ],
            [
             0.5555555555555556,
             "#d8576b"
            ],
            [
             0.6666666666666666,
             "#ed7953"
            ],
            [
             0.7777777777777778,
             "#fb9f3a"
            ],
            [
             0.8888888888888888,
             "#fdca26"
            ],
            [
             1,
             "#f0f921"
            ]
           ],
           "sequentialminus": [
            [
             0,
             "#0d0887"
            ],
            [
             0.1111111111111111,
             "#46039f"
            ],
            [
             0.2222222222222222,
             "#7201a8"
            ],
            [
             0.3333333333333333,
             "#9c179e"
            ],
            [
             0.4444444444444444,
             "#bd3786"
            ],
            [
             0.5555555555555556,
             "#d8576b"
            ],
            [
             0.6666666666666666,
             "#ed7953"
            ],
            [
             0.7777777777777778,
             "#fb9f3a"
            ],
            [
             0.8888888888888888,
             "#fdca26"
            ],
            [
             1,
             "#f0f921"
            ]
           ]
          },
          "colorway": [
           "#636efa",
           "#EF553B",
           "#00cc96",
           "#ab63fa",
           "#FFA15A",
           "#19d3f3",
           "#FF6692",
           "#B6E880",
           "#FF97FF",
           "#FECB52"
          ],
          "font": {
           "color": "#2a3f5f"
          },
          "geo": {
           "bgcolor": "white",
           "lakecolor": "white",
           "landcolor": "#E5ECF6",
           "showlakes": true,
           "showland": true,
           "subunitcolor": "white"
          },
          "hoverlabel": {
           "align": "left"
          },
          "hovermode": "closest",
          "mapbox": {
           "style": "light"
          },
          "paper_bgcolor": "white",
          "plot_bgcolor": "#E5ECF6",
          "polar": {
           "angularaxis": {
            "gridcolor": "white",
            "linecolor": "white",
            "ticks": ""
           },
           "bgcolor": "#E5ECF6",
           "radialaxis": {
            "gridcolor": "white",
            "linecolor": "white",
            "ticks": ""
           }
          },
          "scene": {
           "xaxis": {
            "backgroundcolor": "#E5ECF6",
            "gridcolor": "white",
            "gridwidth": 2,
            "linecolor": "white",
            "showbackground": true,
            "ticks": "",
            "zerolinecolor": "white"
           },
           "yaxis": {
            "backgroundcolor": "#E5ECF6",
            "gridcolor": "white",
            "gridwidth": 2,
            "linecolor": "white",
            "showbackground": true,
            "ticks": "",
            "zerolinecolor": "white"
           },
           "zaxis": {
            "backgroundcolor": "#E5ECF6",
            "gridcolor": "white",
            "gridwidth": 2,
            "linecolor": "white",
            "showbackground": true,
            "ticks": "",
            "zerolinecolor": "white"
           }
          },
          "shapedefaults": {
           "line": {
            "color": "#2a3f5f"
           }
          },
          "ternary": {
           "aaxis": {
            "gridcolor": "white",
            "linecolor": "white",
            "ticks": ""
           },
           "baxis": {
            "gridcolor": "white",
            "linecolor": "white",
            "ticks": ""
           },
           "bgcolor": "#E5ECF6",
           "caxis": {
            "gridcolor": "white",
            "linecolor": "white",
            "ticks": ""
           }
          },
          "title": {
           "x": 0.05
          },
          "xaxis": {
           "automargin": true,
           "gridcolor": "white",
           "linecolor": "white",
           "ticks": "",
           "title": {
            "standoff": 15
           },
           "zerolinecolor": "white",
           "zerolinewidth": 2
          },
          "yaxis": {
           "automargin": true,
           "gridcolor": "white",
           "linecolor": "white",
           "ticks": "",
           "title": {
            "standoff": 15
           },
           "zerolinecolor": "white",
           "zerolinewidth": 2
          }
         }
        },
        "xaxis": {
         "anchor": "y",
         "domain": [
          0,
          1
         ],
         "title": {
          "text": "area"
         }
        },
        "yaxis": {
         "anchor": "x",
         "domain": [
          0,
          1
         ],
         "title": {
          "text": "count"
         }
        }
       }
      }
     },
     "metadata": {},
     "output_type": "display_data"
    }
   ],
   "source": [
    "fig = px.histogram(df_combined_small, x = 'area', color = 'present_primary', nbins = 60 )\n",
    "fig.show()"
   ]
  },
  {
   "cell_type": "code",
   "execution_count": null,
   "metadata": {},
   "outputs": [
    {
     "data": {
      "application/vnd.plotly.v1+json": {
       "config": {
        "plotlyServerURL": "https://plot.ly"
       },
       "data": [
        {
         "hovertemplate": "assessed_primary=%{x}<br>P3_UID=%{y}<extra></extra>",
         "legendgroup": "",
         "marker": {
          "color": "#636efa",
          "pattern": {
           "shape": ""
          }
         },
         "name": "",
         "orientation": "v",
         "showlegend": false,
         "textposition": "auto",
         "type": "bar",
         "x": {
          "bdata": "AQIDBA==",
          "dtype": "i1"
         },
         "xaxis": "x",
         "y": {
          "bdata": "UwD3CAYPFAM=",
          "dtype": "i2"
         },
         "yaxis": "y"
        }
       ],
       "layout": {
        "barmode": "relative",
        "legend": {
         "tracegroupgap": 0
        },
        "margin": {
         "t": 60
        },
        "template": {
         "data": {
          "bar": [
           {
            "error_x": {
             "color": "#2a3f5f"
            },
            "error_y": {
             "color": "#2a3f5f"
            },
            "marker": {
             "line": {
              "color": "#E5ECF6",
              "width": 0.5
             },
             "pattern": {
              "fillmode": "overlay",
              "size": 10,
              "solidity": 0.2
             }
            },
            "type": "bar"
           }
          ],
          "barpolar": [
           {
            "marker": {
             "line": {
              "color": "#E5ECF6",
              "width": 0.5
             },
             "pattern": {
              "fillmode": "overlay",
              "size": 10,
              "solidity": 0.2
             }
            },
            "type": "barpolar"
           }
          ],
          "carpet": [
           {
            "aaxis": {
             "endlinecolor": "#2a3f5f",
             "gridcolor": "white",
             "linecolor": "white",
             "minorgridcolor": "white",
             "startlinecolor": "#2a3f5f"
            },
            "baxis": {
             "endlinecolor": "#2a3f5f",
             "gridcolor": "white",
             "linecolor": "white",
             "minorgridcolor": "white",
             "startlinecolor": "#2a3f5f"
            },
            "type": "carpet"
           }
          ],
          "choropleth": [
           {
            "colorbar": {
             "outlinewidth": 0,
             "ticks": ""
            },
            "type": "choropleth"
           }
          ],
          "contour": [
           {
            "colorbar": {
             "outlinewidth": 0,
             "ticks": ""
            },
            "colorscale": [
             [
              0,
              "#0d0887"
             ],
             [
              0.1111111111111111,
              "#46039f"
             ],
             [
              0.2222222222222222,
              "#7201a8"
             ],
             [
              0.3333333333333333,
              "#9c179e"
             ],
             [
              0.4444444444444444,
              "#bd3786"
             ],
             [
              0.5555555555555556,
              "#d8576b"
             ],
             [
              0.6666666666666666,
              "#ed7953"
             ],
             [
              0.7777777777777778,
              "#fb9f3a"
             ],
             [
              0.8888888888888888,
              "#fdca26"
             ],
             [
              1,
              "#f0f921"
             ]
            ],
            "type": "contour"
           }
          ],
          "contourcarpet": [
           {
            "colorbar": {
             "outlinewidth": 0,
             "ticks": ""
            },
            "type": "contourcarpet"
           }
          ],
          "heatmap": [
           {
            "colorbar": {
             "outlinewidth": 0,
             "ticks": ""
            },
            "colorscale": [
             [
              0,
              "#0d0887"
             ],
             [
              0.1111111111111111,
              "#46039f"
             ],
             [
              0.2222222222222222,
              "#7201a8"
             ],
             [
              0.3333333333333333,
              "#9c179e"
             ],
             [
              0.4444444444444444,
              "#bd3786"
             ],
             [
              0.5555555555555556,
              "#d8576b"
             ],
             [
              0.6666666666666666,
              "#ed7953"
             ],
             [
              0.7777777777777778,
              "#fb9f3a"
             ],
             [
              0.8888888888888888,
              "#fdca26"
             ],
             [
              1,
              "#f0f921"
             ]
            ],
            "type": "heatmap"
           }
          ],
          "histogram": [
           {
            "marker": {
             "pattern": {
              "fillmode": "overlay",
              "size": 10,
              "solidity": 0.2
             }
            },
            "type": "histogram"
           }
          ],
          "histogram2d": [
           {
            "colorbar": {
             "outlinewidth": 0,
             "ticks": ""
            },
            "colorscale": [
             [
              0,
              "#0d0887"
             ],
             [
              0.1111111111111111,
              "#46039f"
             ],
             [
              0.2222222222222222,
              "#7201a8"
             ],
             [
              0.3333333333333333,
              "#9c179e"
             ],
             [
              0.4444444444444444,
              "#bd3786"
             ],
             [
              0.5555555555555556,
              "#d8576b"
             ],
             [
              0.6666666666666666,
              "#ed7953"
             ],
             [
              0.7777777777777778,
              "#fb9f3a"
             ],
             [
              0.8888888888888888,
              "#fdca26"
             ],
             [
              1,
              "#f0f921"
             ]
            ],
            "type": "histogram2d"
           }
          ],
          "histogram2dcontour": [
           {
            "colorbar": {
             "outlinewidth": 0,
             "ticks": ""
            },
            "colorscale": [
             [
              0,
              "#0d0887"
             ],
             [
              0.1111111111111111,
              "#46039f"
             ],
             [
              0.2222222222222222,
              "#7201a8"
             ],
             [
              0.3333333333333333,
              "#9c179e"
             ],
             [
              0.4444444444444444,
              "#bd3786"
             ],
             [
              0.5555555555555556,
              "#d8576b"
             ],
             [
              0.6666666666666666,
              "#ed7953"
             ],
             [
              0.7777777777777778,
              "#fb9f3a"
             ],
             [
              0.8888888888888888,
              "#fdca26"
             ],
             [
              1,
              "#f0f921"
             ]
            ],
            "type": "histogram2dcontour"
           }
          ],
          "mesh3d": [
           {
            "colorbar": {
             "outlinewidth": 0,
             "ticks": ""
            },
            "type": "mesh3d"
           }
          ],
          "parcoords": [
           {
            "line": {
             "colorbar": {
              "outlinewidth": 0,
              "ticks": ""
             }
            },
            "type": "parcoords"
           }
          ],
          "pie": [
           {
            "automargin": true,
            "type": "pie"
           }
          ],
          "scatter": [
           {
            "fillpattern": {
             "fillmode": "overlay",
             "size": 10,
             "solidity": 0.2
            },
            "type": "scatter"
           }
          ],
          "scatter3d": [
           {
            "line": {
             "colorbar": {
              "outlinewidth": 0,
              "ticks": ""
             }
            },
            "marker": {
             "colorbar": {
              "outlinewidth": 0,
              "ticks": ""
             }
            },
            "type": "scatter3d"
           }
          ],
          "scattercarpet": [
           {
            "marker": {
             "colorbar": {
              "outlinewidth": 0,
              "ticks": ""
             }
            },
            "type": "scattercarpet"
           }
          ],
          "scattergeo": [
           {
            "marker": {
             "colorbar": {
              "outlinewidth": 0,
              "ticks": ""
             }
            },
            "type": "scattergeo"
           }
          ],
          "scattergl": [
           {
            "marker": {
             "colorbar": {
              "outlinewidth": 0,
              "ticks": ""
             }
            },
            "type": "scattergl"
           }
          ],
          "scattermap": [
           {
            "marker": {
             "colorbar": {
              "outlinewidth": 0,
              "ticks": ""
             }
            },
            "type": "scattermap"
           }
          ],
          "scattermapbox": [
           {
            "marker": {
             "colorbar": {
              "outlinewidth": 0,
              "ticks": ""
             }
            },
            "type": "scattermapbox"
           }
          ],
          "scatterpolar": [
           {
            "marker": {
             "colorbar": {
              "outlinewidth": 0,
              "ticks": ""
             }
            },
            "type": "scatterpolar"
           }
          ],
          "scatterpolargl": [
           {
            "marker": {
             "colorbar": {
              "outlinewidth": 0,
              "ticks": ""
             }
            },
            "type": "scatterpolargl"
           }
          ],
          "scatterternary": [
           {
            "marker": {
             "colorbar": {
              "outlinewidth": 0,
              "ticks": ""
             }
            },
            "type": "scatterternary"
           }
          ],
          "surface": [
           {
            "colorbar": {
             "outlinewidth": 0,
             "ticks": ""
            },
            "colorscale": [
             [
              0,
              "#0d0887"
             ],
             [
              0.1111111111111111,
              "#46039f"
             ],
             [
              0.2222222222222222,
              "#7201a8"
             ],
             [
              0.3333333333333333,
              "#9c179e"
             ],
             [
              0.4444444444444444,
              "#bd3786"
             ],
             [
              0.5555555555555556,
              "#d8576b"
             ],
             [
              0.6666666666666666,
              "#ed7953"
             ],
             [
              0.7777777777777778,
              "#fb9f3a"
             ],
             [
              0.8888888888888888,
              "#fdca26"
             ],
             [
              1,
              "#f0f921"
             ]
            ],
            "type": "surface"
           }
          ],
          "table": [
           {
            "cells": {
             "fill": {
              "color": "#EBF0F8"
             },
             "line": {
              "color": "white"
             }
            },
            "header": {
             "fill": {
              "color": "#C8D4E3"
             },
             "line": {
              "color": "white"
             }
            },
            "type": "table"
           }
          ]
         },
         "layout": {
          "annotationdefaults": {
           "arrowcolor": "#2a3f5f",
           "arrowhead": 0,
           "arrowwidth": 1
          },
          "autotypenumbers": "strict",
          "coloraxis": {
           "colorbar": {
            "outlinewidth": 0,
            "ticks": ""
           }
          },
          "colorscale": {
           "diverging": [
            [
             0,
             "#8e0152"
            ],
            [
             0.1,
             "#c51b7d"
            ],
            [
             0.2,
             "#de77ae"
            ],
            [
             0.3,
             "#f1b6da"
            ],
            [
             0.4,
             "#fde0ef"
            ],
            [
             0.5,
             "#f7f7f7"
            ],
            [
             0.6,
             "#e6f5d0"
            ],
            [
             0.7,
             "#b8e186"
            ],
            [
             0.8,
             "#7fbc41"
            ],
            [
             0.9,
             "#4d9221"
            ],
            [
             1,
             "#276419"
            ]
           ],
           "sequential": [
            [
             0,
             "#0d0887"
            ],
            [
             0.1111111111111111,
             "#46039f"
            ],
            [
             0.2222222222222222,
             "#7201a8"
            ],
            [
             0.3333333333333333,
             "#9c179e"
            ],
            [
             0.4444444444444444,
             "#bd3786"
            ],
            [
             0.5555555555555556,
             "#d8576b"
            ],
            [
             0.6666666666666666,
             "#ed7953"
            ],
            [
             0.7777777777777778,
             "#fb9f3a"
            ],
            [
             0.8888888888888888,
             "#fdca26"
            ],
            [
             1,
             "#f0f921"
            ]
           ],
           "sequentialminus": [
            [
             0,
             "#0d0887"
            ],
            [
             0.1111111111111111,
             "#46039f"
            ],
            [
             0.2222222222222222,
             "#7201a8"
            ],
            [
             0.3333333333333333,
             "#9c179e"
            ],
            [
             0.4444444444444444,
             "#bd3786"
            ],
            [
             0.5555555555555556,
             "#d8576b"
            ],
            [
             0.6666666666666666,
             "#ed7953"
            ],
            [
             0.7777777777777778,
             "#fb9f3a"
            ],
            [
             0.8888888888888888,
             "#fdca26"
            ],
            [
             1,
             "#f0f921"
            ]
           ]
          },
          "colorway": [
           "#636efa",
           "#EF553B",
           "#00cc96",
           "#ab63fa",
           "#FFA15A",
           "#19d3f3",
           "#FF6692",
           "#B6E880",
           "#FF97FF",
           "#FECB52"
          ],
          "font": {
           "color": "#2a3f5f"
          },
          "geo": {
           "bgcolor": "white",
           "lakecolor": "white",
           "landcolor": "#E5ECF6",
           "showlakes": true,
           "showland": true,
           "subunitcolor": "white"
          },
          "hoverlabel": {
           "align": "left"
          },
          "hovermode": "closest",
          "mapbox": {
           "style": "light"
          },
          "paper_bgcolor": "white",
          "plot_bgcolor": "#E5ECF6",
          "polar": {
           "angularaxis": {
            "gridcolor": "white",
            "linecolor": "white",
            "ticks": ""
           },
           "bgcolor": "#E5ECF6",
           "radialaxis": {
            "gridcolor": "white",
            "linecolor": "white",
            "ticks": ""
           }
          },
          "scene": {
           "xaxis": {
            "backgroundcolor": "#E5ECF6",
            "gridcolor": "white",
            "gridwidth": 2,
            "linecolor": "white",
            "showbackground": true,
            "ticks": "",
            "zerolinecolor": "white"
           },
           "yaxis": {
            "backgroundcolor": "#E5ECF6",
            "gridcolor": "white",
            "gridwidth": 2,
            "linecolor": "white",
            "showbackground": true,
            "ticks": "",
            "zerolinecolor": "white"
           },
           "zaxis": {
            "backgroundcolor": "#E5ECF6",
            "gridcolor": "white",
            "gridwidth": 2,
            "linecolor": "white",
            "showbackground": true,
            "ticks": "",
            "zerolinecolor": "white"
           }
          },
          "shapedefaults": {
           "line": {
            "color": "#2a3f5f"
           }
          },
          "ternary": {
           "aaxis": {
            "gridcolor": "white",
            "linecolor": "white",
            "ticks": ""
           },
           "baxis": {
            "gridcolor": "white",
            "linecolor": "white",
            "ticks": ""
           },
           "bgcolor": "#E5ECF6",
           "caxis": {
            "gridcolor": "white",
            "linecolor": "white",
            "ticks": ""
           }
          },
          "title": {
           "x": 0.05
          },
          "xaxis": {
           "automargin": true,
           "gridcolor": "white",
           "linecolor": "white",
           "ticks": "",
           "title": {
            "standoff": 15
           },
           "zerolinecolor": "white",
           "zerolinewidth": 2
          },
          "yaxis": {
           "automargin": true,
           "gridcolor": "white",
           "linecolor": "white",
           "ticks": "",
           "title": {
            "standoff": 15
           },
           "zerolinecolor": "white",
           "zerolinewidth": 2
          }
         }
        },
        "xaxis": {
         "anchor": "y",
         "domain": [
          0,
          1
         ],
         "title": {
          "text": "assessed_primary"
         }
        },
        "yaxis": {
         "anchor": "x",
         "domain": [
          0,
          1
         ],
         "title": {
          "text": "P3_UID"
         }
        }
       }
      }
     },
     "metadata": {},
     "output_type": "display_data"
    }
   ],
   "source": [
    "fig = px.bar(df_grouped, x ='assessed_primary', y = 'P3_UID', color = 'ar' )\n",
    "fig.show()"
   ]
  },
  {
   "cell_type": "markdown",
   "metadata": {},
   "source": [
    "# Decision tree diagram"
   ]
  },
  {
   "cell_type": "code",
   "execution_count": 27,
   "metadata": {},
   "outputs": [],
   "source": [
    "df_one_primary_one_zero\n",
    "df_sankey = {'source':[0,1,2,2,1,5,6,6,8,8, 5, 11,11,0, 14,15,15,17,17,14,21,21],\n",
    "            'target':[ 1,2,3,4,5,6,7,8,9,10,11,12,13,21,15,16,17,18,19,20,14,22],\n",
    "            'value':[df_no_primary.shape[0],df_no_evidence.shape[0],df_no_evidence_zero.shape[0],df_no_evidence_no_zero.shape[0],df_secondary.shape[0],df_secondary_zero.shape[0],\n",
    "                    df_secondary_plural_zero.shape[0],df_secondary_one_zero.shape[0],df_secondary_one_zero_not_named.shape[0],df_secondary_one_zero_named.shape[0],\n",
    "                    df_secondary_no_zero.shape[0],df_secondary_no_zero_not_named.shape[0],df_secondary_no_zero_named.shape[0],df_primary.shape[0],\n",
    "                    df_one_primary_zero.shape[0],df_one_primary_plural_zero.shape[0],df_one_primary_one_zero.shape[0],df_primary_one_zero_not_named.shape[0],df_one_primary_one_zero_named.shape[0],\n",
    "                    df_one_primary_no_zero.shape[0],df_primary_one.shape[0],df_primary_two.shape[0]],\n",
    "            'colour':['#fb9985','#fb9985','#fb9985','#AFE1AF','#AFE1AF','#fb9985','#fb9985','#AFE1AF','#fb9985','#AFE1AF','#AFE1AF','#fb9985','#AFE1AF','#AFE1AF','#fb9985','#fb9985','#AFE1AF',\n",
    "                '#fb9985','#AFE1AF','#AFE1AF','#fb9985','#AFE1AF'],\n",
    "            'name':['primary source present?','secondary source present?','less than one zero present?','Contains zero','No zeros present','less than one zero present?','Only one zero?',\n",
    "                'Multiple zeros present','Named?','Not named','Named','Named?','Not named','Named','less than one zero present?','Only one zero?','Multiple zeros present','Named?',\n",
    "                'Not named','Named','No zeros present','Two primary sources present?','Two primary sources present'],\n",
    "            'node_colour':['#ded6e2','#ded6e2','#ded6e2','#d0311a','#f8a54f','#ded6e2','#ded6e2','#d0311a','#ded6e2','#f8a54f','#f8a54f','#ded6e2','#f8a54f','#2ea411','#ded6e2','#ded6e2','#d0311a','#ded6e2',\n",
    "                '#f8a54f','#2ea411','#2ea411','#ded6e2','#2ea411']}"
   ]
  },
  {
   "cell_type": "code",
   "execution_count": 28,
   "metadata": {},
   "outputs": [
    {
     "data": {
      "application/vnd.plotly.v1+json": {
       "config": {
        "plotlyServerURL": "https://plot.ly"
       },
       "data": [
        {
         "link": {
          "color": [
           "#fb9985",
           "#fb9985",
           "#fb9985",
           "#AFE1AF",
           "#AFE1AF",
           "#fb9985",
           "#fb9985",
           "#AFE1AF",
           "#fb9985",
           "#AFE1AF",
           "#AFE1AF",
           "#fb9985",
           "#AFE1AF",
           "#AFE1AF",
           "#fb9985",
           "#fb9985",
           "#AFE1AF",
           "#fb9985",
           "#AFE1AF",
           "#AFE1AF",
           "#fb9985",
           "#AFE1AF"
          ],
          "source": [
           0,
           1,
           2,
           2,
           1,
           5,
           6,
           6,
           8,
           8,
           5,
           11,
           11,
           0,
           14,
           15,
           15,
           17,
           17,
           14,
           21,
           21
          ],
          "target": [
           1,
           2,
           3,
           4,
           5,
           6,
           7,
           8,
           9,
           10,
           11,
           12,
           13,
           21,
           15,
           16,
           17,
           18,
           19,
           20,
           14,
           22
          ],
          "value": [
           1387,
           1339,
           1339,
           0,
           48,
           48,
           45,
           3,
           0,
           3,
           0,
           0,
           0,
           5625,
           2065,
           1362,
           703,
           339,
           463,
           39,
           2104,
           3521
          ]
         },
         "node": {
          "color": [
           "#ded6e2",
           "#ded6e2",
           "#ded6e2",
           "#d0311a",
           "#f8a54f",
           "#ded6e2",
           "#ded6e2",
           "#d0311a",
           "#ded6e2",
           "#f8a54f",
           "#f8a54f",
           "#ded6e2",
           "#f8a54f",
           "#2ea411",
           "#ded6e2",
           "#ded6e2",
           "#d0311a",
           "#ded6e2",
           "#f8a54f",
           "#2ea411",
           "#2ea411",
           "#ded6e2",
           "#2ea411"
          ],
          "label": [
           "primary source present?",
           "secondary source present?",
           "less than one zero present?",
           "Contains zero",
           "No zeros present",
           "less than one zero present?",
           "Only one zero?",
           "Multiple zeros present",
           "Named?",
           "Not named",
           "Named",
           "Named?",
           "Not named",
           "Named",
           "less than one zero present?",
           "Only one zero?",
           "Multiple zeros present",
           "Named?",
           "Not named",
           "Named",
           "No zeros present",
           "Two primary sources present?",
           "Two primary sources present"
          ],
          "pad": 15,
          "thickness": 20
         },
         "type": "sankey"
        }
       ],
       "layout": {
        "font": {
         "size": 10
        },
        "template": {
         "data": {
          "bar": [
           {
            "error_x": {
             "color": "#2a3f5f"
            },
            "error_y": {
             "color": "#2a3f5f"
            },
            "marker": {
             "line": {
              "color": "#E5ECF6",
              "width": 0.5
             },
             "pattern": {
              "fillmode": "overlay",
              "size": 10,
              "solidity": 0.2
             }
            },
            "type": "bar"
           }
          ],
          "barpolar": [
           {
            "marker": {
             "line": {
              "color": "#E5ECF6",
              "width": 0.5
             },
             "pattern": {
              "fillmode": "overlay",
              "size": 10,
              "solidity": 0.2
             }
            },
            "type": "barpolar"
           }
          ],
          "carpet": [
           {
            "aaxis": {
             "endlinecolor": "#2a3f5f",
             "gridcolor": "white",
             "linecolor": "white",
             "minorgridcolor": "white",
             "startlinecolor": "#2a3f5f"
            },
            "baxis": {
             "endlinecolor": "#2a3f5f",
             "gridcolor": "white",
             "linecolor": "white",
             "minorgridcolor": "white",
             "startlinecolor": "#2a3f5f"
            },
            "type": "carpet"
           }
          ],
          "choropleth": [
           {
            "colorbar": {
             "outlinewidth": 0,
             "ticks": ""
            },
            "type": "choropleth"
           }
          ],
          "contour": [
           {
            "colorbar": {
             "outlinewidth": 0,
             "ticks": ""
            },
            "colorscale": [
             [
              0,
              "#0d0887"
             ],
             [
              0.1111111111111111,
              "#46039f"
             ],
             [
              0.2222222222222222,
              "#7201a8"
             ],
             [
              0.3333333333333333,
              "#9c179e"
             ],
             [
              0.4444444444444444,
              "#bd3786"
             ],
             [
              0.5555555555555556,
              "#d8576b"
             ],
             [
              0.6666666666666666,
              "#ed7953"
             ],
             [
              0.7777777777777778,
              "#fb9f3a"
             ],
             [
              0.8888888888888888,
              "#fdca26"
             ],
             [
              1,
              "#f0f921"
             ]
            ],
            "type": "contour"
           }
          ],
          "contourcarpet": [
           {
            "colorbar": {
             "outlinewidth": 0,
             "ticks": ""
            },
            "type": "contourcarpet"
           }
          ],
          "heatmap": [
           {
            "colorbar": {
             "outlinewidth": 0,
             "ticks": ""
            },
            "colorscale": [
             [
              0,
              "#0d0887"
             ],
             [
              0.1111111111111111,
              "#46039f"
             ],
             [
              0.2222222222222222,
              "#7201a8"
             ],
             [
              0.3333333333333333,
              "#9c179e"
             ],
             [
              0.4444444444444444,
              "#bd3786"
             ],
             [
              0.5555555555555556,
              "#d8576b"
             ],
             [
              0.6666666666666666,
              "#ed7953"
             ],
             [
              0.7777777777777778,
              "#fb9f3a"
             ],
             [
              0.8888888888888888,
              "#fdca26"
             ],
             [
              1,
              "#f0f921"
             ]
            ],
            "type": "heatmap"
           }
          ],
          "histogram": [
           {
            "marker": {
             "pattern": {
              "fillmode": "overlay",
              "size": 10,
              "solidity": 0.2
             }
            },
            "type": "histogram"
           }
          ],
          "histogram2d": [
           {
            "colorbar": {
             "outlinewidth": 0,
             "ticks": ""
            },
            "colorscale": [
             [
              0,
              "#0d0887"
             ],
             [
              0.1111111111111111,
              "#46039f"
             ],
             [
              0.2222222222222222,
              "#7201a8"
             ],
             [
              0.3333333333333333,
              "#9c179e"
             ],
             [
              0.4444444444444444,
              "#bd3786"
             ],
             [
              0.5555555555555556,
              "#d8576b"
             ],
             [
              0.6666666666666666,
              "#ed7953"
             ],
             [
              0.7777777777777778,
              "#fb9f3a"
             ],
             [
              0.8888888888888888,
              "#fdca26"
             ],
             [
              1,
              "#f0f921"
             ]
            ],
            "type": "histogram2d"
           }
          ],
          "histogram2dcontour": [
           {
            "colorbar": {
             "outlinewidth": 0,
             "ticks": ""
            },
            "colorscale": [
             [
              0,
              "#0d0887"
             ],
             [
              0.1111111111111111,
              "#46039f"
             ],
             [
              0.2222222222222222,
              "#7201a8"
             ],
             [
              0.3333333333333333,
              "#9c179e"
             ],
             [
              0.4444444444444444,
              "#bd3786"
             ],
             [
              0.5555555555555556,
              "#d8576b"
             ],
             [
              0.6666666666666666,
              "#ed7953"
             ],
             [
              0.7777777777777778,
              "#fb9f3a"
             ],
             [
              0.8888888888888888,
              "#fdca26"
             ],
             [
              1,
              "#f0f921"
             ]
            ],
            "type": "histogram2dcontour"
           }
          ],
          "mesh3d": [
           {
            "colorbar": {
             "outlinewidth": 0,
             "ticks": ""
            },
            "type": "mesh3d"
           }
          ],
          "parcoords": [
           {
            "line": {
             "colorbar": {
              "outlinewidth": 0,
              "ticks": ""
             }
            },
            "type": "parcoords"
           }
          ],
          "pie": [
           {
            "automargin": true,
            "type": "pie"
           }
          ],
          "scatter": [
           {
            "fillpattern": {
             "fillmode": "overlay",
             "size": 10,
             "solidity": 0.2
            },
            "type": "scatter"
           }
          ],
          "scatter3d": [
           {
            "line": {
             "colorbar": {
              "outlinewidth": 0,
              "ticks": ""
             }
            },
            "marker": {
             "colorbar": {
              "outlinewidth": 0,
              "ticks": ""
             }
            },
            "type": "scatter3d"
           }
          ],
          "scattercarpet": [
           {
            "marker": {
             "colorbar": {
              "outlinewidth": 0,
              "ticks": ""
             }
            },
            "type": "scattercarpet"
           }
          ],
          "scattergeo": [
           {
            "marker": {
             "colorbar": {
              "outlinewidth": 0,
              "ticks": ""
             }
            },
            "type": "scattergeo"
           }
          ],
          "scattergl": [
           {
            "marker": {
             "colorbar": {
              "outlinewidth": 0,
              "ticks": ""
             }
            },
            "type": "scattergl"
           }
          ],
          "scattermap": [
           {
            "marker": {
             "colorbar": {
              "outlinewidth": 0,
              "ticks": ""
             }
            },
            "type": "scattermap"
           }
          ],
          "scattermapbox": [
           {
            "marker": {
             "colorbar": {
              "outlinewidth": 0,
              "ticks": ""
             }
            },
            "type": "scattermapbox"
           }
          ],
          "scatterpolar": [
           {
            "marker": {
             "colorbar": {
              "outlinewidth": 0,
              "ticks": ""
             }
            },
            "type": "scatterpolar"
           }
          ],
          "scatterpolargl": [
           {
            "marker": {
             "colorbar": {
              "outlinewidth": 0,
              "ticks": ""
             }
            },
            "type": "scatterpolargl"
           }
          ],
          "scatterternary": [
           {
            "marker": {
             "colorbar": {
              "outlinewidth": 0,
              "ticks": ""
             }
            },
            "type": "scatterternary"
           }
          ],
          "surface": [
           {
            "colorbar": {
             "outlinewidth": 0,
             "ticks": ""
            },
            "colorscale": [
             [
              0,
              "#0d0887"
             ],
             [
              0.1111111111111111,
              "#46039f"
             ],
             [
              0.2222222222222222,
              "#7201a8"
             ],
             [
              0.3333333333333333,
              "#9c179e"
             ],
             [
              0.4444444444444444,
              "#bd3786"
             ],
             [
              0.5555555555555556,
              "#d8576b"
             ],
             [
              0.6666666666666666,
              "#ed7953"
             ],
             [
              0.7777777777777778,
              "#fb9f3a"
             ],
             [
              0.8888888888888888,
              "#fdca26"
             ],
             [
              1,
              "#f0f921"
             ]
            ],
            "type": "surface"
           }
          ],
          "table": [
           {
            "cells": {
             "fill": {
              "color": "#EBF0F8"
             },
             "line": {
              "color": "white"
             }
            },
            "header": {
             "fill": {
              "color": "#C8D4E3"
             },
             "line": {
              "color": "white"
             }
            },
            "type": "table"
           }
          ]
         },
         "layout": {
          "annotationdefaults": {
           "arrowcolor": "#2a3f5f",
           "arrowhead": 0,
           "arrowwidth": 1
          },
          "autotypenumbers": "strict",
          "coloraxis": {
           "colorbar": {
            "outlinewidth": 0,
            "ticks": ""
           }
          },
          "colorscale": {
           "diverging": [
            [
             0,
             "#8e0152"
            ],
            [
             0.1,
             "#c51b7d"
            ],
            [
             0.2,
             "#de77ae"
            ],
            [
             0.3,
             "#f1b6da"
            ],
            [
             0.4,
             "#fde0ef"
            ],
            [
             0.5,
             "#f7f7f7"
            ],
            [
             0.6,
             "#e6f5d0"
            ],
            [
             0.7,
             "#b8e186"
            ],
            [
             0.8,
             "#7fbc41"
            ],
            [
             0.9,
             "#4d9221"
            ],
            [
             1,
             "#276419"
            ]
           ],
           "sequential": [
            [
             0,
             "#0d0887"
            ],
            [
             0.1111111111111111,
             "#46039f"
            ],
            [
             0.2222222222222222,
             "#7201a8"
            ],
            [
             0.3333333333333333,
             "#9c179e"
            ],
            [
             0.4444444444444444,
             "#bd3786"
            ],
            [
             0.5555555555555556,
             "#d8576b"
            ],
            [
             0.6666666666666666,
             "#ed7953"
            ],
            [
             0.7777777777777778,
             "#fb9f3a"
            ],
            [
             0.8888888888888888,
             "#fdca26"
            ],
            [
             1,
             "#f0f921"
            ]
           ],
           "sequentialminus": [
            [
             0,
             "#0d0887"
            ],
            [
             0.1111111111111111,
             "#46039f"
            ],
            [
             0.2222222222222222,
             "#7201a8"
            ],
            [
             0.3333333333333333,
             "#9c179e"
            ],
            [
             0.4444444444444444,
             "#bd3786"
            ],
            [
             0.5555555555555556,
             "#d8576b"
            ],
            [
             0.6666666666666666,
             "#ed7953"
            ],
            [
             0.7777777777777778,
             "#fb9f3a"
            ],
            [
             0.8888888888888888,
             "#fdca26"
            ],
            [
             1,
             "#f0f921"
            ]
           ]
          },
          "colorway": [
           "#636efa",
           "#EF553B",
           "#00cc96",
           "#ab63fa",
           "#FFA15A",
           "#19d3f3",
           "#FF6692",
           "#B6E880",
           "#FF97FF",
           "#FECB52"
          ],
          "font": {
           "color": "#2a3f5f"
          },
          "geo": {
           "bgcolor": "white",
           "lakecolor": "white",
           "landcolor": "#E5ECF6",
           "showlakes": true,
           "showland": true,
           "subunitcolor": "white"
          },
          "hoverlabel": {
           "align": "left"
          },
          "hovermode": "closest",
          "mapbox": {
           "style": "light"
          },
          "paper_bgcolor": "white",
          "plot_bgcolor": "#E5ECF6",
          "polar": {
           "angularaxis": {
            "gridcolor": "white",
            "linecolor": "white",
            "ticks": ""
           },
           "bgcolor": "#E5ECF6",
           "radialaxis": {
            "gridcolor": "white",
            "linecolor": "white",
            "ticks": ""
           }
          },
          "scene": {
           "xaxis": {
            "backgroundcolor": "#E5ECF6",
            "gridcolor": "white",
            "gridwidth": 2,
            "linecolor": "white",
            "showbackground": true,
            "ticks": "",
            "zerolinecolor": "white"
           },
           "yaxis": {
            "backgroundcolor": "#E5ECF6",
            "gridcolor": "white",
            "gridwidth": 2,
            "linecolor": "white",
            "showbackground": true,
            "ticks": "",
            "zerolinecolor": "white"
           },
           "zaxis": {
            "backgroundcolor": "#E5ECF6",
            "gridcolor": "white",
            "gridwidth": 2,
            "linecolor": "white",
            "showbackground": true,
            "ticks": "",
            "zerolinecolor": "white"
           }
          },
          "shapedefaults": {
           "line": {
            "color": "#2a3f5f"
           }
          },
          "ternary": {
           "aaxis": {
            "gridcolor": "white",
            "linecolor": "white",
            "ticks": ""
           },
           "baxis": {
            "gridcolor": "white",
            "linecolor": "white",
            "ticks": ""
           },
           "bgcolor": "#E5ECF6",
           "caxis": {
            "gridcolor": "white",
            "linecolor": "white",
            "ticks": ""
           }
          },
          "title": {
           "x": 0.05
          },
          "xaxis": {
           "automargin": true,
           "gridcolor": "white",
           "linecolor": "white",
           "ticks": "",
           "title": {
            "standoff": 15
           },
           "zerolinecolor": "white",
           "zerolinewidth": 2
          },
          "yaxis": {
           "automargin": true,
           "gridcolor": "white",
           "linecolor": "white",
           "ticks": "",
           "title": {
            "standoff": 15
           },
           "zerolinecolor": "white",
           "zerolinewidth": 2
          }
         }
        },
        "title": {
         "text": "AWI Decision Tree"
        }
       }
      }
     },
     "metadata": {},
     "output_type": "display_data"
    }
   ],
   "source": [
    "\n",
    "fig = go.Figure(data=[go.Sankey(\n",
    "    node = dict(\n",
    "      pad = 15,\n",
    "      thickness = 20,\n",
    "     # line = dict(color = \"black\", width = 0.5),\n",
    "      label =df_sankey['name'],\n",
    "      color = df_sankey['node_colour']\n",
    "    ),\n",
    "    link = dict(\n",
    "      source = df_sankey['source'], # indices correspond to labels, eg A1, A2, A1, B1, ...\n",
    "      target = df_sankey['target'],\n",
    "      value = df_sankey['value'],\n",
    "      color = df_sankey['colour']\n",
    "  ))])\n",
    "\n",
    "fig.update_layout(title_text=\"AWI Decision Tree\", font_size=10)\n",
    "fig.show()"
   ]
  },
  {
   "cell_type": "code",
   "execution_count": null,
   "metadata": {},
   "outputs": [],
   "source": []
  }
 ],
 "metadata": {
  "kernelspec": {
   "display_name": "venv",
   "language": "python",
   "name": "python3"
  },
  "language_info": {
   "codemirror_mode": {
    "name": "ipython",
    "version": 3
   },
   "file_extension": ".py",
   "mimetype": "text/x-python",
   "name": "python",
   "nbconvert_exporter": "python",
   "pygments_lexer": "ipython3",
   "version": "3.13.2"
  }
 },
 "nbformat": 4,
 "nbformat_minor": 2
}
